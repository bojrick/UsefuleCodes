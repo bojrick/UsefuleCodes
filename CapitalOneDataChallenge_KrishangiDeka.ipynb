{
  "nbformat": 4,
  "nbformat_minor": 0,
  "metadata": {
    "colab": {
      "provenance": [],
      "collapsed_sections": [
        "7MULcBJXlVNT"
      ]
    },
    "kernelspec": {
      "display_name": "Python 3",
      "language": "python",
      "name": "python3"
    },
    "language_info": {
      "codemirror_mode": {
        "name": "ipython",
        "version": 3
      },
      "file_extension": ".py",
      "mimetype": "text/x-python",
      "name": "python",
      "nbconvert_exporter": "python",
      "pygments_lexer": "ipython3",
      "version": "3.9.5"
    }
  },
  "cells": [
    {
      "cell_type": "markdown",
      "metadata": {
        "id": "u6XCfq5x46Lz"
      },
      "source": [
        "<h2><h2 align = \"middle\"><b>United States Airline Company</b></h2>"
      ]
    },
    {
      "cell_type": "markdown",
      "metadata": {
        "id": "LbmcHks16QGv"
      },
      "source": [
        "## **Introduction** \n",
        "A United States airline company aims to enter the domestic market and has decided to start with 5 round trip routes between medium and large airports. In this challenge, three datasets have been used which provide information about flights, tickets and airports for the 1st quarter of the year 2019.   \n",
        "<br>\n",
        "\n",
        "\n",
        "**Business Objectives**\n",
        "1. Using flights data consisting of competitor's flight information, find the most profitable routes which could be suggested to the airline company to build their business. \n",
        "2. Identifying key performance indicators for round trip routes that would help the company track their success in the future. Provide recommendations and statistical reasoning behind chosing the KPIs for the best routes.  \n",
        "<br>\n",
        "<br>\n",
        "\n",
        "**Data Used**\n",
        "1. Flights: Provides information about different operating carriers throughout the quarter. Consists of ~1.9 million rows and 16 feature variables.\n",
        "2. Tickets: Provides passenger information travelling from one place to another. Consists of ~1.1 million rows and 12 feature variables. This is a sample data. \n",
        "3. Airport Codes: Provides airport information. Consists of ~55000 rows and 8 columns. The dataset has 52426 unique airport information.\n",
        "<br>\n",
        "<br>\n",
        "\n",
        "**Assumptions**\n",
        "1. Each airplane is dedicated to one round trip route between the 2 airports for Tickets dataset.\n",
        "2. Cost Calcuation for total round trip considers Distance from Origin-> Destination and Destination -> Origin. Hence, Multiplied by 2.\n",
        "3. Quarterly occupancy rates are same throughout the quarter.\n"
      ]
    },
    {
      "cell_type": "markdown",
      "metadata": {
        "id": "SrxQJ6zpSe1O"
      },
      "source": [
        "## **Import data and libraries**"
      ]
    },
    {
      "cell_type": "code",
      "metadata": {
        "colab": {
          "base_uri": "https://localhost:8080/"
        },
        "id": "RNiFHy7DSe1O",
        "outputId": "e26e454d-b990-4fbd-c18c-e581ddf1b784"
      },
      "source": [
        "# Unzipping and load data from GitHub repository\n",
        "%%sh\n",
        "wget -qq https://github.com/CapitalOneRecruiting/DA-Airline-Data-Challenge/blob/main/data.zip?raw=true\n",
        "unzip \"/content/data.zip?raw=true\""
      ],
      "execution_count": 1,
      "outputs": [
        {
          "output_type": "stream",
          "name": "stdout",
          "text": [
            "Archive:  /content/data.zip?raw=true\n",
            "  inflating: Airline_Challenge_Metadata.xlsx  \n",
            "  inflating: __MACOSX/._Airline_Challenge_Metadata.xlsx  \n",
            "  inflating: Airport_Codes.csv       \n",
            "  inflating: __MACOSX/._Airport_Codes.csv  \n",
            "  inflating: Flights.csv             \n",
            "  inflating: __MACOSX/._Flights.csv  \n",
            "  inflating: Tickets.csv             \n",
            "  inflating: __MACOSX/._Tickets.csv  \n"
          ]
        }
      ]
    },
    {
      "cell_type": "code",
      "metadata": {
        "id": "1nwJPOdGSe1O"
      },
      "source": [
        "# Importing libraries\n",
        "import warnings\n",
        "warnings.filterwarnings(\"ignore\")\n",
        "import pandas as pd\n",
        "import numpy as np\n",
        "from collections import Counter\n",
        "import plotly\n",
        "import plotly.express as px\n",
        "import plotly.graph_objects as go\n",
        "from plotly.subplots import make_subplots\n",
        "\n",
        "# plotly.offline.init_notebook_mode(connected=True)"
      ],
      "execution_count": 2,
      "outputs": []
    },
    {
      "cell_type": "markdown",
      "metadata": {
        "id": "_aDWIW2mSqZd"
      },
      "source": [
        "## **Reading Data Files**"
      ]
    },
    {
      "cell_type": "code",
      "metadata": {
        "id": "Gc7zbvjASqZe"
      },
      "source": [
        "flights = pd.read_csv('Flights.csv', low_memory=False)\n",
        "ac = pd.read_csv('Airport_Codes.csv')\n",
        "tickets = pd.read_csv(\"Tickets.csv\")"
      ],
      "execution_count": 3,
      "outputs": []
    },
    {
      "cell_type": "markdown",
      "metadata": {
        "id": "57cW9GZTOGgi"
      },
      "source": [
        "## **Data Pre-Processing**"
      ]
    },
    {
      "cell_type": "markdown",
      "metadata": {
        "id": "TsWW4rFaDw9j"
      },
      "source": [
        "**Identifying nulls:**"
      ]
    },
    {
      "cell_type": "code",
      "metadata": {
        "colab": {
          "base_uri": "https://localhost:8080/",
          "height": 193
        },
        "id": "clbxbo2OD3Xa",
        "outputId": "491c1421-c851-4a7b-c2d1-00a3927fa767"
      },
      "source": [
        "# Checking for na values in the Flights Dataset\n",
        "na_flights = pd.DataFrame(flights.isna().sum())\n",
        "na_flights.insert(1,\"% na values\",na_flights.values*100/flights.shape[0])  \n",
        "na_flights.transpose()"
      ],
      "execution_count": 4,
      "outputs": [
        {
          "output_type": "execute_result",
          "data": {
            "text/plain": [
              "             FL_DATE  OP_CARRIER      TAIL_NUM  OP_CARRIER_FL_NUM  \\\n",
              "0                0.0         0.0  12156.000000                0.0   \n",
              "% na values      0.0         0.0      0.634485                0.0   \n",
              "\n",
              "             ORIGIN_AIRPORT_ID  ORIGIN  ORIGIN_CITY_NAME  DEST_AIRPORT_ID  \\\n",
              "0                          0.0     0.0               0.0              0.0   \n",
              "% na values                0.0     0.0               0.0              0.0   \n",
              "\n",
              "             DESTINATION  DEST_CITY_NAME     DEP_DELAY    ARR_DELAY  \\\n",
              "0                    0.0             0.0  50351.000000  55991.00000   \n",
              "% na values          0.0             0.0      2.628079      2.92246   \n",
              "\n",
              "             CANCELLED      AIR_TIME    DISTANCE  OCCUPANCY_RATE  \n",
              "0                  0.0  56551.000000  630.000000      310.000000  \n",
              "% na values        0.0      2.951689    0.032883        0.016181  "
            ],
            "text/html": [
              "\n",
              "  <div id=\"df-00186373-7ffa-4f9b-88c2-98598980284f\">\n",
              "    <div class=\"colab-df-container\">\n",
              "      <div>\n",
              "<style scoped>\n",
              "    .dataframe tbody tr th:only-of-type {\n",
              "        vertical-align: middle;\n",
              "    }\n",
              "\n",
              "    .dataframe tbody tr th {\n",
              "        vertical-align: top;\n",
              "    }\n",
              "\n",
              "    .dataframe thead th {\n",
              "        text-align: right;\n",
              "    }\n",
              "</style>\n",
              "<table border=\"1\" class=\"dataframe\">\n",
              "  <thead>\n",
              "    <tr style=\"text-align: right;\">\n",
              "      <th></th>\n",
              "      <th>FL_DATE</th>\n",
              "      <th>OP_CARRIER</th>\n",
              "      <th>TAIL_NUM</th>\n",
              "      <th>OP_CARRIER_FL_NUM</th>\n",
              "      <th>ORIGIN_AIRPORT_ID</th>\n",
              "      <th>ORIGIN</th>\n",
              "      <th>ORIGIN_CITY_NAME</th>\n",
              "      <th>DEST_AIRPORT_ID</th>\n",
              "      <th>DESTINATION</th>\n",
              "      <th>DEST_CITY_NAME</th>\n",
              "      <th>DEP_DELAY</th>\n",
              "      <th>ARR_DELAY</th>\n",
              "      <th>CANCELLED</th>\n",
              "      <th>AIR_TIME</th>\n",
              "      <th>DISTANCE</th>\n",
              "      <th>OCCUPANCY_RATE</th>\n",
              "    </tr>\n",
              "  </thead>\n",
              "  <tbody>\n",
              "    <tr>\n",
              "      <th>0</th>\n",
              "      <td>0.0</td>\n",
              "      <td>0.0</td>\n",
              "      <td>12156.000000</td>\n",
              "      <td>0.0</td>\n",
              "      <td>0.0</td>\n",
              "      <td>0.0</td>\n",
              "      <td>0.0</td>\n",
              "      <td>0.0</td>\n",
              "      <td>0.0</td>\n",
              "      <td>0.0</td>\n",
              "      <td>50351.000000</td>\n",
              "      <td>55991.00000</td>\n",
              "      <td>0.0</td>\n",
              "      <td>56551.000000</td>\n",
              "      <td>630.000000</td>\n",
              "      <td>310.000000</td>\n",
              "    </tr>\n",
              "    <tr>\n",
              "      <th>% na values</th>\n",
              "      <td>0.0</td>\n",
              "      <td>0.0</td>\n",
              "      <td>0.634485</td>\n",
              "      <td>0.0</td>\n",
              "      <td>0.0</td>\n",
              "      <td>0.0</td>\n",
              "      <td>0.0</td>\n",
              "      <td>0.0</td>\n",
              "      <td>0.0</td>\n",
              "      <td>0.0</td>\n",
              "      <td>2.628079</td>\n",
              "      <td>2.92246</td>\n",
              "      <td>0.0</td>\n",
              "      <td>2.951689</td>\n",
              "      <td>0.032883</td>\n",
              "      <td>0.016181</td>\n",
              "    </tr>\n",
              "  </tbody>\n",
              "</table>\n",
              "</div>\n",
              "      <button class=\"colab-df-convert\" onclick=\"convertToInteractive('df-00186373-7ffa-4f9b-88c2-98598980284f')\"\n",
              "              title=\"Convert this dataframe to an interactive table.\"\n",
              "              style=\"display:none;\">\n",
              "        \n",
              "  <svg xmlns=\"http://www.w3.org/2000/svg\" height=\"24px\"viewBox=\"0 0 24 24\"\n",
              "       width=\"24px\">\n",
              "    <path d=\"M0 0h24v24H0V0z\" fill=\"none\"/>\n",
              "    <path d=\"M18.56 5.44l.94 2.06.94-2.06 2.06-.94-2.06-.94-.94-2.06-.94 2.06-2.06.94zm-11 1L8.5 8.5l.94-2.06 2.06-.94-2.06-.94L8.5 2.5l-.94 2.06-2.06.94zm10 10l.94 2.06.94-2.06 2.06-.94-2.06-.94-.94-2.06-.94 2.06-2.06.94z\"/><path d=\"M17.41 7.96l-1.37-1.37c-.4-.4-.92-.59-1.43-.59-.52 0-1.04.2-1.43.59L10.3 9.45l-7.72 7.72c-.78.78-.78 2.05 0 2.83L4 21.41c.39.39.9.59 1.41.59.51 0 1.02-.2 1.41-.59l7.78-7.78 2.81-2.81c.8-.78.8-2.07 0-2.86zM5.41 20L4 18.59l7.72-7.72 1.47 1.35L5.41 20z\"/>\n",
              "  </svg>\n",
              "      </button>\n",
              "      \n",
              "  <style>\n",
              "    .colab-df-container {\n",
              "      display:flex;\n",
              "      flex-wrap:wrap;\n",
              "      gap: 12px;\n",
              "    }\n",
              "\n",
              "    .colab-df-convert {\n",
              "      background-color: #E8F0FE;\n",
              "      border: none;\n",
              "      border-radius: 50%;\n",
              "      cursor: pointer;\n",
              "      display: none;\n",
              "      fill: #1967D2;\n",
              "      height: 32px;\n",
              "      padding: 0 0 0 0;\n",
              "      width: 32px;\n",
              "    }\n",
              "\n",
              "    .colab-df-convert:hover {\n",
              "      background-color: #E2EBFA;\n",
              "      box-shadow: 0px 1px 2px rgba(60, 64, 67, 0.3), 0px 1px 3px 1px rgba(60, 64, 67, 0.15);\n",
              "      fill: #174EA6;\n",
              "    }\n",
              "\n",
              "    [theme=dark] .colab-df-convert {\n",
              "      background-color: #3B4455;\n",
              "      fill: #D2E3FC;\n",
              "    }\n",
              "\n",
              "    [theme=dark] .colab-df-convert:hover {\n",
              "      background-color: #434B5C;\n",
              "      box-shadow: 0px 1px 3px 1px rgba(0, 0, 0, 0.15);\n",
              "      filter: drop-shadow(0px 1px 2px rgba(0, 0, 0, 0.3));\n",
              "      fill: #FFFFFF;\n",
              "    }\n",
              "  </style>\n",
              "\n",
              "      <script>\n",
              "        const buttonEl =\n",
              "          document.querySelector('#df-00186373-7ffa-4f9b-88c2-98598980284f button.colab-df-convert');\n",
              "        buttonEl.style.display =\n",
              "          google.colab.kernel.accessAllowed ? 'block' : 'none';\n",
              "\n",
              "        async function convertToInteractive(key) {\n",
              "          const element = document.querySelector('#df-00186373-7ffa-4f9b-88c2-98598980284f');\n",
              "          const dataTable =\n",
              "            await google.colab.kernel.invokeFunction('convertToInteractive',\n",
              "                                                     [key], {});\n",
              "          if (!dataTable) return;\n",
              "\n",
              "          const docLinkHtml = 'Like what you see? Visit the ' +\n",
              "            '<a target=\"_blank\" href=https://colab.research.google.com/notebooks/data_table.ipynb>data table notebook</a>'\n",
              "            + ' to learn more about interactive tables.';\n",
              "          element.innerHTML = '';\n",
              "          dataTable['output_type'] = 'display_data';\n",
              "          await google.colab.output.renderOutput(dataTable, element);\n",
              "          const docLink = document.createElement('div');\n",
              "          docLink.innerHTML = docLinkHtml;\n",
              "          element.appendChild(docLink);\n",
              "        }\n",
              "      </script>\n",
              "    </div>\n",
              "  </div>\n",
              "  "
            ]
          },
          "metadata": {},
          "execution_count": 4
        }
      ]
    },
    {
      "cell_type": "markdown",
      "metadata": {
        "id": "vElxqbpxMJTO"
      },
      "source": [
        "Since, the na values are very insignificant in amount (less than 3% of whole dataset), they can be dropped."
      ]
    },
    {
      "cell_type": "code",
      "metadata": {
        "colab": {
          "base_uri": "https://localhost:8080/",
          "height": 156
        },
        "id": "1kZNc5lwL1d0",
        "outputId": "a5ff0eaf-26bd-4924-8f87-5d6fff08068d"
      },
      "source": [
        "flights = flights.dropna()\n",
        "na_flights = pd.DataFrame(flights.isna().sum())\n",
        "na_flights.insert(1,\"% na values\",na_flights.values*100/flights.shape[0])  \n",
        "na_flights.transpose()"
      ],
      "execution_count": 5,
      "outputs": [
        {
          "output_type": "execute_result",
          "data": {
            "text/plain": [
              "             FL_DATE  OP_CARRIER  TAIL_NUM  OP_CARRIER_FL_NUM  \\\n",
              "0                0.0         0.0       0.0                0.0   \n",
              "% na values      0.0         0.0       0.0                0.0   \n",
              "\n",
              "             ORIGIN_AIRPORT_ID  ORIGIN  ORIGIN_CITY_NAME  DEST_AIRPORT_ID  \\\n",
              "0                          0.0     0.0               0.0              0.0   \n",
              "% na values                0.0     0.0               0.0              0.0   \n",
              "\n",
              "             DESTINATION  DEST_CITY_NAME  DEP_DELAY  ARR_DELAY  CANCELLED  \\\n",
              "0                    0.0             0.0        0.0        0.0        0.0   \n",
              "% na values          0.0             0.0        0.0        0.0        0.0   \n",
              "\n",
              "             AIR_TIME  DISTANCE  OCCUPANCY_RATE  \n",
              "0                 0.0       0.0             0.0  \n",
              "% na values       0.0       0.0             0.0  "
            ],
            "text/html": [
              "\n",
              "  <div id=\"df-534edb8e-9ba0-4176-a267-be412362fa90\">\n",
              "    <div class=\"colab-df-container\">\n",
              "      <div>\n",
              "<style scoped>\n",
              "    .dataframe tbody tr th:only-of-type {\n",
              "        vertical-align: middle;\n",
              "    }\n",
              "\n",
              "    .dataframe tbody tr th {\n",
              "        vertical-align: top;\n",
              "    }\n",
              "\n",
              "    .dataframe thead th {\n",
              "        text-align: right;\n",
              "    }\n",
              "</style>\n",
              "<table border=\"1\" class=\"dataframe\">\n",
              "  <thead>\n",
              "    <tr style=\"text-align: right;\">\n",
              "      <th></th>\n",
              "      <th>FL_DATE</th>\n",
              "      <th>OP_CARRIER</th>\n",
              "      <th>TAIL_NUM</th>\n",
              "      <th>OP_CARRIER_FL_NUM</th>\n",
              "      <th>ORIGIN_AIRPORT_ID</th>\n",
              "      <th>ORIGIN</th>\n",
              "      <th>ORIGIN_CITY_NAME</th>\n",
              "      <th>DEST_AIRPORT_ID</th>\n",
              "      <th>DESTINATION</th>\n",
              "      <th>DEST_CITY_NAME</th>\n",
              "      <th>DEP_DELAY</th>\n",
              "      <th>ARR_DELAY</th>\n",
              "      <th>CANCELLED</th>\n",
              "      <th>AIR_TIME</th>\n",
              "      <th>DISTANCE</th>\n",
              "      <th>OCCUPANCY_RATE</th>\n",
              "    </tr>\n",
              "  </thead>\n",
              "  <tbody>\n",
              "    <tr>\n",
              "      <th>0</th>\n",
              "      <td>0.0</td>\n",
              "      <td>0.0</td>\n",
              "      <td>0.0</td>\n",
              "      <td>0.0</td>\n",
              "      <td>0.0</td>\n",
              "      <td>0.0</td>\n",
              "      <td>0.0</td>\n",
              "      <td>0.0</td>\n",
              "      <td>0.0</td>\n",
              "      <td>0.0</td>\n",
              "      <td>0.0</td>\n",
              "      <td>0.0</td>\n",
              "      <td>0.0</td>\n",
              "      <td>0.0</td>\n",
              "      <td>0.0</td>\n",
              "      <td>0.0</td>\n",
              "    </tr>\n",
              "    <tr>\n",
              "      <th>% na values</th>\n",
              "      <td>0.0</td>\n",
              "      <td>0.0</td>\n",
              "      <td>0.0</td>\n",
              "      <td>0.0</td>\n",
              "      <td>0.0</td>\n",
              "      <td>0.0</td>\n",
              "      <td>0.0</td>\n",
              "      <td>0.0</td>\n",
              "      <td>0.0</td>\n",
              "      <td>0.0</td>\n",
              "      <td>0.0</td>\n",
              "      <td>0.0</td>\n",
              "      <td>0.0</td>\n",
              "      <td>0.0</td>\n",
              "      <td>0.0</td>\n",
              "      <td>0.0</td>\n",
              "    </tr>\n",
              "  </tbody>\n",
              "</table>\n",
              "</div>\n",
              "      <button class=\"colab-df-convert\" onclick=\"convertToInteractive('df-534edb8e-9ba0-4176-a267-be412362fa90')\"\n",
              "              title=\"Convert this dataframe to an interactive table.\"\n",
              "              style=\"display:none;\">\n",
              "        \n",
              "  <svg xmlns=\"http://www.w3.org/2000/svg\" height=\"24px\"viewBox=\"0 0 24 24\"\n",
              "       width=\"24px\">\n",
              "    <path d=\"M0 0h24v24H0V0z\" fill=\"none\"/>\n",
              "    <path d=\"M18.56 5.44l.94 2.06.94-2.06 2.06-.94-2.06-.94-.94-2.06-.94 2.06-2.06.94zm-11 1L8.5 8.5l.94-2.06 2.06-.94-2.06-.94L8.5 2.5l-.94 2.06-2.06.94zm10 10l.94 2.06.94-2.06 2.06-.94-2.06-.94-.94-2.06-.94 2.06-2.06.94z\"/><path d=\"M17.41 7.96l-1.37-1.37c-.4-.4-.92-.59-1.43-.59-.52 0-1.04.2-1.43.59L10.3 9.45l-7.72 7.72c-.78.78-.78 2.05 0 2.83L4 21.41c.39.39.9.59 1.41.59.51 0 1.02-.2 1.41-.59l7.78-7.78 2.81-2.81c.8-.78.8-2.07 0-2.86zM5.41 20L4 18.59l7.72-7.72 1.47 1.35L5.41 20z\"/>\n",
              "  </svg>\n",
              "      </button>\n",
              "      \n",
              "  <style>\n",
              "    .colab-df-container {\n",
              "      display:flex;\n",
              "      flex-wrap:wrap;\n",
              "      gap: 12px;\n",
              "    }\n",
              "\n",
              "    .colab-df-convert {\n",
              "      background-color: #E8F0FE;\n",
              "      border: none;\n",
              "      border-radius: 50%;\n",
              "      cursor: pointer;\n",
              "      display: none;\n",
              "      fill: #1967D2;\n",
              "      height: 32px;\n",
              "      padding: 0 0 0 0;\n",
              "      width: 32px;\n",
              "    }\n",
              "\n",
              "    .colab-df-convert:hover {\n",
              "      background-color: #E2EBFA;\n",
              "      box-shadow: 0px 1px 2px rgba(60, 64, 67, 0.3), 0px 1px 3px 1px rgba(60, 64, 67, 0.15);\n",
              "      fill: #174EA6;\n",
              "    }\n",
              "\n",
              "    [theme=dark] .colab-df-convert {\n",
              "      background-color: #3B4455;\n",
              "      fill: #D2E3FC;\n",
              "    }\n",
              "\n",
              "    [theme=dark] .colab-df-convert:hover {\n",
              "      background-color: #434B5C;\n",
              "      box-shadow: 0px 1px 3px 1px rgba(0, 0, 0, 0.15);\n",
              "      filter: drop-shadow(0px 1px 2px rgba(0, 0, 0, 0.3));\n",
              "      fill: #FFFFFF;\n",
              "    }\n",
              "  </style>\n",
              "\n",
              "      <script>\n",
              "        const buttonEl =\n",
              "          document.querySelector('#df-534edb8e-9ba0-4176-a267-be412362fa90 button.colab-df-convert');\n",
              "        buttonEl.style.display =\n",
              "          google.colab.kernel.accessAllowed ? 'block' : 'none';\n",
              "\n",
              "        async function convertToInteractive(key) {\n",
              "          const element = document.querySelector('#df-534edb8e-9ba0-4176-a267-be412362fa90');\n",
              "          const dataTable =\n",
              "            await google.colab.kernel.invokeFunction('convertToInteractive',\n",
              "                                                     [key], {});\n",
              "          if (!dataTable) return;\n",
              "\n",
              "          const docLinkHtml = 'Like what you see? Visit the ' +\n",
              "            '<a target=\"_blank\" href=https://colab.research.google.com/notebooks/data_table.ipynb>data table notebook</a>'\n",
              "            + ' to learn more about interactive tables.';\n",
              "          element.innerHTML = '';\n",
              "          dataTable['output_type'] = 'display_data';\n",
              "          await google.colab.output.renderOutput(dataTable, element);\n",
              "          const docLink = document.createElement('div');\n",
              "          docLink.innerHTML = docLinkHtml;\n",
              "          element.appendChild(docLink);\n",
              "        }\n",
              "      </script>\n",
              "    </div>\n",
              "  </div>\n",
              "  "
            ]
          },
          "metadata": {},
          "execution_count": 5
        }
      ]
    },
    {
      "cell_type": "code",
      "metadata": {
        "id": "I0h0nlswIG0B"
      },
      "source": [
        "# Checking for na values in the Tickets Dataset and dropping them since they are very insginificant compared to the whole dataset\n",
        "na_tckt = pd.DataFrame(tickets.isna().sum())\n",
        "na_tckt.insert(1,\"% na values\",na_tckt.values*100/tickets.shape[0])  \n",
        "na_tckt.transpose()\n",
        "\n",
        "tickets = tickets.dropna()"
      ],
      "execution_count": 6,
      "outputs": []
    },
    {
      "cell_type": "code",
      "metadata": {
        "colab": {
          "base_uri": "https://localhost:8080/",
          "height": 300
        },
        "id": "lp-Iwg77IWrx",
        "outputId": "94c250ca-b32e-4922-9805-a354be62f180"
      },
      "source": [
        "# Checking for na values in the Airport_Codes Dataset.\n",
        "na_ac = pd.DataFrame(ac.isna().sum())\n",
        "na_ac.insert(1,\"% na values\",na_ac.values*100/ac.shape[0])  \n",
        "na_ac\n",
        "\n",
        "# ac = ac.dropna()"
      ],
      "execution_count": 7,
      "outputs": [
        {
          "output_type": "execute_result",
          "data": {
            "text/plain": [
              "                  0  % na values\n",
              "TYPE              0     0.000000\n",
              "NAME              0     0.000000\n",
              "ELEVATION_FT   7015    12.669544\n",
              "CONTINENT     27843    50.286261\n",
              "ISO_COUNTRY     247     0.446098\n",
              "MUNICIPALITY   5706    10.305406\n",
              "IATA_CODE     46187    83.416713\n",
              "COORDINATES       0     0.000000"
            ],
            "text/html": [
              "\n",
              "  <div id=\"df-adb79db8-76d6-401d-ac9d-bb0ad5f35930\">\n",
              "    <div class=\"colab-df-container\">\n",
              "      <div>\n",
              "<style scoped>\n",
              "    .dataframe tbody tr th:only-of-type {\n",
              "        vertical-align: middle;\n",
              "    }\n",
              "\n",
              "    .dataframe tbody tr th {\n",
              "        vertical-align: top;\n",
              "    }\n",
              "\n",
              "    .dataframe thead th {\n",
              "        text-align: right;\n",
              "    }\n",
              "</style>\n",
              "<table border=\"1\" class=\"dataframe\">\n",
              "  <thead>\n",
              "    <tr style=\"text-align: right;\">\n",
              "      <th></th>\n",
              "      <th>0</th>\n",
              "      <th>% na values</th>\n",
              "    </tr>\n",
              "  </thead>\n",
              "  <tbody>\n",
              "    <tr>\n",
              "      <th>TYPE</th>\n",
              "      <td>0</td>\n",
              "      <td>0.000000</td>\n",
              "    </tr>\n",
              "    <tr>\n",
              "      <th>NAME</th>\n",
              "      <td>0</td>\n",
              "      <td>0.000000</td>\n",
              "    </tr>\n",
              "    <tr>\n",
              "      <th>ELEVATION_FT</th>\n",
              "      <td>7015</td>\n",
              "      <td>12.669544</td>\n",
              "    </tr>\n",
              "    <tr>\n",
              "      <th>CONTINENT</th>\n",
              "      <td>27843</td>\n",
              "      <td>50.286261</td>\n",
              "    </tr>\n",
              "    <tr>\n",
              "      <th>ISO_COUNTRY</th>\n",
              "      <td>247</td>\n",
              "      <td>0.446098</td>\n",
              "    </tr>\n",
              "    <tr>\n",
              "      <th>MUNICIPALITY</th>\n",
              "      <td>5706</td>\n",
              "      <td>10.305406</td>\n",
              "    </tr>\n",
              "    <tr>\n",
              "      <th>IATA_CODE</th>\n",
              "      <td>46187</td>\n",
              "      <td>83.416713</td>\n",
              "    </tr>\n",
              "    <tr>\n",
              "      <th>COORDINATES</th>\n",
              "      <td>0</td>\n",
              "      <td>0.000000</td>\n",
              "    </tr>\n",
              "  </tbody>\n",
              "</table>\n",
              "</div>\n",
              "      <button class=\"colab-df-convert\" onclick=\"convertToInteractive('df-adb79db8-76d6-401d-ac9d-bb0ad5f35930')\"\n",
              "              title=\"Convert this dataframe to an interactive table.\"\n",
              "              style=\"display:none;\">\n",
              "        \n",
              "  <svg xmlns=\"http://www.w3.org/2000/svg\" height=\"24px\"viewBox=\"0 0 24 24\"\n",
              "       width=\"24px\">\n",
              "    <path d=\"M0 0h24v24H0V0z\" fill=\"none\"/>\n",
              "    <path d=\"M18.56 5.44l.94 2.06.94-2.06 2.06-.94-2.06-.94-.94-2.06-.94 2.06-2.06.94zm-11 1L8.5 8.5l.94-2.06 2.06-.94-2.06-.94L8.5 2.5l-.94 2.06-2.06.94zm10 10l.94 2.06.94-2.06 2.06-.94-2.06-.94-.94-2.06-.94 2.06-2.06.94z\"/><path d=\"M17.41 7.96l-1.37-1.37c-.4-.4-.92-.59-1.43-.59-.52 0-1.04.2-1.43.59L10.3 9.45l-7.72 7.72c-.78.78-.78 2.05 0 2.83L4 21.41c.39.39.9.59 1.41.59.51 0 1.02-.2 1.41-.59l7.78-7.78 2.81-2.81c.8-.78.8-2.07 0-2.86zM5.41 20L4 18.59l7.72-7.72 1.47 1.35L5.41 20z\"/>\n",
              "  </svg>\n",
              "      </button>\n",
              "      \n",
              "  <style>\n",
              "    .colab-df-container {\n",
              "      display:flex;\n",
              "      flex-wrap:wrap;\n",
              "      gap: 12px;\n",
              "    }\n",
              "\n",
              "    .colab-df-convert {\n",
              "      background-color: #E8F0FE;\n",
              "      border: none;\n",
              "      border-radius: 50%;\n",
              "      cursor: pointer;\n",
              "      display: none;\n",
              "      fill: #1967D2;\n",
              "      height: 32px;\n",
              "      padding: 0 0 0 0;\n",
              "      width: 32px;\n",
              "    }\n",
              "\n",
              "    .colab-df-convert:hover {\n",
              "      background-color: #E2EBFA;\n",
              "      box-shadow: 0px 1px 2px rgba(60, 64, 67, 0.3), 0px 1px 3px 1px rgba(60, 64, 67, 0.15);\n",
              "      fill: #174EA6;\n",
              "    }\n",
              "\n",
              "    [theme=dark] .colab-df-convert {\n",
              "      background-color: #3B4455;\n",
              "      fill: #D2E3FC;\n",
              "    }\n",
              "\n",
              "    [theme=dark] .colab-df-convert:hover {\n",
              "      background-color: #434B5C;\n",
              "      box-shadow: 0px 1px 3px 1px rgba(0, 0, 0, 0.15);\n",
              "      filter: drop-shadow(0px 1px 2px rgba(0, 0, 0, 0.3));\n",
              "      fill: #FFFFFF;\n",
              "    }\n",
              "  </style>\n",
              "\n",
              "      <script>\n",
              "        const buttonEl =\n",
              "          document.querySelector('#df-adb79db8-76d6-401d-ac9d-bb0ad5f35930 button.colab-df-convert');\n",
              "        buttonEl.style.display =\n",
              "          google.colab.kernel.accessAllowed ? 'block' : 'none';\n",
              "\n",
              "        async function convertToInteractive(key) {\n",
              "          const element = document.querySelector('#df-adb79db8-76d6-401d-ac9d-bb0ad5f35930');\n",
              "          const dataTable =\n",
              "            await google.colab.kernel.invokeFunction('convertToInteractive',\n",
              "                                                     [key], {});\n",
              "          if (!dataTable) return;\n",
              "\n",
              "          const docLinkHtml = 'Like what you see? Visit the ' +\n",
              "            '<a target=\"_blank\" href=https://colab.research.google.com/notebooks/data_table.ipynb>data table notebook</a>'\n",
              "            + ' to learn more about interactive tables.';\n",
              "          element.innerHTML = '';\n",
              "          dataTable['output_type'] = 'display_data';\n",
              "          await google.colab.output.renderOutput(dataTable, element);\n",
              "          const docLink = document.createElement('div');\n",
              "          docLink.innerHTML = docLinkHtml;\n",
              "          element.appendChild(docLink);\n",
              "        }\n",
              "      </script>\n",
              "    </div>\n",
              "  </div>\n",
              "  "
            ]
          },
          "metadata": {},
          "execution_count": 7
        }
      ]
    },
    {
      "cell_type": "markdown",
      "metadata": {
        "id": "8HtcnewxJhJk"
      },
      "source": [
        "**Handling NaN Values and Special Characters:**"
      ]
    },
    {
      "cell_type": "markdown",
      "metadata": {
        "id": "pm-c8y9Nu4FB"
      },
      "source": [
        "* FL_DATE column contains date in different format, which needs to be transformed into a consistent format.\n",
        "* DISTANCE column has three abnormal values, out of which '****' is more than 2000 times. Some filler is required to eliminate those values; so they shall be considered as NaN's. Also, replacing negative values with nan so that distance can be backfilled from other origin-destination pair.\n",
        "* ITIN_FARE column Replacing '$' with empty space.\n",
        "\n",
        "Assumptions considered for analysis further:\n",
        "- Flights Dataset: Only non-cancelled flights have been considered\n",
        "- Tickets Dataset: Roundtrip = 1 is considered\n"
      ]
    },
    {
      "cell_type": "code",
      "metadata": {
        "id": "BitOUZokOLbY"
      },
      "source": [
        "## Flights Dataset\n",
        "\n",
        "## Converting date into consistent date-time format\n",
        "flights['FL_DATE'] = pd.to_datetime(flights.FL_DATE).dt.strftime('%m/%d/%Y')\n",
        "\n",
        "## Handling Special Characters in column DISTANCE\n",
        "flights['DISTANCE'] = flights['DISTANCE'].astype(str).replace({\"Hundred\":np.nan,\"Twenty\":np.nan,\"****\":np.nan,\"-1947.0\":np.nan,\"-198.0\":np.nan,-1947:np.nan,-198:np.nan}).astype(float)\n",
        "flights = flights.sort_values(['ORIGIN',\"DESTINATION\"])\n",
        "flights['DISTANCE'] = flights['DISTANCE'].fillna(method='ffill')  # forward-filling rows with na\n",
        "\n",
        "# Considering only non-cancelled flights\n",
        "flights = flights[flights.CANCELLED == 0.0]\n",
        "\n",
        "## Tickets Dataset\n",
        "tickets['ITIN_FARE'] = tickets['ITIN_FARE'].str.replace('$', '').astype(float)    # \n",
        "tickets = tickets[tickets[\"ROUNDTRIP\"]==1]"
      ],
      "execution_count": 8,
      "outputs": []
    },
    {
      "cell_type": "markdown",
      "metadata": {
        "id": "37Hlkkp3J4_w"
      },
      "source": [
        "## **Exploratory Data Analysis**"
      ]
    },
    {
      "cell_type": "markdown",
      "metadata": {
        "id": "Fu9ViDrgbvlN"
      },
      "source": [
        "**Flights Dataset**"
      ]
    },
    {
      "cell_type": "code",
      "metadata": {
        "colab": {
          "base_uri": "https://localhost:8080/"
        },
        "id": "NhZhXz3bbSev",
        "outputId": "79ff7198-e55e-4450-cb6a-bec4764fd463"
      },
      "source": [
        "flights.shape"
      ],
      "execution_count": 9,
      "outputs": [
        {
          "output_type": "execute_result",
          "data": {
            "text/plain": [
              "(1858595, 16)"
            ]
          },
          "metadata": {},
          "execution_count": 9
        }
      ]
    },
    {
      "cell_type": "code",
      "metadata": {
        "colab": {
          "base_uri": "https://localhost:8080/",
          "height": 300
        },
        "id": "pFORaK4pKK7x",
        "outputId": "ebd301dd-2920-44c8-aacf-094177bbc8b0"
      },
      "source": [
        "flights.describe()"
      ],
      "execution_count": 10,
      "outputs": [
        {
          "output_type": "execute_result",
          "data": {
            "text/plain": [
              "       ORIGIN_AIRPORT_ID  DEST_AIRPORT_ID     DEP_DELAY     ARR_DELAY  \\\n",
              "count       1.858595e+06     1.858595e+06  1.858595e+06  1.858595e+06   \n",
              "mean        1.268589e+04     1.268599e+04  1.072842e+01  5.651617e+00   \n",
              "std         1.522151e+03     1.521664e+03  4.997027e+01  5.242202e+01   \n",
              "min         1.013500e+04     1.013500e+04 -6.300000e+01 -9.400000e+01   \n",
              "25%         1.129200e+04     1.129200e+04 -6.000000e+00 -1.500000e+01   \n",
              "50%         1.288900e+04     1.288900e+04 -2.000000e+00 -6.000000e+00   \n",
              "75%         1.405700e+04     1.405700e+04  7.000000e+00  8.000000e+00   \n",
              "max         1.621800e+04     1.621800e+04  2.941000e+03  2.923000e+03   \n",
              "\n",
              "       CANCELLED      DISTANCE  OCCUPANCY_RATE  \n",
              "count  1858595.0  1.858595e+06    1.858595e+06  \n",
              "mean         0.0  7.724272e+02    6.502243e-01  \n",
              "std          0.0  5.822027e+02    2.020090e-01  \n",
              "min          0.0 -1.947000e+03    3.000000e-01  \n",
              "25%          0.0  3.440000e+02    4.800000e-01  \n",
              "50%          0.0  6.120000e+02    6.500000e-01  \n",
              "75%          0.0  1.013000e+03    8.300000e-01  \n",
              "max          0.0  9.898000e+03    1.000000e+00  "
            ],
            "text/html": [
              "\n",
              "  <div id=\"df-64a880b3-9daf-471e-b240-a78f7880c16a\">\n",
              "    <div class=\"colab-df-container\">\n",
              "      <div>\n",
              "<style scoped>\n",
              "    .dataframe tbody tr th:only-of-type {\n",
              "        vertical-align: middle;\n",
              "    }\n",
              "\n",
              "    .dataframe tbody tr th {\n",
              "        vertical-align: top;\n",
              "    }\n",
              "\n",
              "    .dataframe thead th {\n",
              "        text-align: right;\n",
              "    }\n",
              "</style>\n",
              "<table border=\"1\" class=\"dataframe\">\n",
              "  <thead>\n",
              "    <tr style=\"text-align: right;\">\n",
              "      <th></th>\n",
              "      <th>ORIGIN_AIRPORT_ID</th>\n",
              "      <th>DEST_AIRPORT_ID</th>\n",
              "      <th>DEP_DELAY</th>\n",
              "      <th>ARR_DELAY</th>\n",
              "      <th>CANCELLED</th>\n",
              "      <th>DISTANCE</th>\n",
              "      <th>OCCUPANCY_RATE</th>\n",
              "    </tr>\n",
              "  </thead>\n",
              "  <tbody>\n",
              "    <tr>\n",
              "      <th>count</th>\n",
              "      <td>1.858595e+06</td>\n",
              "      <td>1.858595e+06</td>\n",
              "      <td>1.858595e+06</td>\n",
              "      <td>1.858595e+06</td>\n",
              "      <td>1858595.0</td>\n",
              "      <td>1.858595e+06</td>\n",
              "      <td>1.858595e+06</td>\n",
              "    </tr>\n",
              "    <tr>\n",
              "      <th>mean</th>\n",
              "      <td>1.268589e+04</td>\n",
              "      <td>1.268599e+04</td>\n",
              "      <td>1.072842e+01</td>\n",
              "      <td>5.651617e+00</td>\n",
              "      <td>0.0</td>\n",
              "      <td>7.724272e+02</td>\n",
              "      <td>6.502243e-01</td>\n",
              "    </tr>\n",
              "    <tr>\n",
              "      <th>std</th>\n",
              "      <td>1.522151e+03</td>\n",
              "      <td>1.521664e+03</td>\n",
              "      <td>4.997027e+01</td>\n",
              "      <td>5.242202e+01</td>\n",
              "      <td>0.0</td>\n",
              "      <td>5.822027e+02</td>\n",
              "      <td>2.020090e-01</td>\n",
              "    </tr>\n",
              "    <tr>\n",
              "      <th>min</th>\n",
              "      <td>1.013500e+04</td>\n",
              "      <td>1.013500e+04</td>\n",
              "      <td>-6.300000e+01</td>\n",
              "      <td>-9.400000e+01</td>\n",
              "      <td>0.0</td>\n",
              "      <td>-1.947000e+03</td>\n",
              "      <td>3.000000e-01</td>\n",
              "    </tr>\n",
              "    <tr>\n",
              "      <th>25%</th>\n",
              "      <td>1.129200e+04</td>\n",
              "      <td>1.129200e+04</td>\n",
              "      <td>-6.000000e+00</td>\n",
              "      <td>-1.500000e+01</td>\n",
              "      <td>0.0</td>\n",
              "      <td>3.440000e+02</td>\n",
              "      <td>4.800000e-01</td>\n",
              "    </tr>\n",
              "    <tr>\n",
              "      <th>50%</th>\n",
              "      <td>1.288900e+04</td>\n",
              "      <td>1.288900e+04</td>\n",
              "      <td>-2.000000e+00</td>\n",
              "      <td>-6.000000e+00</td>\n",
              "      <td>0.0</td>\n",
              "      <td>6.120000e+02</td>\n",
              "      <td>6.500000e-01</td>\n",
              "    </tr>\n",
              "    <tr>\n",
              "      <th>75%</th>\n",
              "      <td>1.405700e+04</td>\n",
              "      <td>1.405700e+04</td>\n",
              "      <td>7.000000e+00</td>\n",
              "      <td>8.000000e+00</td>\n",
              "      <td>0.0</td>\n",
              "      <td>1.013000e+03</td>\n",
              "      <td>8.300000e-01</td>\n",
              "    </tr>\n",
              "    <tr>\n",
              "      <th>max</th>\n",
              "      <td>1.621800e+04</td>\n",
              "      <td>1.621800e+04</td>\n",
              "      <td>2.941000e+03</td>\n",
              "      <td>2.923000e+03</td>\n",
              "      <td>0.0</td>\n",
              "      <td>9.898000e+03</td>\n",
              "      <td>1.000000e+00</td>\n",
              "    </tr>\n",
              "  </tbody>\n",
              "</table>\n",
              "</div>\n",
              "      <button class=\"colab-df-convert\" onclick=\"convertToInteractive('df-64a880b3-9daf-471e-b240-a78f7880c16a')\"\n",
              "              title=\"Convert this dataframe to an interactive table.\"\n",
              "              style=\"display:none;\">\n",
              "        \n",
              "  <svg xmlns=\"http://www.w3.org/2000/svg\" height=\"24px\"viewBox=\"0 0 24 24\"\n",
              "       width=\"24px\">\n",
              "    <path d=\"M0 0h24v24H0V0z\" fill=\"none\"/>\n",
              "    <path d=\"M18.56 5.44l.94 2.06.94-2.06 2.06-.94-2.06-.94-.94-2.06-.94 2.06-2.06.94zm-11 1L8.5 8.5l.94-2.06 2.06-.94-2.06-.94L8.5 2.5l-.94 2.06-2.06.94zm10 10l.94 2.06.94-2.06 2.06-.94-2.06-.94-.94-2.06-.94 2.06-2.06.94z\"/><path d=\"M17.41 7.96l-1.37-1.37c-.4-.4-.92-.59-1.43-.59-.52 0-1.04.2-1.43.59L10.3 9.45l-7.72 7.72c-.78.78-.78 2.05 0 2.83L4 21.41c.39.39.9.59 1.41.59.51 0 1.02-.2 1.41-.59l7.78-7.78 2.81-2.81c.8-.78.8-2.07 0-2.86zM5.41 20L4 18.59l7.72-7.72 1.47 1.35L5.41 20z\"/>\n",
              "  </svg>\n",
              "      </button>\n",
              "      \n",
              "  <style>\n",
              "    .colab-df-container {\n",
              "      display:flex;\n",
              "      flex-wrap:wrap;\n",
              "      gap: 12px;\n",
              "    }\n",
              "\n",
              "    .colab-df-convert {\n",
              "      background-color: #E8F0FE;\n",
              "      border: none;\n",
              "      border-radius: 50%;\n",
              "      cursor: pointer;\n",
              "      display: none;\n",
              "      fill: #1967D2;\n",
              "      height: 32px;\n",
              "      padding: 0 0 0 0;\n",
              "      width: 32px;\n",
              "    }\n",
              "\n",
              "    .colab-df-convert:hover {\n",
              "      background-color: #E2EBFA;\n",
              "      box-shadow: 0px 1px 2px rgba(60, 64, 67, 0.3), 0px 1px 3px 1px rgba(60, 64, 67, 0.15);\n",
              "      fill: #174EA6;\n",
              "    }\n",
              "\n",
              "    [theme=dark] .colab-df-convert {\n",
              "      background-color: #3B4455;\n",
              "      fill: #D2E3FC;\n",
              "    }\n",
              "\n",
              "    [theme=dark] .colab-df-convert:hover {\n",
              "      background-color: #434B5C;\n",
              "      box-shadow: 0px 1px 3px 1px rgba(0, 0, 0, 0.15);\n",
              "      filter: drop-shadow(0px 1px 2px rgba(0, 0, 0, 0.3));\n",
              "      fill: #FFFFFF;\n",
              "    }\n",
              "  </style>\n",
              "\n",
              "      <script>\n",
              "        const buttonEl =\n",
              "          document.querySelector('#df-64a880b3-9daf-471e-b240-a78f7880c16a button.colab-df-convert');\n",
              "        buttonEl.style.display =\n",
              "          google.colab.kernel.accessAllowed ? 'block' : 'none';\n",
              "\n",
              "        async function convertToInteractive(key) {\n",
              "          const element = document.querySelector('#df-64a880b3-9daf-471e-b240-a78f7880c16a');\n",
              "          const dataTable =\n",
              "            await google.colab.kernel.invokeFunction('convertToInteractive',\n",
              "                                                     [key], {});\n",
              "          if (!dataTable) return;\n",
              "\n",
              "          const docLinkHtml = 'Like what you see? Visit the ' +\n",
              "            '<a target=\"_blank\" href=https://colab.research.google.com/notebooks/data_table.ipynb>data table notebook</a>'\n",
              "            + ' to learn more about interactive tables.';\n",
              "          element.innerHTML = '';\n",
              "          dataTable['output_type'] = 'display_data';\n",
              "          await google.colab.output.renderOutput(dataTable, element);\n",
              "          const docLink = document.createElement('div');\n",
              "          docLink.innerHTML = docLinkHtml;\n",
              "          element.appendChild(docLink);\n",
              "        }\n",
              "      </script>\n",
              "    </div>\n",
              "  </div>\n",
              "  "
            ]
          },
          "metadata": {},
          "execution_count": 10
        }
      ]
    },
    {
      "cell_type": "code",
      "metadata": {
        "colab": {
          "base_uri": "https://localhost:8080/"
        },
        "id": "EFY68EEBdF1F",
        "outputId": "781aae21-b6dc-476b-b54e-7379bbd96407"
      },
      "source": [
        "flights.median()"
      ],
      "execution_count": null,
      "outputs": [
        {
          "output_type": "execute_result",
          "data": {
            "text/plain": [
              "ORIGIN_AIRPORT_ID    12889.00\n",
              "DEST_AIRPORT_ID      12889.00\n",
              "DEP_DELAY               -2.00\n",
              "ARR_DELAY               -6.00\n",
              "CANCELLED                0.00\n",
              "DISTANCE               612.00\n",
              "OCCUPANCY_RATE           0.65\n",
              "dtype: float64"
            ]
          },
          "metadata": {},
          "execution_count": 69
        }
      ]
    },
    {
      "cell_type": "markdown",
      "metadata": {
        "id": "Xj6MO4Q_bJIz"
      },
      "source": [
        "The Flights dataset initially had about 1.9 million datapoints. However, after data pre-processing, it now contains about 1.85 million datapoints with 16 feature variables. \n",
        "\n",
        "Skewness: ORIGIN_AIRPORT_ID, DEST_AIRPORT_ID, DEP_DELAY, ARR_DELAY, DISTANCE are all positively skewed since mean > median. Canceled and occupancy rates are almmost normally distributed. However, looking at the max, min values the dataset might have many outliers.\n"
      ]
    },
    {
      "cell_type": "markdown",
      "metadata": {
        "id": "1IqmBX0dDSB1"
      },
      "source": [
        "**Delays by Day-Of-Week**"
      ]
    },
    {
      "cell_type": "code",
      "metadata": {
        "colab": {
          "base_uri": "https://localhost:8080/",
          "height": 294
        },
        "id": "bO1Z1PML5QTU",
        "outputId": "96d2bcb8-ac5b-4662-8eef-f9ac124ed236"
      },
      "source": [
        "# Delay by weekday. Since I'm not checking delays based on location, I can create a new column by summing delays at departure and arrival.\n",
        "flt = flights  # using a duplicate dataframe as the extra column would not be required later\n",
        "flt['Total_Delay'] = flt['ARR_DELAY'] + flt['DEP_DELAY']\n",
        "# Converting date into day of week\n",
        "flt['FL_DATE'] = pd.to_datetime(flt['FL_DATE'], errors='coerce')\n",
        "flt['Day_of_Week'] = flt['FL_DATE'].dt.day_name()\n",
        "flt_del = flt[['Day_of_Week','Total_Delay']].groupby('Day_of_Week').agg(['mean','count'])\n",
        "flt_del.columns = ['mean','count']\n",
        "flt_del.sort_values(by=('mean'), ascending=False)"
      ],
      "execution_count": null,
      "outputs": [
        {
          "output_type": "execute_result",
          "data": {
            "text/html": [
              "<div>\n",
              "<style scoped>\n",
              "    .dataframe tbody tr th:only-of-type {\n",
              "        vertical-align: middle;\n",
              "    }\n",
              "\n",
              "    .dataframe tbody tr th {\n",
              "        vertical-align: top;\n",
              "    }\n",
              "\n",
              "    .dataframe thead th {\n",
              "        text-align: right;\n",
              "    }\n",
              "</style>\n",
              "<table border=\"1\" class=\"dataframe\">\n",
              "  <thead>\n",
              "    <tr style=\"text-align: right;\">\n",
              "      <th></th>\n",
              "      <th>mean</th>\n",
              "      <th>count</th>\n",
              "    </tr>\n",
              "    <tr>\n",
              "      <th>Day_of_Week</th>\n",
              "      <th></th>\n",
              "      <th></th>\n",
              "    </tr>\n",
              "  </thead>\n",
              "  <tbody>\n",
              "    <tr>\n",
              "      <th>Thursday</th>\n",
              "      <td>19.346579</td>\n",
              "      <td>282677</td>\n",
              "    </tr>\n",
              "    <tr>\n",
              "      <th>Friday</th>\n",
              "      <td>18.366943</td>\n",
              "      <td>286979</td>\n",
              "    </tr>\n",
              "    <tr>\n",
              "      <th>Monday</th>\n",
              "      <td>18.076521</td>\n",
              "      <td>259499</td>\n",
              "    </tr>\n",
              "    <tr>\n",
              "      <th>Wednesday</th>\n",
              "      <td>16.918030</td>\n",
              "      <td>271392</td>\n",
              "    </tr>\n",
              "    <tr>\n",
              "      <th>Sunday</th>\n",
              "      <td>16.340156</td>\n",
              "      <td>262897</td>\n",
              "    </tr>\n",
              "    <tr>\n",
              "      <th>Saturday</th>\n",
              "      <td>12.400723</td>\n",
              "      <td>228145</td>\n",
              "    </tr>\n",
              "    <tr>\n",
              "      <th>Tuesday</th>\n",
              "      <td>12.347663</td>\n",
              "      <td>267006</td>\n",
              "    </tr>\n",
              "  </tbody>\n",
              "</table>\n",
              "</div>"
            ],
            "text/plain": [
              "                  mean   count\n",
              "Day_of_Week                   \n",
              "Thursday     19.346579  282677\n",
              "Friday       18.366943  286979\n",
              "Monday       18.076521  259499\n",
              "Wednesday    16.918030  271392\n",
              "Sunday       16.340156  262897\n",
              "Saturday     12.400723  228145\n",
              "Tuesday      12.347663  267006"
            ]
          },
          "metadata": {},
          "execution_count": 70
        }
      ]
    },
    {
      "cell_type": "code",
      "metadata": {
        "colab": {
          "base_uri": "https://localhost:8080/",
          "height": 542
        },
        "id": "VI0UqHHJASQq",
        "outputId": "3f7de36e-bf3e-4fe2-97c4-0871b05e0b67"
      },
      "source": [
        "fig = px.bar(flt_del, x = flt_del.index, y = 'mean', color = 'count', title = \"Average Delays for Day of Week\")\n",
        "fig.show()"
      ],
      "execution_count": null,
      "outputs": [
        {
          "output_type": "display_data",
          "data": {
            "text/html": [
              "<html>\n",
              "<head><meta charset=\"utf-8\" /></head>\n",
              "<body>\n",
              "    <div>\n",
              "            <script src=\"https://cdnjs.cloudflare.com/ajax/libs/mathjax/2.7.5/MathJax.js?config=TeX-AMS-MML_SVG\"></script><script type=\"text/javascript\">if (window.MathJax) {MathJax.Hub.Config({SVG: {font: \"STIX-Web\"}});}</script>\n",
              "                <script type=\"text/javascript\">window.PlotlyConfig = {MathJaxConfig: 'local'};</script>\n",
              "        <script src=\"https://cdn.plot.ly/plotly-latest.min.js\"></script>    \n",
              "            <div id=\"c7c15134-6164-4a36-8eef-eae55196802a\" class=\"plotly-graph-div\" style=\"height:525px; width:100%;\"></div>\n",
              "            <script type=\"text/javascript\">\n",
              "                \n",
              "                    window.PLOTLYENV=window.PLOTLYENV || {};\n",
              "                    \n",
              "                if (document.getElementById(\"c7c15134-6164-4a36-8eef-eae55196802a\")) {\n",
              "                    Plotly.newPlot(\n",
              "                        'c7c15134-6164-4a36-8eef-eae55196802a',\n",
              "                        [{\"alignmentgroup\": \"True\", \"hoverlabel\": {\"namelength\": 0}, \"hovertemplate\": \"x=%{x}<br>mean=%{y}<br>count=%{marker.color}\", \"legendgroup\": \"\", \"marker\": {\"color\": [286979, 259499, 228145, 262897, 282677, 267006, 271392], \"coloraxis\": \"coloraxis\"}, \"name\": \"\", \"offsetgroup\": \"\", \"orientation\": \"v\", \"showlegend\": false, \"textposition\": \"auto\", \"type\": \"bar\", \"x\": [\"Friday\", \"Monday\", \"Saturday\", \"Sunday\", \"Thursday\", \"Tuesday\", \"Wednesday\"], \"xaxis\": \"x\", \"y\": [18.36694322581095, 18.076520526090658, 12.40072322426527, 16.340156030688824, 19.346579311369513, 12.347662599342337, 16.918030008253744], \"yaxis\": \"y\"}],\n",
              "                        {\"barmode\": \"relative\", \"coloraxis\": {\"colorbar\": {\"title\": {\"text\": \"count\"}}, \"colorscale\": [[0.0, \"#0d0887\"], [0.1111111111111111, \"#46039f\"], [0.2222222222222222, \"#7201a8\"], [0.3333333333333333, \"#9c179e\"], [0.4444444444444444, \"#bd3786\"], [0.5555555555555556, \"#d8576b\"], [0.6666666666666666, \"#ed7953\"], [0.7777777777777778, \"#fb9f3a\"], [0.8888888888888888, \"#fdca26\"], [1.0, \"#f0f921\"]]}, \"legend\": {\"tracegroupgap\": 0}, \"template\": {\"data\": {\"bar\": [{\"error_x\": {\"color\": \"#2a3f5f\"}, \"error_y\": {\"color\": \"#2a3f5f\"}, \"marker\": {\"line\": {\"color\": \"#E5ECF6\", \"width\": 0.5}}, \"type\": \"bar\"}], \"barpolar\": [{\"marker\": {\"line\": {\"color\": \"#E5ECF6\", \"width\": 0.5}}, \"type\": \"barpolar\"}], \"carpet\": [{\"aaxis\": {\"endlinecolor\": \"#2a3f5f\", \"gridcolor\": \"white\", \"linecolor\": \"white\", \"minorgridcolor\": \"white\", \"startlinecolor\": \"#2a3f5f\"}, \"baxis\": {\"endlinecolor\": \"#2a3f5f\", \"gridcolor\": \"white\", \"linecolor\": \"white\", \"minorgridcolor\": \"white\", \"startlinecolor\": \"#2a3f5f\"}, \"type\": \"carpet\"}], \"choropleth\": [{\"colorbar\": {\"outlinewidth\": 0, \"ticks\": \"\"}, \"type\": \"choropleth\"}], \"contour\": [{\"colorbar\": {\"outlinewidth\": 0, \"ticks\": \"\"}, \"colorscale\": [[0.0, \"#0d0887\"], [0.1111111111111111, \"#46039f\"], [0.2222222222222222, \"#7201a8\"], [0.3333333333333333, \"#9c179e\"], [0.4444444444444444, \"#bd3786\"], [0.5555555555555556, \"#d8576b\"], [0.6666666666666666, \"#ed7953\"], [0.7777777777777778, \"#fb9f3a\"], [0.8888888888888888, \"#fdca26\"], [1.0, \"#f0f921\"]], \"type\": \"contour\"}], \"contourcarpet\": [{\"colorbar\": {\"outlinewidth\": 0, \"ticks\": \"\"}, \"type\": \"contourcarpet\"}], \"heatmap\": [{\"colorbar\": {\"outlinewidth\": 0, \"ticks\": \"\"}, \"colorscale\": [[0.0, \"#0d0887\"], [0.1111111111111111, \"#46039f\"], [0.2222222222222222, \"#7201a8\"], [0.3333333333333333, \"#9c179e\"], [0.4444444444444444, \"#bd3786\"], [0.5555555555555556, \"#d8576b\"], [0.6666666666666666, \"#ed7953\"], [0.7777777777777778, \"#fb9f3a\"], [0.8888888888888888, \"#fdca26\"], [1.0, \"#f0f921\"]], \"type\": \"heatmap\"}], \"heatmapgl\": [{\"colorbar\": {\"outlinewidth\": 0, \"ticks\": \"\"}, \"colorscale\": [[0.0, \"#0d0887\"], [0.1111111111111111, \"#46039f\"], [0.2222222222222222, \"#7201a8\"], [0.3333333333333333, \"#9c179e\"], [0.4444444444444444, \"#bd3786\"], [0.5555555555555556, \"#d8576b\"], [0.6666666666666666, \"#ed7953\"], [0.7777777777777778, \"#fb9f3a\"], [0.8888888888888888, \"#fdca26\"], [1.0, \"#f0f921\"]], \"type\": \"heatmapgl\"}], \"histogram\": [{\"marker\": {\"colorbar\": {\"outlinewidth\": 0, \"ticks\": \"\"}}, \"type\": \"histogram\"}], \"histogram2d\": [{\"colorbar\": {\"outlinewidth\": 0, \"ticks\": \"\"}, \"colorscale\": [[0.0, \"#0d0887\"], [0.1111111111111111, \"#46039f\"], [0.2222222222222222, \"#7201a8\"], [0.3333333333333333, \"#9c179e\"], [0.4444444444444444, \"#bd3786\"], [0.5555555555555556, \"#d8576b\"], [0.6666666666666666, \"#ed7953\"], [0.7777777777777778, \"#fb9f3a\"], [0.8888888888888888, \"#fdca26\"], [1.0, \"#f0f921\"]], \"type\": \"histogram2d\"}], \"histogram2dcontour\": [{\"colorbar\": {\"outlinewidth\": 0, \"ticks\": \"\"}, \"colorscale\": [[0.0, \"#0d0887\"], [0.1111111111111111, \"#46039f\"], [0.2222222222222222, \"#7201a8\"], [0.3333333333333333, \"#9c179e\"], [0.4444444444444444, \"#bd3786\"], [0.5555555555555556, \"#d8576b\"], [0.6666666666666666, \"#ed7953\"], [0.7777777777777778, \"#fb9f3a\"], [0.8888888888888888, \"#fdca26\"], [1.0, \"#f0f921\"]], \"type\": \"histogram2dcontour\"}], \"mesh3d\": [{\"colorbar\": {\"outlinewidth\": 0, \"ticks\": \"\"}, \"type\": \"mesh3d\"}], \"parcoords\": [{\"line\": {\"colorbar\": {\"outlinewidth\": 0, \"ticks\": \"\"}}, \"type\": \"parcoords\"}], \"pie\": [{\"automargin\": true, \"type\": \"pie\"}], \"scatter\": [{\"marker\": {\"colorbar\": {\"outlinewidth\": 0, \"ticks\": \"\"}}, \"type\": \"scatter\"}], \"scatter3d\": [{\"line\": {\"colorbar\": {\"outlinewidth\": 0, \"ticks\": \"\"}}, \"marker\": {\"colorbar\": {\"outlinewidth\": 0, \"ticks\": \"\"}}, \"type\": \"scatter3d\"}], \"scattercarpet\": [{\"marker\": {\"colorbar\": {\"outlinewidth\": 0, \"ticks\": \"\"}}, \"type\": \"scattercarpet\"}], \"scattergeo\": [{\"marker\": {\"colorbar\": {\"outlinewidth\": 0, \"ticks\": \"\"}}, \"type\": \"scattergeo\"}], \"scattergl\": [{\"marker\": {\"colorbar\": {\"outlinewidth\": 0, \"ticks\": \"\"}}, \"type\": \"scattergl\"}], \"scattermapbox\": [{\"marker\": {\"colorbar\": {\"outlinewidth\": 0, \"ticks\": \"\"}}, \"type\": \"scattermapbox\"}], \"scatterpolar\": [{\"marker\": {\"colorbar\": {\"outlinewidth\": 0, \"ticks\": \"\"}}, \"type\": \"scatterpolar\"}], \"scatterpolargl\": [{\"marker\": {\"colorbar\": {\"outlinewidth\": 0, \"ticks\": \"\"}}, \"type\": \"scatterpolargl\"}], \"scatterternary\": [{\"marker\": {\"colorbar\": {\"outlinewidth\": 0, \"ticks\": \"\"}}, \"type\": \"scatterternary\"}], \"surface\": [{\"colorbar\": {\"outlinewidth\": 0, \"ticks\": \"\"}, \"colorscale\": [[0.0, \"#0d0887\"], [0.1111111111111111, \"#46039f\"], [0.2222222222222222, \"#7201a8\"], [0.3333333333333333, \"#9c179e\"], [0.4444444444444444, \"#bd3786\"], [0.5555555555555556, \"#d8576b\"], [0.6666666666666666, \"#ed7953\"], [0.7777777777777778, \"#fb9f3a\"], [0.8888888888888888, \"#fdca26\"], [1.0, \"#f0f921\"]], \"type\": \"surface\"}], \"table\": [{\"cells\": {\"fill\": {\"color\": \"#EBF0F8\"}, \"line\": {\"color\": \"white\"}}, \"header\": {\"fill\": {\"color\": \"#C8D4E3\"}, \"line\": {\"color\": \"white\"}}, \"type\": \"table\"}]}, \"layout\": {\"annotationdefaults\": {\"arrowcolor\": \"#2a3f5f\", \"arrowhead\": 0, \"arrowwidth\": 1}, \"coloraxis\": {\"colorbar\": {\"outlinewidth\": 0, \"ticks\": \"\"}}, \"colorscale\": {\"diverging\": [[0, \"#8e0152\"], [0.1, \"#c51b7d\"], [0.2, \"#de77ae\"], [0.3, \"#f1b6da\"], [0.4, \"#fde0ef\"], [0.5, \"#f7f7f7\"], [0.6, \"#e6f5d0\"], [0.7, \"#b8e186\"], [0.8, \"#7fbc41\"], [0.9, \"#4d9221\"], [1, \"#276419\"]], \"sequential\": [[0.0, \"#0d0887\"], [0.1111111111111111, \"#46039f\"], [0.2222222222222222, \"#7201a8\"], [0.3333333333333333, \"#9c179e\"], [0.4444444444444444, \"#bd3786\"], [0.5555555555555556, \"#d8576b\"], [0.6666666666666666, \"#ed7953\"], [0.7777777777777778, \"#fb9f3a\"], [0.8888888888888888, \"#fdca26\"], [1.0, \"#f0f921\"]], \"sequentialminus\": [[0.0, \"#0d0887\"], [0.1111111111111111, \"#46039f\"], [0.2222222222222222, \"#7201a8\"], [0.3333333333333333, \"#9c179e\"], [0.4444444444444444, \"#bd3786\"], [0.5555555555555556, \"#d8576b\"], [0.6666666666666666, \"#ed7953\"], [0.7777777777777778, \"#fb9f3a\"], [0.8888888888888888, \"#fdca26\"], [1.0, \"#f0f921\"]]}, \"colorway\": [\"#636efa\", \"#EF553B\", \"#00cc96\", \"#ab63fa\", \"#FFA15A\", \"#19d3f3\", \"#FF6692\", \"#B6E880\", \"#FF97FF\", \"#FECB52\"], \"font\": {\"color\": \"#2a3f5f\"}, \"geo\": {\"bgcolor\": \"white\", \"lakecolor\": \"white\", \"landcolor\": \"#E5ECF6\", \"showlakes\": true, \"showland\": true, \"subunitcolor\": \"white\"}, \"hoverlabel\": {\"align\": \"left\"}, \"hovermode\": \"closest\", \"mapbox\": {\"style\": \"light\"}, \"paper_bgcolor\": \"white\", \"plot_bgcolor\": \"#E5ECF6\", \"polar\": {\"angularaxis\": {\"gridcolor\": \"white\", \"linecolor\": \"white\", \"ticks\": \"\"}, \"bgcolor\": \"#E5ECF6\", \"radialaxis\": {\"gridcolor\": \"white\", \"linecolor\": \"white\", \"ticks\": \"\"}}, \"scene\": {\"xaxis\": {\"backgroundcolor\": \"#E5ECF6\", \"gridcolor\": \"white\", \"gridwidth\": 2, \"linecolor\": \"white\", \"showbackground\": true, \"ticks\": \"\", \"zerolinecolor\": \"white\"}, \"yaxis\": {\"backgroundcolor\": \"#E5ECF6\", \"gridcolor\": \"white\", \"gridwidth\": 2, \"linecolor\": \"white\", \"showbackground\": true, \"ticks\": \"\", \"zerolinecolor\": \"white\"}, \"zaxis\": {\"backgroundcolor\": \"#E5ECF6\", \"gridcolor\": \"white\", \"gridwidth\": 2, \"linecolor\": \"white\", \"showbackground\": true, \"ticks\": \"\", \"zerolinecolor\": \"white\"}}, \"shapedefaults\": {\"line\": {\"color\": \"#2a3f5f\"}}, \"ternary\": {\"aaxis\": {\"gridcolor\": \"white\", \"linecolor\": \"white\", \"ticks\": \"\"}, \"baxis\": {\"gridcolor\": \"white\", \"linecolor\": \"white\", \"ticks\": \"\"}, \"bgcolor\": \"#E5ECF6\", \"caxis\": {\"gridcolor\": \"white\", \"linecolor\": \"white\", \"ticks\": \"\"}}, \"title\": {\"x\": 0.05}, \"xaxis\": {\"automargin\": true, \"gridcolor\": \"white\", \"linecolor\": \"white\", \"ticks\": \"\", \"title\": {\"standoff\": 15}, \"zerolinecolor\": \"white\", \"zerolinewidth\": 2}, \"yaxis\": {\"automargin\": true, \"gridcolor\": \"white\", \"linecolor\": \"white\", \"ticks\": \"\", \"title\": {\"standoff\": 15}, \"zerolinecolor\": \"white\", \"zerolinewidth\": 2}}}, \"title\": {\"text\": \"Average Delays for Day of Week\"}, \"xaxis\": {\"anchor\": \"y\", \"domain\": [0.0, 1.0], \"title\": {\"text\": \"x\"}}, \"yaxis\": {\"anchor\": \"x\", \"domain\": [0.0, 1.0], \"title\": {\"text\": \"mean\"}}},\n",
              "                        {\"responsive\": true}\n",
              "                    ).then(function(){\n",
              "                            \n",
              "var gd = document.getElementById('c7c15134-6164-4a36-8eef-eae55196802a');\n",
              "var x = new MutationObserver(function (mutations, observer) {{\n",
              "        var display = window.getComputedStyle(gd).display;\n",
              "        if (!display || display === 'none') {{\n",
              "            console.log([gd, 'removed!']);\n",
              "            Plotly.purge(gd);\n",
              "            observer.disconnect();\n",
              "        }}\n",
              "}});\n",
              "\n",
              "// Listen for the removal of the full notebook cells\n",
              "var notebookContainer = gd.closest('#notebook-container');\n",
              "if (notebookContainer) {{\n",
              "    x.observe(notebookContainer, {childList: true});\n",
              "}}\n",
              "\n",
              "// Listen for the clearing of the current output cell\n",
              "var outputEl = gd.closest('.output');\n",
              "if (outputEl) {{\n",
              "    x.observe(outputEl, {childList: true});\n",
              "}}\n",
              "\n",
              "                        })\n",
              "                };\n",
              "                \n",
              "            </script>\n",
              "        </div>\n",
              "</body>\n",
              "</html>"
            ]
          },
          "metadata": {}
        }
      ]
    },
    {
      "cell_type": "markdown",
      "metadata": {
        "id": "jnDvNaBe9SYm"
      },
      "source": [
        "(Lighter color indicate more number of flights)\n",
        "- Most flights are on Thrusdays and Fridays which also have slightly higher delay rates than the other days. This might be an indication that as the frequency of flights increase, the delays also increase. \n",
        "- However, it is quite uncanny to notice that delays on Thursdays are higher than those on Fridays! \n",
        "\n",
        "It was not considered to do an EDA for monthly delays since the data is provided for only a quarter which would be insufficient to make an assumption for all monthly delays."
      ]
    },
    {
      "cell_type": "markdown",
      "metadata": {
        "id": "PH6wkLUjDcyX"
      },
      "source": [
        "**Delays by Carrier Operator**"
      ]
    },
    {
      "cell_type": "code",
      "metadata": {
        "colab": {
          "base_uri": "https://localhost:8080/",
          "height": 202
        },
        "id": "RBSVRldb_qJJ",
        "outputId": "dbebb51b-1d03-4604-e8e7-8e624399c1e2"
      },
      "source": [
        "flt_crd = flt[['OP_CARRIER','Total_Delay']].groupby('OP_CARRIER').agg(['mean','count']).sort_values(by=('Total_Delay','mean'), ascending=False).reset_index()\n",
        "flt_crd.columns = ['OP_CARRIER','mean','count']\n",
        "flt_crd.head()"
      ],
      "execution_count": null,
      "outputs": [
        {
          "output_type": "execute_result",
          "data": {
            "text/html": [
              "<div>\n",
              "<style scoped>\n",
              "    .dataframe tbody tr th:only-of-type {\n",
              "        vertical-align: middle;\n",
              "    }\n",
              "\n",
              "    .dataframe tbody tr th {\n",
              "        vertical-align: top;\n",
              "    }\n",
              "\n",
              "    .dataframe thead th {\n",
              "        text-align: right;\n",
              "    }\n",
              "</style>\n",
              "<table border=\"1\" class=\"dataframe\">\n",
              "  <thead>\n",
              "    <tr style=\"text-align: right;\">\n",
              "      <th></th>\n",
              "      <th>OP_CARRIER</th>\n",
              "      <th>mean</th>\n",
              "      <th>count</th>\n",
              "    </tr>\n",
              "  </thead>\n",
              "  <tbody>\n",
              "    <tr>\n",
              "      <th>0</th>\n",
              "      <td>C5</td>\n",
              "      <td>55.649407</td>\n",
              "      <td>11626</td>\n",
              "    </tr>\n",
              "    <tr>\n",
              "      <th>1</th>\n",
              "      <td>KS</td>\n",
              "      <td>51.581662</td>\n",
              "      <td>349</td>\n",
              "    </tr>\n",
              "    <tr>\n",
              "      <th>2</th>\n",
              "      <td>AX</td>\n",
              "      <td>38.044304</td>\n",
              "      <td>17267</td>\n",
              "    </tr>\n",
              "    <tr>\n",
              "      <th>3</th>\n",
              "      <td>G7</td>\n",
              "      <td>32.906797</td>\n",
              "      <td>20493</td>\n",
              "    </tr>\n",
              "    <tr>\n",
              "      <th>4</th>\n",
              "      <td>B6</td>\n",
              "      <td>30.890906</td>\n",
              "      <td>70847</td>\n",
              "    </tr>\n",
              "  </tbody>\n",
              "</table>\n",
              "</div>"
            ],
            "text/plain": [
              "  OP_CARRIER       mean  count\n",
              "0         C5  55.649407  11626\n",
              "1         KS  51.581662    349\n",
              "2         AX  38.044304  17267\n",
              "3         G7  32.906797  20493\n",
              "4         B6  30.890906  70847"
            ]
          },
          "metadata": {},
          "execution_count": 72
        }
      ]
    },
    {
      "cell_type": "code",
      "metadata": {
        "colab": {
          "base_uri": "https://localhost:8080/",
          "height": 542
        },
        "id": "goq3fWTAEfAQ",
        "outputId": "4c49c1dd-6213-4387-90c3-acfe89304242"
      },
      "source": [
        "fig = px.bar(flt_crd, x=flt_crd.OP_CARRIER, y='mean', color='count', title=\"Delays By Carrier Airlines\")\n",
        "fig.show()"
      ],
      "execution_count": null,
      "outputs": [
        {
          "output_type": "display_data",
          "data": {
            "text/html": [
              "<html>\n",
              "<head><meta charset=\"utf-8\" /></head>\n",
              "<body>\n",
              "    <div>\n",
              "            <script src=\"https://cdnjs.cloudflare.com/ajax/libs/mathjax/2.7.5/MathJax.js?config=TeX-AMS-MML_SVG\"></script><script type=\"text/javascript\">if (window.MathJax) {MathJax.Hub.Config({SVG: {font: \"STIX-Web\"}});}</script>\n",
              "                <script type=\"text/javascript\">window.PlotlyConfig = {MathJaxConfig: 'local'};</script>\n",
              "        <script src=\"https://cdn.plot.ly/plotly-latest.min.js\"></script>    \n",
              "            <div id=\"610f52d4-6c9f-46c2-83d5-8191411e2082\" class=\"plotly-graph-div\" style=\"height:525px; width:100%;\"></div>\n",
              "            <script type=\"text/javascript\">\n",
              "                \n",
              "                    window.PLOTLYENV=window.PLOTLYENV || {};\n",
              "                    \n",
              "                if (document.getElementById(\"610f52d4-6c9f-46c2-83d5-8191411e2082\")) {\n",
              "                    Plotly.newPlot(\n",
              "                        '610f52d4-6c9f-46c2-83d5-8191411e2082',\n",
              "                        [{\"alignmentgroup\": \"True\", \"hoverlabel\": {\"namelength\": 0}, \"hovertemplate\": \"OP_CARRIER=%{x}<br>mean=%{y}<br>count=%{marker.color}\", \"legendgroup\": \"\", \"marker\": {\"color\": [11626, 349, 17267, 20493, 70847, 186954, 35550, 23812, 52134, 27777, 142519, 71871, 24173, 227018, 24054, 59636, 27309, 74602, 66729, 315981, 45495, 59635, 224595, 26434, 19645, 2090], \"coloraxis\": \"coloraxis\"}, \"name\": \"\", \"offsetgroup\": \"\", \"orientation\": \"v\", \"showlegend\": false, \"textposition\": \"auto\", \"type\": \"bar\", \"x\": [\"C5\", \"KS\", \"AX\", \"G7\", \"B6\", \"OO\", \"EV\", \"CP\", \"YV\", \"F9\", \"UA\", \"MQ\", \"ZW\", \"AA\", \"G4\", \"9E\", \"QX\", \"YX\", \"OH\", \"WN\", \"NK\", \"AS\", \"DL\", \"PT\", \"HA\", \"EM\"], \"xaxis\": \"x\", \"y\": [55.64940650266644, 51.58166189111748, 38.044304164012274, 32.906797443029326, 30.890905754654398, 27.509638734662, 27.382869198312235, 23.747690240215018, 19.552422603291518, 19.294416243654823, 19.012545695661633, 17.178973438521798, 16.43974682497001, 15.20841519174691, 14.383553670907126, 13.539925548326515, 13.175766230912886, 12.765408434090238, 12.55061517481155, 12.400071523287792, 11.332981646334762, 9.089762723233001, 7.68901355773726, 4.715669213891201, 4.609671672181217, 3.0894736842105264], \"yaxis\": \"y\"}],\n",
              "                        {\"barmode\": \"relative\", \"coloraxis\": {\"colorbar\": {\"title\": {\"text\": \"count\"}}, \"colorscale\": [[0.0, \"#0d0887\"], [0.1111111111111111, \"#46039f\"], [0.2222222222222222, \"#7201a8\"], [0.3333333333333333, \"#9c179e\"], [0.4444444444444444, \"#bd3786\"], [0.5555555555555556, \"#d8576b\"], [0.6666666666666666, \"#ed7953\"], [0.7777777777777778, \"#fb9f3a\"], [0.8888888888888888, \"#fdca26\"], [1.0, \"#f0f921\"]]}, \"legend\": {\"tracegroupgap\": 0}, \"template\": {\"data\": {\"bar\": [{\"error_x\": {\"color\": \"#2a3f5f\"}, \"error_y\": {\"color\": \"#2a3f5f\"}, \"marker\": {\"line\": {\"color\": \"#E5ECF6\", \"width\": 0.5}}, \"type\": \"bar\"}], \"barpolar\": [{\"marker\": {\"line\": {\"color\": \"#E5ECF6\", \"width\": 0.5}}, \"type\": \"barpolar\"}], \"carpet\": [{\"aaxis\": {\"endlinecolor\": \"#2a3f5f\", \"gridcolor\": \"white\", \"linecolor\": \"white\", \"minorgridcolor\": \"white\", \"startlinecolor\": \"#2a3f5f\"}, \"baxis\": {\"endlinecolor\": \"#2a3f5f\", \"gridcolor\": \"white\", \"linecolor\": \"white\", \"minorgridcolor\": \"white\", \"startlinecolor\": \"#2a3f5f\"}, \"type\": \"carpet\"}], \"choropleth\": [{\"colorbar\": {\"outlinewidth\": 0, \"ticks\": \"\"}, \"type\": \"choropleth\"}], \"contour\": [{\"colorbar\": {\"outlinewidth\": 0, \"ticks\": \"\"}, \"colorscale\": [[0.0, \"#0d0887\"], [0.1111111111111111, \"#46039f\"], [0.2222222222222222, \"#7201a8\"], [0.3333333333333333, \"#9c179e\"], [0.4444444444444444, \"#bd3786\"], [0.5555555555555556, \"#d8576b\"], [0.6666666666666666, \"#ed7953\"], [0.7777777777777778, \"#fb9f3a\"], [0.8888888888888888, \"#fdca26\"], [1.0, \"#f0f921\"]], \"type\": \"contour\"}], \"contourcarpet\": [{\"colorbar\": {\"outlinewidth\": 0, \"ticks\": \"\"}, \"type\": \"contourcarpet\"}], \"heatmap\": [{\"colorbar\": {\"outlinewidth\": 0, \"ticks\": \"\"}, \"colorscale\": [[0.0, \"#0d0887\"], [0.1111111111111111, \"#46039f\"], [0.2222222222222222, \"#7201a8\"], [0.3333333333333333, \"#9c179e\"], [0.4444444444444444, \"#bd3786\"], [0.5555555555555556, \"#d8576b\"], [0.6666666666666666, \"#ed7953\"], [0.7777777777777778, \"#fb9f3a\"], [0.8888888888888888, \"#fdca26\"], [1.0, \"#f0f921\"]], \"type\": \"heatmap\"}], \"heatmapgl\": [{\"colorbar\": {\"outlinewidth\": 0, \"ticks\": \"\"}, \"colorscale\": [[0.0, \"#0d0887\"], [0.1111111111111111, \"#46039f\"], [0.2222222222222222, \"#7201a8\"], [0.3333333333333333, \"#9c179e\"], [0.4444444444444444, \"#bd3786\"], [0.5555555555555556, \"#d8576b\"], [0.6666666666666666, \"#ed7953\"], [0.7777777777777778, \"#fb9f3a\"], [0.8888888888888888, \"#fdca26\"], [1.0, \"#f0f921\"]], \"type\": \"heatmapgl\"}], \"histogram\": [{\"marker\": {\"colorbar\": {\"outlinewidth\": 0, \"ticks\": \"\"}}, \"type\": \"histogram\"}], \"histogram2d\": [{\"colorbar\": {\"outlinewidth\": 0, \"ticks\": \"\"}, \"colorscale\": [[0.0, \"#0d0887\"], [0.1111111111111111, \"#46039f\"], [0.2222222222222222, \"#7201a8\"], [0.3333333333333333, \"#9c179e\"], [0.4444444444444444, \"#bd3786\"], [0.5555555555555556, \"#d8576b\"], [0.6666666666666666, \"#ed7953\"], [0.7777777777777778, \"#fb9f3a\"], [0.8888888888888888, \"#fdca26\"], [1.0, \"#f0f921\"]], \"type\": \"histogram2d\"}], \"histogram2dcontour\": [{\"colorbar\": {\"outlinewidth\": 0, \"ticks\": \"\"}, \"colorscale\": [[0.0, \"#0d0887\"], [0.1111111111111111, \"#46039f\"], [0.2222222222222222, \"#7201a8\"], [0.3333333333333333, \"#9c179e\"], [0.4444444444444444, \"#bd3786\"], [0.5555555555555556, \"#d8576b\"], [0.6666666666666666, \"#ed7953\"], [0.7777777777777778, \"#fb9f3a\"], [0.8888888888888888, \"#fdca26\"], [1.0, \"#f0f921\"]], \"type\": \"histogram2dcontour\"}], \"mesh3d\": [{\"colorbar\": {\"outlinewidth\": 0, \"ticks\": \"\"}, \"type\": \"mesh3d\"}], \"parcoords\": [{\"line\": {\"colorbar\": {\"outlinewidth\": 0, \"ticks\": \"\"}}, \"type\": \"parcoords\"}], \"pie\": [{\"automargin\": true, \"type\": \"pie\"}], \"scatter\": [{\"marker\": {\"colorbar\": {\"outlinewidth\": 0, \"ticks\": \"\"}}, \"type\": \"scatter\"}], \"scatter3d\": [{\"line\": {\"colorbar\": {\"outlinewidth\": 0, \"ticks\": \"\"}}, \"marker\": {\"colorbar\": {\"outlinewidth\": 0, \"ticks\": \"\"}}, \"type\": \"scatter3d\"}], \"scattercarpet\": [{\"marker\": {\"colorbar\": {\"outlinewidth\": 0, \"ticks\": \"\"}}, \"type\": \"scattercarpet\"}], \"scattergeo\": [{\"marker\": {\"colorbar\": {\"outlinewidth\": 0, \"ticks\": \"\"}}, \"type\": \"scattergeo\"}], \"scattergl\": [{\"marker\": {\"colorbar\": {\"outlinewidth\": 0, \"ticks\": \"\"}}, \"type\": \"scattergl\"}], \"scattermapbox\": [{\"marker\": {\"colorbar\": {\"outlinewidth\": 0, \"ticks\": \"\"}}, \"type\": \"scattermapbox\"}], \"scatterpolar\": [{\"marker\": {\"colorbar\": {\"outlinewidth\": 0, \"ticks\": \"\"}}, \"type\": \"scatterpolar\"}], \"scatterpolargl\": [{\"marker\": {\"colorbar\": {\"outlinewidth\": 0, \"ticks\": \"\"}}, \"type\": \"scatterpolargl\"}], \"scatterternary\": [{\"marker\": {\"colorbar\": {\"outlinewidth\": 0, \"ticks\": \"\"}}, \"type\": \"scatterternary\"}], \"surface\": [{\"colorbar\": {\"outlinewidth\": 0, \"ticks\": \"\"}, \"colorscale\": [[0.0, \"#0d0887\"], [0.1111111111111111, \"#46039f\"], [0.2222222222222222, \"#7201a8\"], [0.3333333333333333, \"#9c179e\"], [0.4444444444444444, \"#bd3786\"], [0.5555555555555556, \"#d8576b\"], [0.6666666666666666, \"#ed7953\"], [0.7777777777777778, \"#fb9f3a\"], [0.8888888888888888, \"#fdca26\"], [1.0, \"#f0f921\"]], \"type\": \"surface\"}], \"table\": [{\"cells\": {\"fill\": {\"color\": \"#EBF0F8\"}, \"line\": {\"color\": \"white\"}}, \"header\": {\"fill\": {\"color\": \"#C8D4E3\"}, \"line\": {\"color\": \"white\"}}, \"type\": \"table\"}]}, \"layout\": {\"annotationdefaults\": {\"arrowcolor\": \"#2a3f5f\", \"arrowhead\": 0, \"arrowwidth\": 1}, \"coloraxis\": {\"colorbar\": {\"outlinewidth\": 0, \"ticks\": \"\"}}, \"colorscale\": {\"diverging\": [[0, \"#8e0152\"], [0.1, \"#c51b7d\"], [0.2, \"#de77ae\"], [0.3, \"#f1b6da\"], [0.4, \"#fde0ef\"], [0.5, \"#f7f7f7\"], [0.6, \"#e6f5d0\"], [0.7, \"#b8e186\"], [0.8, \"#7fbc41\"], [0.9, \"#4d9221\"], [1, \"#276419\"]], \"sequential\": [[0.0, \"#0d0887\"], [0.1111111111111111, \"#46039f\"], [0.2222222222222222, \"#7201a8\"], [0.3333333333333333, \"#9c179e\"], [0.4444444444444444, \"#bd3786\"], [0.5555555555555556, \"#d8576b\"], [0.6666666666666666, \"#ed7953\"], [0.7777777777777778, \"#fb9f3a\"], [0.8888888888888888, \"#fdca26\"], [1.0, \"#f0f921\"]], \"sequentialminus\": [[0.0, \"#0d0887\"], [0.1111111111111111, \"#46039f\"], [0.2222222222222222, \"#7201a8\"], [0.3333333333333333, \"#9c179e\"], [0.4444444444444444, \"#bd3786\"], [0.5555555555555556, \"#d8576b\"], [0.6666666666666666, \"#ed7953\"], [0.7777777777777778, \"#fb9f3a\"], [0.8888888888888888, \"#fdca26\"], [1.0, \"#f0f921\"]]}, \"colorway\": [\"#636efa\", \"#EF553B\", \"#00cc96\", \"#ab63fa\", \"#FFA15A\", \"#19d3f3\", \"#FF6692\", \"#B6E880\", \"#FF97FF\", \"#FECB52\"], \"font\": {\"color\": \"#2a3f5f\"}, \"geo\": {\"bgcolor\": \"white\", \"lakecolor\": \"white\", \"landcolor\": \"#E5ECF6\", \"showlakes\": true, \"showland\": true, \"subunitcolor\": \"white\"}, \"hoverlabel\": {\"align\": \"left\"}, \"hovermode\": \"closest\", \"mapbox\": {\"style\": \"light\"}, \"paper_bgcolor\": \"white\", \"plot_bgcolor\": \"#E5ECF6\", \"polar\": {\"angularaxis\": {\"gridcolor\": \"white\", \"linecolor\": \"white\", \"ticks\": \"\"}, \"bgcolor\": \"#E5ECF6\", \"radialaxis\": {\"gridcolor\": \"white\", \"linecolor\": \"white\", \"ticks\": \"\"}}, \"scene\": {\"xaxis\": {\"backgroundcolor\": \"#E5ECF6\", \"gridcolor\": \"white\", \"gridwidth\": 2, \"linecolor\": \"white\", \"showbackground\": true, \"ticks\": \"\", \"zerolinecolor\": \"white\"}, \"yaxis\": {\"backgroundcolor\": \"#E5ECF6\", \"gridcolor\": \"white\", \"gridwidth\": 2, \"linecolor\": \"white\", \"showbackground\": true, \"ticks\": \"\", \"zerolinecolor\": \"white\"}, \"zaxis\": {\"backgroundcolor\": \"#E5ECF6\", \"gridcolor\": \"white\", \"gridwidth\": 2, \"linecolor\": \"white\", \"showbackground\": true, \"ticks\": \"\", \"zerolinecolor\": \"white\"}}, \"shapedefaults\": {\"line\": {\"color\": \"#2a3f5f\"}}, \"ternary\": {\"aaxis\": {\"gridcolor\": \"white\", \"linecolor\": \"white\", \"ticks\": \"\"}, \"baxis\": {\"gridcolor\": \"white\", \"linecolor\": \"white\", \"ticks\": \"\"}, \"bgcolor\": \"#E5ECF6\", \"caxis\": {\"gridcolor\": \"white\", \"linecolor\": \"white\", \"ticks\": \"\"}}, \"title\": {\"x\": 0.05}, \"xaxis\": {\"automargin\": true, \"gridcolor\": \"white\", \"linecolor\": \"white\", \"ticks\": \"\", \"title\": {\"standoff\": 15}, \"zerolinecolor\": \"white\", \"zerolinewidth\": 2}, \"yaxis\": {\"automargin\": true, \"gridcolor\": \"white\", \"linecolor\": \"white\", \"ticks\": \"\", \"title\": {\"standoff\": 15}, \"zerolinecolor\": \"white\", \"zerolinewidth\": 2}}}, \"title\": {\"text\": \"Delays By Carrier Airlines\"}, \"xaxis\": {\"anchor\": \"y\", \"domain\": [0.0, 1.0], \"title\": {\"text\": \"OP_CARRIER\"}}, \"yaxis\": {\"anchor\": \"x\", \"domain\": [0.0, 1.0], \"title\": {\"text\": \"mean\"}}},\n",
              "                        {\"responsive\": true}\n",
              "                    ).then(function(){\n",
              "                            \n",
              "var gd = document.getElementById('610f52d4-6c9f-46c2-83d5-8191411e2082');\n",
              "var x = new MutationObserver(function (mutations, observer) {{\n",
              "        var display = window.getComputedStyle(gd).display;\n",
              "        if (!display || display === 'none') {{\n",
              "            console.log([gd, 'removed!']);\n",
              "            Plotly.purge(gd);\n",
              "            observer.disconnect();\n",
              "        }}\n",
              "}});\n",
              "\n",
              "// Listen for the removal of the full notebook cells\n",
              "var notebookContainer = gd.closest('#notebook-container');\n",
              "if (notebookContainer) {{\n",
              "    x.observe(notebookContainer, {childList: true});\n",
              "}}\n",
              "\n",
              "// Listen for the clearing of the current output cell\n",
              "var outputEl = gd.closest('.output');\n",
              "if (outputEl) {{\n",
              "    x.observe(outputEl, {childList: true});\n",
              "}}\n",
              "\n",
              "                        })\n",
              "                };\n",
              "                \n",
              "            </script>\n",
              "        </div>\n",
              "</body>\n",
              "</html>"
            ]
          },
          "metadata": {}
        }
      ]
    },
    {
      "cell_type": "markdown",
      "metadata": {
        "id": "RwhhyvXsFw7G"
      },
      "source": [
        "Lighter colors indicate more number of flights. No specific trend can be observed that shows more flights cause more delays. The carriers with highest delays are CS, KS, AX, G7."
      ]
    },
    {
      "cell_type": "markdown",
      "metadata": {
        "id": "uTo178eekNw_"
      },
      "source": [
        "**Tickets Dataset**"
      ]
    },
    {
      "cell_type": "code",
      "metadata": {
        "colab": {
          "base_uri": "https://localhost:8080/"
        },
        "id": "di8HHQZlhErg",
        "outputId": "1efb9f78-5a60-4ddf-9e89-091199117ae3"
      },
      "source": [
        "tickets.shape"
      ],
      "execution_count": null,
      "outputs": [
        {
          "output_type": "execute_result",
          "data": {
            "text/plain": [
              "(706849, 12)"
            ]
          },
          "metadata": {},
          "execution_count": 74
        }
      ]
    },
    {
      "cell_type": "code",
      "metadata": {
        "colab": {
          "base_uri": "https://localhost:8080/",
          "height": 294
        },
        "id": "0jDLpmTOhHpu",
        "outputId": "150adae5-850b-4290-c739-4ec33a243f39"
      },
      "source": [
        "tickets.describe()"
      ],
      "execution_count": null,
      "outputs": [
        {
          "output_type": "execute_result",
          "data": {
            "text/html": [
              "<div>\n",
              "<style scoped>\n",
              "    .dataframe tbody tr th:only-of-type {\n",
              "        vertical-align: middle;\n",
              "    }\n",
              "\n",
              "    .dataframe tbody tr th {\n",
              "        vertical-align: top;\n",
              "    }\n",
              "\n",
              "    .dataframe thead th {\n",
              "        text-align: right;\n",
              "    }\n",
              "</style>\n",
              "<table border=\"1\" class=\"dataframe\">\n",
              "  <thead>\n",
              "    <tr style=\"text-align: right;\">\n",
              "      <th></th>\n",
              "      <th>ITIN_ID</th>\n",
              "      <th>YEAR</th>\n",
              "      <th>QUARTER</th>\n",
              "      <th>ROUNDTRIP</th>\n",
              "      <th>PASSENGERS</th>\n",
              "      <th>ITIN_FARE</th>\n",
              "    </tr>\n",
              "  </thead>\n",
              "  <tbody>\n",
              "    <tr>\n",
              "      <th>count</th>\n",
              "      <td>7.068490e+05</td>\n",
              "      <td>706849.0</td>\n",
              "      <td>706849.0</td>\n",
              "      <td>706849.0</td>\n",
              "      <td>706849.000000</td>\n",
              "      <td>706849.000000</td>\n",
              "    </tr>\n",
              "    <tr>\n",
              "      <th>mean</th>\n",
              "      <td>1.733162e+11</td>\n",
              "      <td>2019.0</td>\n",
              "      <td>1.0</td>\n",
              "      <td>1.0</td>\n",
              "      <td>1.936665</td>\n",
              "      <td>473.380643</td>\n",
              "    </tr>\n",
              "    <tr>\n",
              "      <th>std</th>\n",
              "      <td>6.681083e+10</td>\n",
              "      <td>0.0</td>\n",
              "      <td>0.0</td>\n",
              "      <td>0.0</td>\n",
              "      <td>5.041756</td>\n",
              "      <td>344.210022</td>\n",
              "    </tr>\n",
              "    <tr>\n",
              "      <th>min</th>\n",
              "      <td>2.019119e+06</td>\n",
              "      <td>2019.0</td>\n",
              "      <td>1.0</td>\n",
              "      <td>1.0</td>\n",
              "      <td>1.000000</td>\n",
              "      <td>0.000000</td>\n",
              "    </tr>\n",
              "    <tr>\n",
              "      <th>25%</th>\n",
              "      <td>2.019116e+11</td>\n",
              "      <td>2019.0</td>\n",
              "      <td>1.0</td>\n",
              "      <td>1.0</td>\n",
              "      <td>1.000000</td>\n",
              "      <td>279.000000</td>\n",
              "    </tr>\n",
              "    <tr>\n",
              "      <th>50%</th>\n",
              "      <td>2.019128e+11</td>\n",
              "      <td>2019.0</td>\n",
              "      <td>1.0</td>\n",
              "      <td>1.0</td>\n",
              "      <td>1.000000</td>\n",
              "      <td>416.000000</td>\n",
              "    </tr>\n",
              "    <tr>\n",
              "      <th>75%</th>\n",
              "      <td>2.019140e+11</td>\n",
              "      <td>2019.0</td>\n",
              "      <td>1.0</td>\n",
              "      <td>1.0</td>\n",
              "      <td>1.000000</td>\n",
              "      <td>596.000000</td>\n",
              "    </tr>\n",
              "    <tr>\n",
              "      <th>max</th>\n",
              "      <td>2.019153e+11</td>\n",
              "      <td>2019.0</td>\n",
              "      <td>1.0</td>\n",
              "      <td>1.0</td>\n",
              "      <td>681.000000</td>\n",
              "      <td>38400.000000</td>\n",
              "    </tr>\n",
              "  </tbody>\n",
              "</table>\n",
              "</div>"
            ],
            "text/plain": [
              "            ITIN_ID      YEAR  ...     PASSENGERS      ITIN_FARE\n",
              "count  7.068490e+05  706849.0  ...  706849.000000  706849.000000\n",
              "mean   1.733162e+11    2019.0  ...       1.936665     473.380643\n",
              "std    6.681083e+10       0.0  ...       5.041756     344.210022\n",
              "min    2.019119e+06    2019.0  ...       1.000000       0.000000\n",
              "25%    2.019116e+11    2019.0  ...       1.000000     279.000000\n",
              "50%    2.019128e+11    2019.0  ...       1.000000     416.000000\n",
              "75%    2.019140e+11    2019.0  ...       1.000000     596.000000\n",
              "max    2.019153e+11    2019.0  ...     681.000000   38400.000000\n",
              "\n",
              "[8 rows x 6 columns]"
            ]
          },
          "metadata": {},
          "execution_count": 75
        }
      ]
    },
    {
      "cell_type": "code",
      "metadata": {
        "colab": {
          "base_uri": "https://localhost:8080/"
        },
        "id": "0cmhAdZ0hKsG",
        "outputId": "3b9c28d5-2bcf-47fe-d0d9-68aa188c192e"
      },
      "source": [
        "tickets.median()"
      ],
      "execution_count": null,
      "outputs": [
        {
          "output_type": "execute_result",
          "data": {
            "text/plain": [
              "ITIN_ID       2.019128e+11\n",
              "YEAR          2.019000e+03\n",
              "QUARTER       1.000000e+00\n",
              "ROUNDTRIP     1.000000e+00\n",
              "PASSENGERS    1.000000e+00\n",
              "ITIN_FARE     4.160000e+02\n",
              "dtype: float64"
            ]
          },
          "metadata": {},
          "execution_count": 76
        }
      ]
    },
    {
      "cell_type": "markdown",
      "metadata": {
        "id": "AZl3RG1PhOJc"
      },
      "source": [
        "The Tickets dataset has about 1.1 million datapoints. However, since this is only a sample dataset, the numbers can only be assumed to be close to exact values while analyzing. Also, apart from Passengers and ITIN_FARE, the other summary statistics for the dataset donot hold any meaningful information.  \n",
        "\n",
        "Skewness: ITIN_FARE and Passengers column are both positively skewed since mean > median."
      ]
    },
    {
      "cell_type": "markdown",
      "metadata": {
        "id": "4Uq3JuTJXPqq"
      },
      "source": [
        "**Relationship between Reporting Carrier and ITIN_FARE**"
      ]
    },
    {
      "cell_type": "code",
      "metadata": {
        "id": "YDspZROPXRCA"
      },
      "source": [
        "fig = go.Figure()\n",
        "\n",
        "for grp in tickets.groupby([\"REPORTING_CARRIER\"]):\n",
        "  if grp[0]!=\"OO\":\n",
        "    fig.add_trace(go.Box(y=grp[1][\"ITIN_FARE\"],name=grp[0]))\n",
        "\n",
        "fig.update_layout(title=\"Distribution Fare by Airline Carrier\",\n",
        "                  xaxis_title=\"Ticket Reporting Carrier\",\n",
        "                  yaxis_title=\"Fare in $\")\n",
        "fig.show()"
      ],
      "execution_count": null,
      "outputs": []
    },
    {
      "cell_type": "markdown",
      "metadata": {
        "id": "hhwaJ0QZXZdP"
      },
      "source": [
        "- From the plot above, the distribution of fares by carriers seems to have a lot of outliers, therefore, only median values shall be considered while calculating profit values using fare.\n",
        "- It can also be seen that major airlines like American Airlines and United Airlines have wide range of fares, which could be because they operate in multiple routes and covers many different routes compared to other airlines."
      ]
    },
    {
      "cell_type": "markdown",
      "metadata": {
        "id": "sMPAr8qCkRIQ"
      },
      "source": [
        "**Airport Codes Dataset**"
      ]
    },
    {
      "cell_type": "code",
      "metadata": {
        "colab": {
          "base_uri": "https://localhost:8080/"
        },
        "id": "cwwRzJlAj5xc",
        "outputId": "d1fd947e-5a7c-4f10-c312-606d35d0c477"
      },
      "source": [
        "ac.shape"
      ],
      "execution_count": null,
      "outputs": [
        {
          "output_type": "execute_result",
          "data": {
            "text/plain": [
              "(55369, 8)"
            ]
          },
          "metadata": {},
          "execution_count": 78
        }
      ]
    },
    {
      "cell_type": "markdown",
      "metadata": {
        "id": "F2U082dmklLW"
      },
      "source": [
        "Since, most variables in this dataset are non numerical variables, doing a describe would not be appropriate."
      ]
    },
    {
      "cell_type": "code",
      "metadata": {
        "colab": {
          "base_uri": "https://localhost:8080/"
        },
        "id": "9_Om5SSSpgCI",
        "outputId": "5c083851-549f-40bc-c8e6-dad1c0cf36ac"
      },
      "source": [
        "ac['IATA_CODE'].dropna().nunique()"
      ],
      "execution_count": null,
      "outputs": [
        {
          "output_type": "execute_result",
          "data": {
            "text/plain": [
              "9062"
            ]
          },
          "metadata": {},
          "execution_count": 79
        }
      ]
    },
    {
      "cell_type": "code",
      "metadata": {
        "colab": {
          "base_uri": "https://localhost:8080/"
        },
        "id": "9iXbDx-5kkam",
        "outputId": "6651022b-4843-4631-b228-514c3e2d3feb"
      },
      "source": [
        "ac['TYPE'].value_counts(sort=True)"
      ],
      "execution_count": null,
      "outputs": [
        {
          "output_type": "execute_result",
          "data": {
            "text/plain": [
              "small_airport     34120\n",
              "heliport          11384\n",
              "medium_airport     4532\n",
              "closed             3680\n",
              "seaplane_base      1016\n",
              "large_airport       614\n",
              "balloonport          23\n",
              "Name: TYPE, dtype: int64"
            ]
          },
          "metadata": {},
          "execution_count": 80
        }
      ]
    },
    {
      "cell_type": "markdown",
      "metadata": {
        "id": "qxJ41Nxbpq-z"
      },
      "source": [
        "There are 9062 unique origin/destination ports in the dataset, which have each been categorized into one TYPE of airports amongst small airports, medium airports, large airports, closed airports, heliports and seaplane base. The number of small airports is the maximum followed by medium and large airports. **For this project, only medium and large airports have been taken into consideration.**"
      ]
    },
    {
      "cell_type": "markdown",
      "metadata": {
        "id": "ChMTjie26yo-"
      },
      "source": [
        "**Combined Datasets EDA**"
      ]
    },
    {
      "cell_type": "markdown",
      "metadata": {
        "id": "PDA49w_d1Cgt"
      },
      "source": [
        "**Number of Flights Operated by each carrier throught out the quarter**"
      ]
    },
    {
      "cell_type": "code",
      "metadata": {
        "id": "cnUQ9r3h-w8b"
      },
      "source": [
        "nFlights_perQuarter = flights.groupby(\"OP_CARRIER\").count()['FL_DATE'].reset_index().sort_values(\"FL_DATE\",ascending=False).reset_index().rename({\"OP_CARRIER\":\"CARRIER\",\"FL_DATE\":\"nFlights_perQuarter\"},axis=1)\n",
        "nTickets_perQuarter = pd.DataFrame(tickets.groupby([\"REPORTING_CARRIER\"]).count()[\"ITIN_ID\"].sort_values(ascending=False)).reset_index().rename({\"REPORTING_CARRIER\":\"CARRIER\",\"ITIN_ID\":\"nTickets_perQuarter\"},axis=1)\n",
        "nDistinct_routes = pd.DataFrame(tickets.groupby([\"REPORTING_CARRIER\",\"ORIGIN\",\"DESTINATION\"]).count().reset_index().groupby(\"REPORTING_CARRIER\").count()[\"ORIGIN\"].sort_values(ascending=False)).reset_index().rename({\"REPORTING_CARRIER\":\"CARRIER\",\"ORIGIN\":\"nDitinctRoutesCovered\"},axis=1)"
      ],
      "execution_count": null,
      "outputs": []
    },
    {
      "cell_type": "code",
      "metadata": {
        "colab": {
          "base_uri": "https://localhost:8080/",
          "height": 542
        },
        "id": "dH5KokM3_rz-",
        "outputId": "4b657518-466f-42f2-e789-fee971935b0c"
      },
      "source": [
        "res_plot = nFlights_perQuarter.merge(nTickets_perQuarter,on=\"CARRIER\",how=\"outer\").merge(nDistinct_routes,on=\"CARRIER\",how=\"outer\").dropna()\n",
        "res_plot[\"nFlights_perQuarter\"] = res_plot[\"nFlights_perQuarter\"]/1000\n",
        "res_plot[\"nTickets_perQuarter\"] = res_plot[\"nTickets_perQuarter\"]/1000\n",
        "res_plot[\"nDitinctRoutesCovered\"] = res_plot[\"nDitinctRoutesCovered\"]/100\n",
        "\n",
        "fig = go.Figure(data=[\n",
        "    go.Bar(name='Number of Flights Per Quarter(in 1000s)', x=res_plot[\"CARRIER\"], y=res_plot[\"nFlights_perQuarter\"]),\n",
        "    go.Bar(name='Number of Tickets per Quarter(in 1000s)', x=res_plot[\"CARRIER\"], y=res_plot[\"nTickets_perQuarter\"]),\n",
        "    go.Bar(name='Number of Distinct Routes Covered(in 100s)', x=res_plot[\"CARRIER\"], y=res_plot[\"nDitinctRoutesCovered\"])\n",
        "])\n",
        "# Change the bar mode\n",
        "fig.update_layout(barmode='group',title=\"Summary of Carrier in terms of Tickets Sold, Flights Completed,Distinct Routes covered in a Quarter\")\n",
        "fig.show()"
      ],
      "execution_count": null,
      "outputs": [
        {
          "output_type": "display_data",
          "data": {
            "text/html": [
              "<html>\n",
              "<head><meta charset=\"utf-8\" /></head>\n",
              "<body>\n",
              "    <div>\n",
              "            <script src=\"https://cdnjs.cloudflare.com/ajax/libs/mathjax/2.7.5/MathJax.js?config=TeX-AMS-MML_SVG\"></script><script type=\"text/javascript\">if (window.MathJax) {MathJax.Hub.Config({SVG: {font: \"STIX-Web\"}});}</script>\n",
              "                <script type=\"text/javascript\">window.PlotlyConfig = {MathJaxConfig: 'local'};</script>\n",
              "        <script src=\"https://cdn.plot.ly/plotly-latest.min.js\"></script>    \n",
              "            <div id=\"fd3c276a-107f-4d74-8d3b-a34f971f9288\" class=\"plotly-graph-div\" style=\"height:525px; width:100%;\"></div>\n",
              "            <script type=\"text/javascript\">\n",
              "                \n",
              "                    window.PLOTLYENV=window.PLOTLYENV || {};\n",
              "                    \n",
              "                if (document.getElementById(\"fd3c276a-107f-4d74-8d3b-a34f971f9288\")) {\n",
              "                    Plotly.newPlot(\n",
              "                        'fd3c276a-107f-4d74-8d3b-a34f971f9288',\n",
              "                        [{\"name\": \"Number of Flights Per Quarter(in 1000s)\", \"type\": \"bar\", \"x\": [\"WN\", \"AA\", \"DL\", \"OO\", \"UA\", \"YX\", \"MQ\", \"B6\", \"OH\", \"9E\", \"AS\", \"YV\", \"NK\", \"EV\", \"F9\", \"QX\", \"G4\", \"CP\", \"G7\", \"HA\"], \"y\": [315.981, 227.018, 224.595, 186.954, 142.519, 74.602, 71.871, 70.847, 66.729, 59.636, 59.635, 52.134, 45.495, 35.55, 27.777, 27.309, 24.054, 23.812, 20.493, 19.645]}, {\"name\": \"Number of Tickets per Quarter(in 1000s)\", \"type\": \"bar\", \"x\": [\"WN\", \"AA\", \"DL\", \"OO\", \"UA\", \"YX\", \"MQ\", \"B6\", \"OH\", \"9E\", \"AS\", \"YV\", \"NK\", \"EV\", \"F9\", \"QX\", \"G4\", \"CP\", \"G7\", \"HA\"], \"y\": [116.247, 101.76, 109.571, 72.687, 73.861, 22.132, 27.884, 19.211, 20.113, 17.713, 26.254, 15.056, 16.18, 8.452, 7.363, 10.332, 22.482, 5.585, 6.597, 5.143]}, {\"name\": \"Number of Distinct Routes Covered(in 100s)\", \"type\": \"bar\", \"x\": [\"WN\", \"AA\", \"DL\", \"OO\", \"UA\", \"YX\", \"MQ\", \"B6\", \"OH\", \"9E\", \"AS\", \"YV\", \"NK\", \"EV\", \"F9\", \"QX\", \"G4\", \"CP\", \"G7\", \"HA\"], \"y\": [51.5, 117.8, 130.75, 137.22, 94.54, 36.12, 57.64, 9.29, 51.03, 41.2, 20.42, 40.89, 7.97, 23.69, 7.04, 11.19, 6.57, 9.6, 20.72, 2.3]}],\n",
              "                        {\"barmode\": \"group\", \"template\": {\"data\": {\"bar\": [{\"error_x\": {\"color\": \"#2a3f5f\"}, \"error_y\": {\"color\": \"#2a3f5f\"}, \"marker\": {\"line\": {\"color\": \"#E5ECF6\", \"width\": 0.5}}, \"type\": \"bar\"}], \"barpolar\": [{\"marker\": {\"line\": {\"color\": \"#E5ECF6\", \"width\": 0.5}}, \"type\": \"barpolar\"}], \"carpet\": [{\"aaxis\": {\"endlinecolor\": \"#2a3f5f\", \"gridcolor\": \"white\", \"linecolor\": \"white\", \"minorgridcolor\": \"white\", \"startlinecolor\": \"#2a3f5f\"}, \"baxis\": {\"endlinecolor\": \"#2a3f5f\", \"gridcolor\": \"white\", \"linecolor\": \"white\", \"minorgridcolor\": \"white\", \"startlinecolor\": \"#2a3f5f\"}, \"type\": \"carpet\"}], \"choropleth\": [{\"colorbar\": {\"outlinewidth\": 0, \"ticks\": \"\"}, \"type\": \"choropleth\"}], \"contour\": [{\"colorbar\": {\"outlinewidth\": 0, \"ticks\": \"\"}, \"colorscale\": [[0.0, \"#0d0887\"], [0.1111111111111111, \"#46039f\"], [0.2222222222222222, \"#7201a8\"], [0.3333333333333333, \"#9c179e\"], [0.4444444444444444, \"#bd3786\"], [0.5555555555555556, \"#d8576b\"], [0.6666666666666666, \"#ed7953\"], [0.7777777777777778, \"#fb9f3a\"], [0.8888888888888888, \"#fdca26\"], [1.0, \"#f0f921\"]], \"type\": \"contour\"}], \"contourcarpet\": [{\"colorbar\": {\"outlinewidth\": 0, \"ticks\": \"\"}, \"type\": \"contourcarpet\"}], \"heatmap\": [{\"colorbar\": {\"outlinewidth\": 0, \"ticks\": \"\"}, \"colorscale\": [[0.0, \"#0d0887\"], [0.1111111111111111, \"#46039f\"], [0.2222222222222222, \"#7201a8\"], [0.3333333333333333, \"#9c179e\"], [0.4444444444444444, \"#bd3786\"], [0.5555555555555556, \"#d8576b\"], [0.6666666666666666, \"#ed7953\"], [0.7777777777777778, \"#fb9f3a\"], [0.8888888888888888, \"#fdca26\"], [1.0, \"#f0f921\"]], \"type\": \"heatmap\"}], \"heatmapgl\": [{\"colorbar\": {\"outlinewidth\": 0, \"ticks\": \"\"}, \"colorscale\": [[0.0, \"#0d0887\"], [0.1111111111111111, \"#46039f\"], [0.2222222222222222, \"#7201a8\"], [0.3333333333333333, \"#9c179e\"], [0.4444444444444444, \"#bd3786\"], [0.5555555555555556, \"#d8576b\"], [0.6666666666666666, \"#ed7953\"], [0.7777777777777778, \"#fb9f3a\"], [0.8888888888888888, \"#fdca26\"], [1.0, \"#f0f921\"]], \"type\": \"heatmapgl\"}], \"histogram\": [{\"marker\": {\"colorbar\": {\"outlinewidth\": 0, \"ticks\": \"\"}}, \"type\": \"histogram\"}], \"histogram2d\": [{\"colorbar\": {\"outlinewidth\": 0, \"ticks\": \"\"}, \"colorscale\": [[0.0, \"#0d0887\"], [0.1111111111111111, \"#46039f\"], [0.2222222222222222, \"#7201a8\"], [0.3333333333333333, \"#9c179e\"], [0.4444444444444444, \"#bd3786\"], [0.5555555555555556, \"#d8576b\"], [0.6666666666666666, \"#ed7953\"], [0.7777777777777778, \"#fb9f3a\"], [0.8888888888888888, \"#fdca26\"], [1.0, \"#f0f921\"]], \"type\": \"histogram2d\"}], \"histogram2dcontour\": [{\"colorbar\": {\"outlinewidth\": 0, \"ticks\": \"\"}, \"colorscale\": [[0.0, \"#0d0887\"], [0.1111111111111111, \"#46039f\"], [0.2222222222222222, \"#7201a8\"], [0.3333333333333333, \"#9c179e\"], [0.4444444444444444, \"#bd3786\"], [0.5555555555555556, \"#d8576b\"], [0.6666666666666666, \"#ed7953\"], [0.7777777777777778, \"#fb9f3a\"], [0.8888888888888888, \"#fdca26\"], [1.0, \"#f0f921\"]], \"type\": \"histogram2dcontour\"}], \"mesh3d\": [{\"colorbar\": {\"outlinewidth\": 0, \"ticks\": \"\"}, \"type\": \"mesh3d\"}], \"parcoords\": [{\"line\": {\"colorbar\": {\"outlinewidth\": 0, \"ticks\": \"\"}}, \"type\": \"parcoords\"}], \"pie\": [{\"automargin\": true, \"type\": \"pie\"}], \"scatter\": [{\"marker\": {\"colorbar\": {\"outlinewidth\": 0, \"ticks\": \"\"}}, \"type\": \"scatter\"}], \"scatter3d\": [{\"line\": {\"colorbar\": {\"outlinewidth\": 0, \"ticks\": \"\"}}, \"marker\": {\"colorbar\": {\"outlinewidth\": 0, \"ticks\": \"\"}}, \"type\": \"scatter3d\"}], \"scattercarpet\": [{\"marker\": {\"colorbar\": {\"outlinewidth\": 0, \"ticks\": \"\"}}, \"type\": \"scattercarpet\"}], \"scattergeo\": [{\"marker\": {\"colorbar\": {\"outlinewidth\": 0, \"ticks\": \"\"}}, \"type\": \"scattergeo\"}], \"scattergl\": [{\"marker\": {\"colorbar\": {\"outlinewidth\": 0, \"ticks\": \"\"}}, \"type\": \"scattergl\"}], \"scattermapbox\": [{\"marker\": {\"colorbar\": {\"outlinewidth\": 0, \"ticks\": \"\"}}, \"type\": \"scattermapbox\"}], \"scatterpolar\": [{\"marker\": {\"colorbar\": {\"outlinewidth\": 0, \"ticks\": \"\"}}, \"type\": \"scatterpolar\"}], \"scatterpolargl\": [{\"marker\": {\"colorbar\": {\"outlinewidth\": 0, \"ticks\": \"\"}}, \"type\": \"scatterpolargl\"}], \"scatterternary\": [{\"marker\": {\"colorbar\": {\"outlinewidth\": 0, \"ticks\": \"\"}}, \"type\": \"scatterternary\"}], \"surface\": [{\"colorbar\": {\"outlinewidth\": 0, \"ticks\": \"\"}, \"colorscale\": [[0.0, \"#0d0887\"], [0.1111111111111111, \"#46039f\"], [0.2222222222222222, \"#7201a8\"], [0.3333333333333333, \"#9c179e\"], [0.4444444444444444, \"#bd3786\"], [0.5555555555555556, \"#d8576b\"], [0.6666666666666666, \"#ed7953\"], [0.7777777777777778, \"#fb9f3a\"], [0.8888888888888888, \"#fdca26\"], [1.0, \"#f0f921\"]], \"type\": \"surface\"}], \"table\": [{\"cells\": {\"fill\": {\"color\": \"#EBF0F8\"}, \"line\": {\"color\": \"white\"}}, \"header\": {\"fill\": {\"color\": \"#C8D4E3\"}, \"line\": {\"color\": \"white\"}}, \"type\": \"table\"}]}, \"layout\": {\"annotationdefaults\": {\"arrowcolor\": \"#2a3f5f\", \"arrowhead\": 0, \"arrowwidth\": 1}, \"coloraxis\": {\"colorbar\": {\"outlinewidth\": 0, \"ticks\": \"\"}}, \"colorscale\": {\"diverging\": [[0, \"#8e0152\"], [0.1, \"#c51b7d\"], [0.2, \"#de77ae\"], [0.3, \"#f1b6da\"], [0.4, \"#fde0ef\"], [0.5, \"#f7f7f7\"], [0.6, \"#e6f5d0\"], [0.7, \"#b8e186\"], [0.8, \"#7fbc41\"], [0.9, \"#4d9221\"], [1, \"#276419\"]], \"sequential\": [[0.0, \"#0d0887\"], [0.1111111111111111, \"#46039f\"], [0.2222222222222222, \"#7201a8\"], [0.3333333333333333, \"#9c179e\"], [0.4444444444444444, \"#bd3786\"], [0.5555555555555556, \"#d8576b\"], [0.6666666666666666, \"#ed7953\"], [0.7777777777777778, \"#fb9f3a\"], [0.8888888888888888, \"#fdca26\"], [1.0, \"#f0f921\"]], \"sequentialminus\": [[0.0, \"#0d0887\"], [0.1111111111111111, \"#46039f\"], [0.2222222222222222, \"#7201a8\"], [0.3333333333333333, \"#9c179e\"], [0.4444444444444444, \"#bd3786\"], [0.5555555555555556, \"#d8576b\"], [0.6666666666666666, \"#ed7953\"], [0.7777777777777778, \"#fb9f3a\"], [0.8888888888888888, \"#fdca26\"], [1.0, \"#f0f921\"]]}, \"colorway\": [\"#636efa\", \"#EF553B\", \"#00cc96\", \"#ab63fa\", \"#FFA15A\", \"#19d3f3\", \"#FF6692\", \"#B6E880\", \"#FF97FF\", \"#FECB52\"], \"font\": {\"color\": \"#2a3f5f\"}, \"geo\": {\"bgcolor\": \"white\", \"lakecolor\": \"white\", \"landcolor\": \"#E5ECF6\", \"showlakes\": true, \"showland\": true, \"subunitcolor\": \"white\"}, \"hoverlabel\": {\"align\": \"left\"}, \"hovermode\": \"closest\", \"mapbox\": {\"style\": \"light\"}, \"paper_bgcolor\": \"white\", \"plot_bgcolor\": \"#E5ECF6\", \"polar\": {\"angularaxis\": {\"gridcolor\": \"white\", \"linecolor\": \"white\", \"ticks\": \"\"}, \"bgcolor\": \"#E5ECF6\", \"radialaxis\": {\"gridcolor\": \"white\", \"linecolor\": \"white\", \"ticks\": \"\"}}, \"scene\": {\"xaxis\": {\"backgroundcolor\": \"#E5ECF6\", \"gridcolor\": \"white\", \"gridwidth\": 2, \"linecolor\": \"white\", \"showbackground\": true, \"ticks\": \"\", \"zerolinecolor\": \"white\"}, \"yaxis\": {\"backgroundcolor\": \"#E5ECF6\", \"gridcolor\": \"white\", \"gridwidth\": 2, \"linecolor\": \"white\", \"showbackground\": true, \"ticks\": \"\", \"zerolinecolor\": \"white\"}, \"zaxis\": {\"backgroundcolor\": \"#E5ECF6\", \"gridcolor\": \"white\", \"gridwidth\": 2, \"linecolor\": \"white\", \"showbackground\": true, \"ticks\": \"\", \"zerolinecolor\": \"white\"}}, \"shapedefaults\": {\"line\": {\"color\": \"#2a3f5f\"}}, \"ternary\": {\"aaxis\": {\"gridcolor\": \"white\", \"linecolor\": \"white\", \"ticks\": \"\"}, \"baxis\": {\"gridcolor\": \"white\", \"linecolor\": \"white\", \"ticks\": \"\"}, \"bgcolor\": \"#E5ECF6\", \"caxis\": {\"gridcolor\": \"white\", \"linecolor\": \"white\", \"ticks\": \"\"}}, \"title\": {\"x\": 0.05}, \"xaxis\": {\"automargin\": true, \"gridcolor\": \"white\", \"linecolor\": \"white\", \"ticks\": \"\", \"title\": {\"standoff\": 15}, \"zerolinecolor\": \"white\", \"zerolinewidth\": 2}, \"yaxis\": {\"automargin\": true, \"gridcolor\": \"white\", \"linecolor\": \"white\", \"ticks\": \"\", \"title\": {\"standoff\": 15}, \"zerolinecolor\": \"white\", \"zerolinewidth\": 2}}}, \"title\": {\"text\": \"Summary of Carrier in terms of Tickets Sold, Flights Completed,Distinct Routes covered in a Quarter\"}},\n",
              "                        {\"responsive\": true}\n",
              "                    ).then(function(){\n",
              "                            \n",
              "var gd = document.getElementById('fd3c276a-107f-4d74-8d3b-a34f971f9288');\n",
              "var x = new MutationObserver(function (mutations, observer) {{\n",
              "        var display = window.getComputedStyle(gd).display;\n",
              "        if (!display || display === 'none') {{\n",
              "            console.log([gd, 'removed!']);\n",
              "            Plotly.purge(gd);\n",
              "            observer.disconnect();\n",
              "        }}\n",
              "}});\n",
              "\n",
              "// Listen for the removal of the full notebook cells\n",
              "var notebookContainer = gd.closest('#notebook-container');\n",
              "if (notebookContainer) {{\n",
              "    x.observe(notebookContainer, {childList: true});\n",
              "}}\n",
              "\n",
              "// Listen for the clearing of the current output cell\n",
              "var outputEl = gd.closest('.output');\n",
              "if (outputEl) {{\n",
              "    x.observe(outputEl, {childList: true});\n",
              "}}\n",
              "\n",
              "                        })\n",
              "                };\n",
              "                \n",
              "            </script>\n",
              "        </div>\n",
              "</body>\n",
              "</html>"
            ]
          },
          "metadata": {}
        }
      ]
    },
    {
      "cell_type": "markdown",
      "metadata": {
        "id": "PZa_cukF1c5X"
      },
      "source": [
        "- From this plot, it can be seen that SouthWest Airlines have the highest number of flights per quarter, but they have a very specific(concentrated) market that they run their flights in. It can also be said that not many people take that route inspite of more number of flight options(this could be because the tickets dataset only contains sample data).\n",
        "\n",
        "- Moreover, apart fron WN, AA, DL, OO are also major players in terms of number of flights. In comparison, they have more spread out routes. \n",
        "\n",
        "- Smaller flights like G4 have a good ratio of number of flights and number of tickets, even when they have a lower diversity of routes (again, this analysis could be impacted if the tickets dataset would have complete data)"
      ]
    },
    {
      "cell_type": "markdown",
      "metadata": {
        "id": "9-ySzqZVgSjO"
      },
      "source": [
        "## **The 10 busiest round trip routes in terms of number of round trip flights in the quarter** \n",
        "(Note: Cancelled flights not included)"
      ]
    },
    {
      "cell_type": "markdown",
      "metadata": {
        "id": "SX_mJRgn_zX8"
      },
      "source": [
        "* Busiest route is calcuated using flights data. It provides one way flight details of different routes. Here, a round trip has been considered as count of flights from A $\\rightarrow$ B and B $\\rightarrow$ A. \n",
        "* Afterwards, the minimum value of those counts have been taken as the number of round trips in that route."
      ]
    },
    {
      "cell_type": "code",
      "metadata": {
        "id": "XsGtWmBCXeBP"
      },
      "source": [
        "# Since only non-cancelled flights have been considered, renaming dataframe for convenience\n",
        "f_nc = flights \n",
        "\n",
        "# RSW-RSW not making sense hence removing it (this was found while counting number of flights in the next code chunk)\n",
        "f_nc[(f_nc['ORIGIN']==\"RSW\") & (f_nc['DESTINATION']==\"RSW\")]\n",
        "f_nc = f_nc.drop(f_nc[(f_nc['ORIGIN']==\"RSW\") & (f_nc['DESTINATION']==\"RSW\")].index,axis=0)"
      ],
      "execution_count": null,
      "outputs": []
    },
    {
      "cell_type": "code",
      "metadata": {
        "colab": {
          "base_uri": "https://localhost:8080/",
          "height": 414
        },
        "id": "ArP33FWlYB2u",
        "outputId": "2d0cb021-38a2-40ff-9124-7d729918a3d9"
      },
      "source": [
        "# For counting of round trip flights:\n",
        "# First the number of flights have been counted by grouping origin and destination for every carrier airline\n",
        "# Then, the minimum count value has been taken from both way trip counts\n",
        "\n",
        "grp_obj = f_nc.groupby([\"OP_CARRIER\",\"ORIGIN\",\"DESTINATION\"])\n",
        "dfr = pd.DataFrame(grp_obj['FL_DATE'].count()).reset_index()\n",
        "round_trips = pd.DataFrame([(key,dfr[((dfr['ORIGIN']==key[0]) | (dfr['ORIGIN']==key[1])) & ((dfr['DESTINATION']==key[1]) | (dfr['DESTINATION']==key[0]))]['FL_DATE'].min()) for key in grp_obj.groups.keys()])\n",
        "res = round_trips.sort_values(1,ascending=False).rename({0:\"roundTripRoute\",1:\"count\"},axis=1)\n",
        "\n",
        "dfr[\"roundTripRoute\"] = list(zip(dfr[\"ORIGIN\"],dfr[\"DESTINATION\"]))\n",
        "dfr = dfr[[\"OP_CARRIER\",\"roundTripRoute\",\"FL_DATE\"]]\n",
        "dfr=dfr[dfr['roundTripRoute'].isin(dfr.groupby('roundTripRoute').sum().sort_values(\"FL_DATE\",ascending=False).head(20).index)]\n",
        "dfr = dfr.sort_values('roundTripRoute')\n",
        "dfr['roundTripRoute'] = dfr['roundTripRoute'].astype(str)\n",
        "dfr = dfr.sort_values(\"FL_DATE\",ascending=False)\n",
        "dfr = dfr.rename({\"FL_DATE\":\"Count\"},axis=1)\n",
        "\n",
        "grp_obj = f_nc.groupby([\"ORIGIN\",\"DESTINATION\"])\n",
        "dfr_agg = pd.DataFrame(grp_obj['FL_DATE'].count()).reset_index()\n",
        "round_trips = pd.DataFrame([(key,dfr_agg[((dfr_agg['ORIGIN']==key[0]) | (dfr_agg['ORIGIN']==key[1])) & ((dfr_agg['DESTINATION']==key[1]) | (dfr_agg['DESTINATION']==key[0]))]['FL_DATE'].min()) for key in grp_obj.groups.keys()])\n",
        "res = round_trips.sort_values(1,ascending=False).rename({0:\"roundTripRoute\",1:\"count\"},axis=1)\n",
        "res"
      ],
      "execution_count": null,
      "outputs": [
        {
          "output_type": "execute_result",
          "data": {
            "text/html": [
              "<div>\n",
              "<style scoped>\n",
              "    .dataframe tbody tr th:only-of-type {\n",
              "        vertical-align: middle;\n",
              "    }\n",
              "\n",
              "    .dataframe tbody tr th {\n",
              "        vertical-align: top;\n",
              "    }\n",
              "\n",
              "    .dataframe thead th {\n",
              "        text-align: right;\n",
              "    }\n",
              "</style>\n",
              "<table border=\"1\" class=\"dataframe\">\n",
              "  <thead>\n",
              "    <tr style=\"text-align: right;\">\n",
              "      <th></th>\n",
              "      <th>roundTripRoute</th>\n",
              "      <th>count</th>\n",
              "    </tr>\n",
              "  </thead>\n",
              "  <tbody>\n",
              "    <tr>\n",
              "      <th>3008</th>\n",
              "      <td>(LAX, SFO)</td>\n",
              "      <td>4158</td>\n",
              "    </tr>\n",
              "    <tr>\n",
              "      <th>5277</th>\n",
              "      <td>(SFO, LAX)</td>\n",
              "      <td>4158</td>\n",
              "    </tr>\n",
              "    <tr>\n",
              "      <th>4062</th>\n",
              "      <td>(ORD, LGA)</td>\n",
              "      <td>3571</td>\n",
              "    </tr>\n",
              "    <tr>\n",
              "      <th>3113</th>\n",
              "      <td>(LGA, ORD)</td>\n",
              "      <td>3571</td>\n",
              "    </tr>\n",
              "    <tr>\n",
              "      <th>2969</th>\n",
              "      <td>(LAX, LAS)</td>\n",
              "      <td>3252</td>\n",
              "    </tr>\n",
              "    <tr>\n",
              "      <th>...</th>\n",
              "      <td>...</td>\n",
              "      <td>...</td>\n",
              "    </tr>\n",
              "    <tr>\n",
              "      <th>2000</th>\n",
              "      <td>(FLG, DEN)</td>\n",
              "      <td>1</td>\n",
              "    </tr>\n",
              "    <tr>\n",
              "      <th>2218</th>\n",
              "      <td>(GSP, SJC)</td>\n",
              "      <td>1</td>\n",
              "    </tr>\n",
              "    <tr>\n",
              "      <th>4527</th>\n",
              "      <td>(PIE, AZA)</td>\n",
              "      <td>1</td>\n",
              "    </tr>\n",
              "    <tr>\n",
              "      <th>288</th>\n",
              "      <td>(AUS, CMH)</td>\n",
              "      <td>1</td>\n",
              "    </tr>\n",
              "    <tr>\n",
              "      <th>864</th>\n",
              "      <td>(CKB, AVL)</td>\n",
              "      <td>1</td>\n",
              "    </tr>\n",
              "  </tbody>\n",
              "</table>\n",
              "<p>5910 rows × 2 columns</p>\n",
              "</div>"
            ],
            "text/plain": [
              "     roundTripRoute  count\n",
              "3008     (LAX, SFO)   4158\n",
              "5277     (SFO, LAX)   4158\n",
              "4062     (ORD, LGA)   3571\n",
              "3113     (LGA, ORD)   3571\n",
              "2969     (LAX, LAS)   3252\n",
              "...             ...    ...\n",
              "2000     (FLG, DEN)      1\n",
              "2218     (GSP, SJC)      1\n",
              "4527     (PIE, AZA)      1\n",
              "288      (AUS, CMH)      1\n",
              "864      (CKB, AVL)      1\n",
              "\n",
              "[5910 rows x 2 columns]"
            ]
          },
          "metadata": {},
          "execution_count": 84
        }
      ]
    },
    {
      "cell_type": "code",
      "metadata": {
        "colab": {
          "base_uri": "https://localhost:8080/",
          "height": 542
        },
        "id": "aiXLfC9XZHY4",
        "outputId": "def1e6b2-6210-426e-b3c1-5e78e44a3de9"
      },
      "source": [
        "# Plotting Top 10 busiest round trip routes in terms of number of round trip flights in the quarter excluding canceled flights\n",
        "res_plot = res.groupby(\"count\").head(1)\n",
        "fig = go.Figure([go.Bar(x=res_plot['roundTripRoute'].astype(str).head(10), \n",
        "                        y=res_plot['count'].head(10),\n",
        "                        text=res_plot['count'].head(10),\n",
        "                        textposition=\"inside\")])\n",
        "fig.update_layout(title=\"Top 10 busiest round trip routes in terms of number of round trip flights in the quarter\",\n",
        "                  xaxis_title=\"Origin-Destination Airport Codes\",\n",
        "                  yaxis_title=\"Count of Trips\",\n",
        "                  width=1100)\n",
        "fig.show()"
      ],
      "execution_count": null,
      "outputs": [
        {
          "output_type": "display_data",
          "data": {
            "text/html": [
              "<html>\n",
              "<head><meta charset=\"utf-8\" /></head>\n",
              "<body>\n",
              "    <div>\n",
              "            <script src=\"https://cdnjs.cloudflare.com/ajax/libs/mathjax/2.7.5/MathJax.js?config=TeX-AMS-MML_SVG\"></script><script type=\"text/javascript\">if (window.MathJax) {MathJax.Hub.Config({SVG: {font: \"STIX-Web\"}});}</script>\n",
              "                <script type=\"text/javascript\">window.PlotlyConfig = {MathJaxConfig: 'local'};</script>\n",
              "        <script src=\"https://cdn.plot.ly/plotly-latest.min.js\"></script>    \n",
              "            <div id=\"dfc337c9-30a6-4b4b-855d-5950a0c846ad\" class=\"plotly-graph-div\" style=\"height:525px; width:1100px;\"></div>\n",
              "            <script type=\"text/javascript\">\n",
              "                \n",
              "                    window.PLOTLYENV=window.PLOTLYENV || {};\n",
              "                    \n",
              "                if (document.getElementById(\"dfc337c9-30a6-4b4b-855d-5950a0c846ad\")) {\n",
              "                    Plotly.newPlot(\n",
              "                        'dfc337c9-30a6-4b4b-855d-5950a0c846ad',\n",
              "                        [{\"text\": [4158.0, 3571.0, 3252.0, 3140.0, 2494.0, 2402.0, 2395.0, 2375.0, 2351.0, 2292.0], \"textposition\": \"inside\", \"type\": \"bar\", \"x\": [\"('LAX', 'SFO')\", \"('ORD', 'LGA')\", \"('LAX', 'LAS')\", \"('LAX', 'JFK')\", \"('SEA', 'LAX')\", \"('LGA', 'BOS')\", \"('OGG', 'HNL')\", \"('SEA', 'PDX')\", \"('ATL', 'MCO')\", \"('ATL', 'LGA')\"], \"y\": [4158, 3571, 3252, 3140, 2494, 2402, 2395, 2375, 2351, 2292]}],\n",
              "                        {\"template\": {\"data\": {\"bar\": [{\"error_x\": {\"color\": \"#2a3f5f\"}, \"error_y\": {\"color\": \"#2a3f5f\"}, \"marker\": {\"line\": {\"color\": \"#E5ECF6\", \"width\": 0.5}}, \"type\": \"bar\"}], \"barpolar\": [{\"marker\": {\"line\": {\"color\": \"#E5ECF6\", \"width\": 0.5}}, \"type\": \"barpolar\"}], \"carpet\": [{\"aaxis\": {\"endlinecolor\": \"#2a3f5f\", \"gridcolor\": \"white\", \"linecolor\": \"white\", \"minorgridcolor\": \"white\", \"startlinecolor\": \"#2a3f5f\"}, \"baxis\": {\"endlinecolor\": \"#2a3f5f\", \"gridcolor\": \"white\", \"linecolor\": \"white\", \"minorgridcolor\": \"white\", \"startlinecolor\": \"#2a3f5f\"}, \"type\": \"carpet\"}], \"choropleth\": [{\"colorbar\": {\"outlinewidth\": 0, \"ticks\": \"\"}, \"type\": \"choropleth\"}], \"contour\": [{\"colorbar\": {\"outlinewidth\": 0, \"ticks\": \"\"}, \"colorscale\": [[0.0, \"#0d0887\"], [0.1111111111111111, \"#46039f\"], [0.2222222222222222, \"#7201a8\"], [0.3333333333333333, \"#9c179e\"], [0.4444444444444444, \"#bd3786\"], [0.5555555555555556, \"#d8576b\"], [0.6666666666666666, \"#ed7953\"], [0.7777777777777778, \"#fb9f3a\"], [0.8888888888888888, \"#fdca26\"], [1.0, \"#f0f921\"]], \"type\": \"contour\"}], \"contourcarpet\": [{\"colorbar\": {\"outlinewidth\": 0, \"ticks\": \"\"}, \"type\": \"contourcarpet\"}], \"heatmap\": [{\"colorbar\": {\"outlinewidth\": 0, \"ticks\": \"\"}, \"colorscale\": [[0.0, \"#0d0887\"], [0.1111111111111111, \"#46039f\"], [0.2222222222222222, \"#7201a8\"], [0.3333333333333333, \"#9c179e\"], [0.4444444444444444, \"#bd3786\"], [0.5555555555555556, \"#d8576b\"], [0.6666666666666666, \"#ed7953\"], [0.7777777777777778, \"#fb9f3a\"], [0.8888888888888888, \"#fdca26\"], [1.0, \"#f0f921\"]], \"type\": \"heatmap\"}], \"heatmapgl\": [{\"colorbar\": {\"outlinewidth\": 0, \"ticks\": \"\"}, \"colorscale\": [[0.0, \"#0d0887\"], [0.1111111111111111, \"#46039f\"], [0.2222222222222222, \"#7201a8\"], [0.3333333333333333, \"#9c179e\"], [0.4444444444444444, \"#bd3786\"], [0.5555555555555556, \"#d8576b\"], [0.6666666666666666, \"#ed7953\"], [0.7777777777777778, \"#fb9f3a\"], [0.8888888888888888, \"#fdca26\"], [1.0, \"#f0f921\"]], \"type\": \"heatmapgl\"}], \"histogram\": [{\"marker\": {\"colorbar\": {\"outlinewidth\": 0, \"ticks\": \"\"}}, \"type\": \"histogram\"}], \"histogram2d\": [{\"colorbar\": {\"outlinewidth\": 0, \"ticks\": \"\"}, \"colorscale\": [[0.0, \"#0d0887\"], [0.1111111111111111, \"#46039f\"], [0.2222222222222222, \"#7201a8\"], [0.3333333333333333, \"#9c179e\"], [0.4444444444444444, \"#bd3786\"], [0.5555555555555556, \"#d8576b\"], [0.6666666666666666, \"#ed7953\"], [0.7777777777777778, \"#fb9f3a\"], [0.8888888888888888, \"#fdca26\"], [1.0, \"#f0f921\"]], \"type\": \"histogram2d\"}], \"histogram2dcontour\": [{\"colorbar\": {\"outlinewidth\": 0, \"ticks\": \"\"}, \"colorscale\": [[0.0, \"#0d0887\"], [0.1111111111111111, \"#46039f\"], [0.2222222222222222, \"#7201a8\"], [0.3333333333333333, \"#9c179e\"], [0.4444444444444444, \"#bd3786\"], [0.5555555555555556, \"#d8576b\"], [0.6666666666666666, \"#ed7953\"], [0.7777777777777778, \"#fb9f3a\"], [0.8888888888888888, \"#fdca26\"], [1.0, \"#f0f921\"]], \"type\": \"histogram2dcontour\"}], \"mesh3d\": [{\"colorbar\": {\"outlinewidth\": 0, \"ticks\": \"\"}, \"type\": \"mesh3d\"}], \"parcoords\": [{\"line\": {\"colorbar\": {\"outlinewidth\": 0, \"ticks\": \"\"}}, \"type\": \"parcoords\"}], \"pie\": [{\"automargin\": true, \"type\": \"pie\"}], \"scatter\": [{\"marker\": {\"colorbar\": {\"outlinewidth\": 0, \"ticks\": \"\"}}, \"type\": \"scatter\"}], \"scatter3d\": [{\"line\": {\"colorbar\": {\"outlinewidth\": 0, \"ticks\": \"\"}}, \"marker\": {\"colorbar\": {\"outlinewidth\": 0, \"ticks\": \"\"}}, \"type\": \"scatter3d\"}], \"scattercarpet\": [{\"marker\": {\"colorbar\": {\"outlinewidth\": 0, \"ticks\": \"\"}}, \"type\": \"scattercarpet\"}], \"scattergeo\": [{\"marker\": {\"colorbar\": {\"outlinewidth\": 0, \"ticks\": \"\"}}, \"type\": \"scattergeo\"}], \"scattergl\": [{\"marker\": {\"colorbar\": {\"outlinewidth\": 0, \"ticks\": \"\"}}, \"type\": \"scattergl\"}], \"scattermapbox\": [{\"marker\": {\"colorbar\": {\"outlinewidth\": 0, \"ticks\": \"\"}}, \"type\": \"scattermapbox\"}], \"scatterpolar\": [{\"marker\": {\"colorbar\": {\"outlinewidth\": 0, \"ticks\": \"\"}}, \"type\": \"scatterpolar\"}], \"scatterpolargl\": [{\"marker\": {\"colorbar\": {\"outlinewidth\": 0, \"ticks\": \"\"}}, \"type\": \"scatterpolargl\"}], \"scatterternary\": [{\"marker\": {\"colorbar\": {\"outlinewidth\": 0, \"ticks\": \"\"}}, \"type\": \"scatterternary\"}], \"surface\": [{\"colorbar\": {\"outlinewidth\": 0, \"ticks\": \"\"}, \"colorscale\": [[0.0, \"#0d0887\"], [0.1111111111111111, \"#46039f\"], [0.2222222222222222, \"#7201a8\"], [0.3333333333333333, \"#9c179e\"], [0.4444444444444444, \"#bd3786\"], [0.5555555555555556, \"#d8576b\"], [0.6666666666666666, \"#ed7953\"], [0.7777777777777778, \"#fb9f3a\"], [0.8888888888888888, \"#fdca26\"], [1.0, \"#f0f921\"]], \"type\": \"surface\"}], \"table\": [{\"cells\": {\"fill\": {\"color\": \"#EBF0F8\"}, \"line\": {\"color\": \"white\"}}, \"header\": {\"fill\": {\"color\": \"#C8D4E3\"}, \"line\": {\"color\": \"white\"}}, \"type\": \"table\"}]}, \"layout\": {\"annotationdefaults\": {\"arrowcolor\": \"#2a3f5f\", \"arrowhead\": 0, \"arrowwidth\": 1}, \"coloraxis\": {\"colorbar\": {\"outlinewidth\": 0, \"ticks\": \"\"}}, \"colorscale\": {\"diverging\": [[0, \"#8e0152\"], [0.1, \"#c51b7d\"], [0.2, \"#de77ae\"], [0.3, \"#f1b6da\"], [0.4, \"#fde0ef\"], [0.5, \"#f7f7f7\"], [0.6, \"#e6f5d0\"], [0.7, \"#b8e186\"], [0.8, \"#7fbc41\"], [0.9, \"#4d9221\"], [1, \"#276419\"]], \"sequential\": [[0.0, \"#0d0887\"], [0.1111111111111111, \"#46039f\"], [0.2222222222222222, \"#7201a8\"], [0.3333333333333333, \"#9c179e\"], [0.4444444444444444, \"#bd3786\"], [0.5555555555555556, \"#d8576b\"], [0.6666666666666666, \"#ed7953\"], [0.7777777777777778, \"#fb9f3a\"], [0.8888888888888888, \"#fdca26\"], [1.0, \"#f0f921\"]], \"sequentialminus\": [[0.0, \"#0d0887\"], [0.1111111111111111, \"#46039f\"], [0.2222222222222222, \"#7201a8\"], [0.3333333333333333, \"#9c179e\"], [0.4444444444444444, \"#bd3786\"], [0.5555555555555556, \"#d8576b\"], [0.6666666666666666, \"#ed7953\"], [0.7777777777777778, \"#fb9f3a\"], [0.8888888888888888, \"#fdca26\"], [1.0, \"#f0f921\"]]}, \"colorway\": [\"#636efa\", \"#EF553B\", \"#00cc96\", \"#ab63fa\", \"#FFA15A\", \"#19d3f3\", \"#FF6692\", \"#B6E880\", \"#FF97FF\", \"#FECB52\"], \"font\": {\"color\": \"#2a3f5f\"}, \"geo\": {\"bgcolor\": \"white\", \"lakecolor\": \"white\", \"landcolor\": \"#E5ECF6\", \"showlakes\": true, \"showland\": true, \"subunitcolor\": \"white\"}, \"hoverlabel\": {\"align\": \"left\"}, \"hovermode\": \"closest\", \"mapbox\": {\"style\": \"light\"}, \"paper_bgcolor\": \"white\", \"plot_bgcolor\": \"#E5ECF6\", \"polar\": {\"angularaxis\": {\"gridcolor\": \"white\", \"linecolor\": \"white\", \"ticks\": \"\"}, \"bgcolor\": \"#E5ECF6\", \"radialaxis\": {\"gridcolor\": \"white\", \"linecolor\": \"white\", \"ticks\": \"\"}}, \"scene\": {\"xaxis\": {\"backgroundcolor\": \"#E5ECF6\", \"gridcolor\": \"white\", \"gridwidth\": 2, \"linecolor\": \"white\", \"showbackground\": true, \"ticks\": \"\", \"zerolinecolor\": \"white\"}, \"yaxis\": {\"backgroundcolor\": \"#E5ECF6\", \"gridcolor\": \"white\", \"gridwidth\": 2, \"linecolor\": \"white\", \"showbackground\": true, \"ticks\": \"\", \"zerolinecolor\": \"white\"}, \"zaxis\": {\"backgroundcolor\": \"#E5ECF6\", \"gridcolor\": \"white\", \"gridwidth\": 2, \"linecolor\": \"white\", \"showbackground\": true, \"ticks\": \"\", \"zerolinecolor\": \"white\"}}, \"shapedefaults\": {\"line\": {\"color\": \"#2a3f5f\"}}, \"ternary\": {\"aaxis\": {\"gridcolor\": \"white\", \"linecolor\": \"white\", \"ticks\": \"\"}, \"baxis\": {\"gridcolor\": \"white\", \"linecolor\": \"white\", \"ticks\": \"\"}, \"bgcolor\": \"#E5ECF6\", \"caxis\": {\"gridcolor\": \"white\", \"linecolor\": \"white\", \"ticks\": \"\"}}, \"title\": {\"x\": 0.05}, \"xaxis\": {\"automargin\": true, \"gridcolor\": \"white\", \"linecolor\": \"white\", \"ticks\": \"\", \"title\": {\"standoff\": 15}, \"zerolinecolor\": \"white\", \"zerolinewidth\": 2}, \"yaxis\": {\"automargin\": true, \"gridcolor\": \"white\", \"linecolor\": \"white\", \"ticks\": \"\", \"title\": {\"standoff\": 15}, \"zerolinecolor\": \"white\", \"zerolinewidth\": 2}}}, \"title\": {\"text\": \"Top 10 busiest round trip routes in terms of number of round trip flights in the quarter\"}, \"width\": 1100, \"xaxis\": {\"title\": {\"text\": \"Origin-Destination Airport Codes\"}}, \"yaxis\": {\"title\": {\"text\": \"Count of Trips\"}}},\n",
              "                        {\"responsive\": true}\n",
              "                    ).then(function(){\n",
              "                            \n",
              "var gd = document.getElementById('dfc337c9-30a6-4b4b-855d-5950a0c846ad');\n",
              "var x = new MutationObserver(function (mutations, observer) {{\n",
              "        var display = window.getComputedStyle(gd).display;\n",
              "        if (!display || display === 'none') {{\n",
              "            console.log([gd, 'removed!']);\n",
              "            Plotly.purge(gd);\n",
              "            observer.disconnect();\n",
              "        }}\n",
              "}});\n",
              "\n",
              "// Listen for the removal of the full notebook cells\n",
              "var notebookContainer = gd.closest('#notebook-container');\n",
              "if (notebookContainer) {{\n",
              "    x.observe(notebookContainer, {childList: true});\n",
              "}}\n",
              "\n",
              "// Listen for the clearing of the current output cell\n",
              "var outputEl = gd.closest('.output');\n",
              "if (outputEl) {{\n",
              "    x.observe(outputEl, {childList: true});\n",
              "}}\n",
              "\n",
              "                        })\n",
              "                };\n",
              "                \n",
              "            </script>\n",
              "        </div>\n",
              "</body>\n",
              "</html>"
            ]
          },
          "metadata": {}
        }
      ]
    },
    {
      "cell_type": "markdown",
      "metadata": {
        "id": "syZKXhCs9Kd5"
      },
      "source": [
        "- The top 10 busiest round trip routes identified from this plot are:\n",
        "  - LAX $\\rightarrow$ SFO or SFO $\\rightarrow$ LAX\n",
        "  - ORD $\\rightarrow$ LGA or LGA $\\rightarrow$ ORD\n",
        "  - LAX $\\rightarrow$ LAS or LAS $\\rightarrow$ LAX\n",
        "  - LAX $\\rightarrow$ JFK or JFK $\\rightarrow$ LAX\n",
        "  - SEA $\\rightarrow$ LAX or LAX $\\rightarrow$ SEA\n",
        "  - LGA $\\rightarrow$ BOS or BOS $\\rightarrow$ LGA\n",
        "  - OGG $\\rightarrow$ HNL or HNL $\\rightarrow$ OGG\n",
        "  - SEA $\\rightarrow$ PDX or PDX $\\rightarrow$ SEA\n",
        "  - ATL $\\rightarrow$ MCO or MCO $\\rightarrow$ ATL\n",
        "  - ATL $\\rightarrow$ LGA or LGA $\\rightarrow$ ATL \n",
        "\n",
        "- Clearly, LAX-SFO has the highest number of round trip flights with a count of 4158 flights per quarter, followed by ORD-LGA which has 3571 number of round trip flights. \n",
        "- From this plot, it is also quite interesting to notice that LAX (Los Angeles) is quite a popular destination in terms of number of flights. \n",
        "\n",
        "However, it could be more interesting to consider OP_CARRIER in our plot to see the distribution of number of flights for each route pair."
      ]
    },
    {
      "cell_type": "code",
      "metadata": {
        "colab": {
          "base_uri": "https://localhost:8080/",
          "height": 542
        },
        "id": "-iRDg-PuZW-L",
        "outputId": "9d624485-60a8-4f07-84f4-3cc2e4487969"
      },
      "source": [
        "fig = px.bar(dfr, \n",
        "             x=\"roundTripRoute\", \n",
        "             y=\"Count\", \n",
        "             color=\"OP_CARRIER\", \n",
        "             title=\"Top 20 busiest one-way trip routes by carriers\")\n",
        "fig.show()"
      ],
      "execution_count": null,
      "outputs": [
        {
          "output_type": "display_data",
          "data": {
            "text/html": [
              "<html>\n",
              "<head><meta charset=\"utf-8\" /></head>\n",
              "<body>\n",
              "    <div>\n",
              "            <script src=\"https://cdnjs.cloudflare.com/ajax/libs/mathjax/2.7.5/MathJax.js?config=TeX-AMS-MML_SVG\"></script><script type=\"text/javascript\">if (window.MathJax) {MathJax.Hub.Config({SVG: {font: \"STIX-Web\"}});}</script>\n",
              "                <script type=\"text/javascript\">window.PlotlyConfig = {MathJaxConfig: 'local'};</script>\n",
              "        <script src=\"https://cdn.plot.ly/plotly-latest.min.js\"></script>    \n",
              "            <div id=\"df8ed182-4661-4d44-b7d9-5d1fd4323f4e\" class=\"plotly-graph-div\" style=\"height:525px; width:100%;\"></div>\n",
              "            <script type=\"text/javascript\">\n",
              "                \n",
              "                    window.PLOTLYENV=window.PLOTLYENV || {};\n",
              "                    \n",
              "                if (document.getElementById(\"df8ed182-4661-4d44-b7d9-5d1fd4323f4e\")) {\n",
              "                    Plotly.newPlot(\n",
              "                        'df8ed182-4661-4d44-b7d9-5d1fd4323f4e',\n",
              "                        [{\"alignmentgroup\": \"True\", \"hoverlabel\": {\"namelength\": 0}, \"hovertemplate\": \"OP_CARRIER=HA<br>roundTripRoute=%{x}<br>Count=%{y}\", \"legendgroup\": \"OP_CARRIER=HA\", \"marker\": {\"color\": \"#636efa\"}, \"name\": \"OP_CARRIER=HA\", \"offsetgroup\": \"OP_CARRIER=HA\", \"orientation\": \"v\", \"showlegend\": true, \"textposition\": \"auto\", \"type\": \"bar\", \"x\": [\"('HNL', 'OGG')\", \"('OGG', 'HNL')\"], \"xaxis\": \"x\", \"y\": [2398, 2395], \"yaxis\": \"y\"}, {\"alignmentgroup\": \"True\", \"hoverlabel\": {\"namelength\": 0}, \"hovertemplate\": \"OP_CARRIER=QX<br>roundTripRoute=%{x}<br>Count=%{y}\", \"legendgroup\": \"OP_CARRIER=QX\", \"marker\": {\"color\": \"#EF553B\"}, \"name\": \"OP_CARRIER=QX\", \"offsetgroup\": \"OP_CARRIER=QX\", \"orientation\": \"v\", \"showlegend\": true, \"textposition\": \"auto\", \"type\": \"bar\", \"x\": [\"('PDX', 'SEA')\", \"('SEA', 'PDX')\", \"('LAX', 'SEA')\", \"('SEA', 'LAX')\"], \"xaxis\": \"x\", \"y\": [1495, 1482, 89, 88], \"yaxis\": \"y\"}, {\"alignmentgroup\": \"True\", \"hoverlabel\": {\"namelength\": 0}, \"hovertemplate\": \"OP_CARRIER=DL<br>roundTripRoute=%{x}<br>Count=%{y}\", \"legendgroup\": \"OP_CARRIER=DL\", \"marker\": {\"color\": \"#00cc96\"}, \"name\": \"OP_CARRIER=DL\", \"offsetgroup\": \"OP_CARRIER=DL\", \"orientation\": \"v\", \"showlegend\": true, \"textposition\": \"auto\", \"type\": \"bar\", \"x\": [\"('ATL', 'MCO')\", \"('MCO', 'ATL')\", \"('LGA', 'ATL')\", \"('ATL', 'LGA')\", \"('LAX', 'JFK')\", \"('JFK', 'LAX')\", \"('SEA', 'LAX')\", \"('LAX', 'SEA')\", \"('LAX', 'SFO')\", \"('SFO', 'LAX')\", \"('LGA', 'BOS')\", \"('BOS', 'LGA')\", \"('LAS', 'LAX')\", \"('LAX', 'LAS')\", \"('ORD', 'LGA')\", \"('LGA', 'ORD')\", \"('SEA', 'PDX')\", \"('PDX', 'SEA')\"], \"xaxis\": \"x\", \"y\": [1464, 1463, 1306, 1302, 801, 795, 682, 680, 679, 679, 446, 442, 313, 312, 250, 246, 109, 109], \"yaxis\": \"y\"}, {\"alignmentgroup\": \"True\", \"hoverlabel\": {\"namelength\": 0}, \"hovertemplate\": \"OP_CARRIER=AS<br>roundTripRoute=%{x}<br>Count=%{y}\", \"legendgroup\": \"OP_CARRIER=AS\", \"marker\": {\"color\": \"#ab63fa\"}, \"name\": \"OP_CARRIER=AS\", \"offsetgroup\": \"OP_CARRIER=AS\", \"orientation\": \"v\", \"showlegend\": true, \"textposition\": \"auto\", \"type\": \"bar\", \"x\": [\"('LAX', 'SEA')\", \"('SEA', 'LAX')\", \"('SFO', 'LAX')\", \"('LAX', 'SFO')\", \"('LAX', 'JFK')\", \"('JFK', 'LAX')\", \"('LAX', 'LAS')\", \"('LAS', 'LAX')\", \"('PDX', 'SEA')\", \"('SEA', 'PDX')\"], \"xaxis\": \"x\", \"y\": [1128, 1127, 791, 776, 436, 424, 379, 375, 314, 307], \"yaxis\": \"y\"}, {\"alignmentgroup\": \"True\", \"hoverlabel\": {\"namelength\": 0}, \"hovertemplate\": \"OP_CARRIER=UA<br>roundTripRoute=%{x}<br>Count=%{y}\", \"legendgroup\": \"OP_CARRIER=UA\", \"marker\": {\"color\": \"#FFA15A\"}, \"name\": \"OP_CARRIER=UA\", \"offsetgroup\": \"OP_CARRIER=UA\", \"orientation\": \"v\", \"showlegend\": true, \"textposition\": \"auto\", \"type\": \"bar\", \"x\": [\"('LGA', 'ORD')\", \"('ORD', 'LGA')\", \"('SFO', 'LAX')\", \"('LAX', 'SFO')\", \"('LAS', 'LAX')\", \"('LAX', 'LAS')\", \"('LAX', 'SEA')\", \"('SEA', 'LAX')\"], \"xaxis\": \"x\", \"y\": [1091, 1089, 899, 897, 376, 376, 7, 6], \"yaxis\": \"y\"}, {\"alignmentgroup\": \"True\", \"hoverlabel\": {\"namelength\": 0}, \"hovertemplate\": \"OP_CARRIER=AA<br>roundTripRoute=%{x}<br>Count=%{y}\", \"legendgroup\": \"OP_CARRIER=AA\", \"marker\": {\"color\": \"#19d3f3\"}, \"name\": \"OP_CARRIER=AA\", \"offsetgroup\": \"OP_CARRIER=AA\", \"orientation\": \"v\", \"showlegend\": true, \"textposition\": \"auto\", \"type\": \"bar\", \"x\": [\"('ORD', 'LGA')\", \"('LGA', 'ORD')\", \"('LAX', 'JFK')\", \"('JFK', 'LAX')\", \"('LGA', 'BOS')\", \"('BOS', 'LGA')\", \"('LAS', 'LAX')\", \"('LAX', 'LAS')\", \"('ATL', 'LGA')\", \"('LGA', 'ATL')\", \"('SFO', 'LAX')\", \"('LAX', 'SFO')\"], \"xaxis\": \"x\", \"y\": [1085, 1083, 1045, 1044, 897, 892, 636, 634, 177, 175, 166, 165], \"yaxis\": \"y\"}, {\"alignmentgroup\": \"True\", \"hoverlabel\": {\"namelength\": 0}, \"hovertemplate\": \"OP_CARRIER=B6<br>roundTripRoute=%{x}<br>Count=%{y}\", \"legendgroup\": \"OP_CARRIER=B6\", \"marker\": {\"color\": \"#FF6692\"}, \"name\": \"OP_CARRIER=B6\", \"offsetgroup\": \"OP_CARRIER=B6\", \"orientation\": \"v\", \"showlegend\": true, \"textposition\": \"auto\", \"type\": \"bar\", \"x\": [\"('LAX', 'JFK')\", \"('JFK', 'LAX')\", \"('LGA', 'BOS')\", \"('BOS', 'LGA')\", \"('ATL', 'MCO')\", \"('MCO', 'ATL')\"], \"xaxis\": \"x\", \"y\": [877, 877, 430, 429, 90, 90], \"yaxis\": \"y\"}, {\"alignmentgroup\": \"True\", \"hoverlabel\": {\"namelength\": 0}, \"hovertemplate\": \"OP_CARRIER=WN<br>roundTripRoute=%{x}<br>Count=%{y}\", \"legendgroup\": \"OP_CARRIER=WN\", \"marker\": {\"color\": \"#B6E880\"}, \"name\": \"OP_CARRIER=WN\", \"offsetgroup\": \"OP_CARRIER=WN\", \"orientation\": \"v\", \"showlegend\": true, \"textposition\": \"auto\", \"type\": \"bar\", \"x\": [\"('LAS', 'LAX')\", \"('LAX', 'LAS')\", \"('SFO', 'LAX')\", \"('LAX', 'SFO')\", \"('ATL', 'MCO')\", \"('MCO', 'ATL')\", \"('ATL', 'LGA')\", \"('LGA', 'ATL')\"], \"xaxis\": \"x\", \"y\": [849, 849, 614, 613, 532, 529, 427, 416], \"yaxis\": \"y\"}, {\"alignmentgroup\": \"True\", \"hoverlabel\": {\"namelength\": 0}, \"hovertemplate\": \"OP_CARRIER=OO<br>roundTripRoute=%{x}<br>Count=%{y}\", \"legendgroup\": \"OP_CARRIER=OO\", \"marker\": {\"color\": \"#FF97FF\"}, \"name\": \"OP_CARRIER=OO\", \"offsetgroup\": \"OP_CARRIER=OO\", \"orientation\": \"v\", \"showlegend\": true, \"textposition\": \"auto\", \"type\": \"bar\", \"x\": [\"('LGA', 'ORD')\", \"('ORD', 'LGA')\", \"('LAX', 'SFO')\", \"('SFO', 'LAX')\", \"('LAX', 'SEA')\", \"('SEA', 'LAX')\", \"('LAS', 'LAX')\", \"('LAX', 'LAS')\", \"('PDX', 'SEA')\", \"('SEA', 'PDX')\", \"('BOS', 'LGA')\", \"('LGA', 'BOS')\"], \"xaxis\": \"x\", \"y\": [815, 812, 390, 388, 174, 173, 107, 107, 68, 66, 36, 31], \"yaxis\": \"y\"}, {\"alignmentgroup\": \"True\", \"hoverlabel\": {\"namelength\": 0}, \"hovertemplate\": \"OP_CARRIER=CP<br>roundTripRoute=%{x}<br>Count=%{y}\", \"legendgroup\": \"OP_CARRIER=CP\", \"marker\": {\"color\": \"#FECB52\"}, \"name\": \"OP_CARRIER=CP\", \"offsetgroup\": \"OP_CARRIER=CP\", \"orientation\": \"v\", \"showlegend\": true, \"textposition\": \"auto\", \"type\": \"bar\", \"x\": [\"('SFO', 'LAX')\", \"('LAX', 'SFO')\", \"('LAX', 'SEA')\", \"('SEA', 'LAX')\", \"('SEA', 'PDX')\", \"('PDX', 'SEA')\", \"('LAS', 'LAX')\", \"('LAX', 'LAS')\"], \"xaxis\": \"x\", \"y\": [638, 638, 420, 418, 411, 410, 316, 316], \"yaxis\": \"y\"}, {\"alignmentgroup\": \"True\", \"hoverlabel\": {\"namelength\": 0}, \"hovertemplate\": \"OP_CARRIER=YX<br>roundTripRoute=%{x}<br>Count=%{y}\", \"legendgroup\": \"OP_CARRIER=YX\", \"marker\": {\"color\": \"#636efa\"}, \"name\": \"OP_CARRIER=YX\", \"offsetgroup\": \"OP_CARRIER=YX\", \"orientation\": \"v\", \"showlegend\": true, \"textposition\": \"auto\", \"type\": \"bar\", \"x\": [\"('LGA', 'BOS')\", \"('BOS', 'LGA')\", \"('LGA', 'ATL')\", \"('ATL', 'LGA')\", \"('ORD', 'LGA')\", \"('LGA', 'ORD')\"], \"xaxis\": \"x\", \"y\": [610, 603, 305, 303, 169, 165], \"yaxis\": \"y\"}, {\"alignmentgroup\": \"True\", \"hoverlabel\": {\"namelength\": 0}, \"hovertemplate\": \"OP_CARRIER=NK<br>roundTripRoute=%{x}<br>Count=%{y}\", \"legendgroup\": \"OP_CARRIER=NK\", \"marker\": {\"color\": \"#EF553B\"}, \"name\": \"OP_CARRIER=NK\", \"offsetgroup\": \"OP_CARRIER=NK\", \"orientation\": \"v\", \"showlegend\": true, \"textposition\": \"auto\", \"type\": \"bar\", \"x\": [\"('LAX', 'LAS')\", \"('LAS', 'LAX')\", \"('ATL', 'MCO')\", \"('MCO', 'ATL')\", \"('LGA', 'ORD')\", \"('ORD', 'LGA')\"], \"xaxis\": \"x\", \"y\": [281, 280, 174, 173, 171, 170], \"yaxis\": \"y\"}, {\"alignmentgroup\": \"True\", \"hoverlabel\": {\"namelength\": 0}, \"hovertemplate\": \"OP_CARRIER=F9<br>roundTripRoute=%{x}<br>Count=%{y}\", \"legendgroup\": \"OP_CARRIER=F9\", \"marker\": {\"color\": \"#00cc96\"}, \"name\": \"OP_CARRIER=F9\", \"offsetgroup\": \"OP_CARRIER=F9\", \"orientation\": \"v\", \"showlegend\": true, \"textposition\": \"auto\", \"type\": \"bar\", \"x\": [\"('ATL', 'MCO')\", \"('MCO', 'ATL')\", \"('LGA', 'ATL')\", \"('ATL', 'LGA')\"], \"xaxis\": \"x\", \"y\": [96, 96, 90, 88], \"yaxis\": \"y\"}],\n",
              "                        {\"barmode\": \"relative\", \"legend\": {\"tracegroupgap\": 0}, \"template\": {\"data\": {\"bar\": [{\"error_x\": {\"color\": \"#2a3f5f\"}, \"error_y\": {\"color\": \"#2a3f5f\"}, \"marker\": {\"line\": {\"color\": \"#E5ECF6\", \"width\": 0.5}}, \"type\": \"bar\"}], \"barpolar\": [{\"marker\": {\"line\": {\"color\": \"#E5ECF6\", \"width\": 0.5}}, \"type\": \"barpolar\"}], \"carpet\": [{\"aaxis\": {\"endlinecolor\": \"#2a3f5f\", \"gridcolor\": \"white\", \"linecolor\": \"white\", \"minorgridcolor\": \"white\", \"startlinecolor\": \"#2a3f5f\"}, \"baxis\": {\"endlinecolor\": \"#2a3f5f\", \"gridcolor\": \"white\", \"linecolor\": \"white\", \"minorgridcolor\": \"white\", \"startlinecolor\": \"#2a3f5f\"}, \"type\": \"carpet\"}], \"choropleth\": [{\"colorbar\": {\"outlinewidth\": 0, \"ticks\": \"\"}, \"type\": \"choropleth\"}], \"contour\": [{\"colorbar\": {\"outlinewidth\": 0, \"ticks\": \"\"}, \"colorscale\": [[0.0, \"#0d0887\"], [0.1111111111111111, \"#46039f\"], [0.2222222222222222, \"#7201a8\"], [0.3333333333333333, \"#9c179e\"], [0.4444444444444444, \"#bd3786\"], [0.5555555555555556, \"#d8576b\"], [0.6666666666666666, \"#ed7953\"], [0.7777777777777778, \"#fb9f3a\"], [0.8888888888888888, \"#fdca26\"], [1.0, \"#f0f921\"]], \"type\": \"contour\"}], \"contourcarpet\": [{\"colorbar\": {\"outlinewidth\": 0, \"ticks\": \"\"}, \"type\": \"contourcarpet\"}], \"heatmap\": [{\"colorbar\": {\"outlinewidth\": 0, \"ticks\": \"\"}, \"colorscale\": [[0.0, \"#0d0887\"], [0.1111111111111111, \"#46039f\"], [0.2222222222222222, \"#7201a8\"], [0.3333333333333333, \"#9c179e\"], [0.4444444444444444, \"#bd3786\"], [0.5555555555555556, \"#d8576b\"], [0.6666666666666666, \"#ed7953\"], [0.7777777777777778, \"#fb9f3a\"], [0.8888888888888888, \"#fdca26\"], [1.0, \"#f0f921\"]], \"type\": \"heatmap\"}], \"heatmapgl\": [{\"colorbar\": {\"outlinewidth\": 0, \"ticks\": \"\"}, \"colorscale\": [[0.0, \"#0d0887\"], [0.1111111111111111, \"#46039f\"], [0.2222222222222222, \"#7201a8\"], [0.3333333333333333, \"#9c179e\"], [0.4444444444444444, \"#bd3786\"], [0.5555555555555556, \"#d8576b\"], [0.6666666666666666, \"#ed7953\"], [0.7777777777777778, \"#fb9f3a\"], [0.8888888888888888, \"#fdca26\"], [1.0, \"#f0f921\"]], \"type\": \"heatmapgl\"}], \"histogram\": [{\"marker\": {\"colorbar\": {\"outlinewidth\": 0, \"ticks\": \"\"}}, \"type\": \"histogram\"}], \"histogram2d\": [{\"colorbar\": {\"outlinewidth\": 0, \"ticks\": \"\"}, \"colorscale\": [[0.0, \"#0d0887\"], [0.1111111111111111, \"#46039f\"], [0.2222222222222222, \"#7201a8\"], [0.3333333333333333, \"#9c179e\"], [0.4444444444444444, \"#bd3786\"], [0.5555555555555556, \"#d8576b\"], [0.6666666666666666, \"#ed7953\"], [0.7777777777777778, \"#fb9f3a\"], [0.8888888888888888, \"#fdca26\"], [1.0, \"#f0f921\"]], \"type\": \"histogram2d\"}], \"histogram2dcontour\": [{\"colorbar\": {\"outlinewidth\": 0, \"ticks\": \"\"}, \"colorscale\": [[0.0, \"#0d0887\"], [0.1111111111111111, \"#46039f\"], [0.2222222222222222, \"#7201a8\"], [0.3333333333333333, \"#9c179e\"], [0.4444444444444444, \"#bd3786\"], [0.5555555555555556, \"#d8576b\"], [0.6666666666666666, \"#ed7953\"], [0.7777777777777778, \"#fb9f3a\"], [0.8888888888888888, \"#fdca26\"], [1.0, \"#f0f921\"]], \"type\": \"histogram2dcontour\"}], \"mesh3d\": [{\"colorbar\": {\"outlinewidth\": 0, \"ticks\": \"\"}, \"type\": \"mesh3d\"}], \"parcoords\": [{\"line\": {\"colorbar\": {\"outlinewidth\": 0, \"ticks\": \"\"}}, \"type\": \"parcoords\"}], \"pie\": [{\"automargin\": true, \"type\": \"pie\"}], \"scatter\": [{\"marker\": {\"colorbar\": {\"outlinewidth\": 0, \"ticks\": \"\"}}, \"type\": \"scatter\"}], \"scatter3d\": [{\"line\": {\"colorbar\": {\"outlinewidth\": 0, \"ticks\": \"\"}}, \"marker\": {\"colorbar\": {\"outlinewidth\": 0, \"ticks\": \"\"}}, \"type\": \"scatter3d\"}], \"scattercarpet\": [{\"marker\": {\"colorbar\": {\"outlinewidth\": 0, \"ticks\": \"\"}}, \"type\": \"scattercarpet\"}], \"scattergeo\": [{\"marker\": {\"colorbar\": {\"outlinewidth\": 0, \"ticks\": \"\"}}, \"type\": \"scattergeo\"}], \"scattergl\": [{\"marker\": {\"colorbar\": {\"outlinewidth\": 0, \"ticks\": \"\"}}, \"type\": \"scattergl\"}], \"scattermapbox\": [{\"marker\": {\"colorbar\": {\"outlinewidth\": 0, \"ticks\": \"\"}}, \"type\": \"scattermapbox\"}], \"scatterpolar\": [{\"marker\": {\"colorbar\": {\"outlinewidth\": 0, \"ticks\": \"\"}}, \"type\": \"scatterpolar\"}], \"scatterpolargl\": [{\"marker\": {\"colorbar\": {\"outlinewidth\": 0, \"ticks\": \"\"}}, \"type\": \"scatterpolargl\"}], \"scatterternary\": [{\"marker\": {\"colorbar\": {\"outlinewidth\": 0, \"ticks\": \"\"}}, \"type\": \"scatterternary\"}], \"surface\": [{\"colorbar\": {\"outlinewidth\": 0, \"ticks\": \"\"}, \"colorscale\": [[0.0, \"#0d0887\"], [0.1111111111111111, \"#46039f\"], [0.2222222222222222, \"#7201a8\"], [0.3333333333333333, \"#9c179e\"], [0.4444444444444444, \"#bd3786\"], [0.5555555555555556, \"#d8576b\"], [0.6666666666666666, \"#ed7953\"], [0.7777777777777778, \"#fb9f3a\"], [0.8888888888888888, \"#fdca26\"], [1.0, \"#f0f921\"]], \"type\": \"surface\"}], \"table\": [{\"cells\": {\"fill\": {\"color\": \"#EBF0F8\"}, \"line\": {\"color\": \"white\"}}, \"header\": {\"fill\": {\"color\": \"#C8D4E3\"}, \"line\": {\"color\": \"white\"}}, \"type\": \"table\"}]}, \"layout\": {\"annotationdefaults\": {\"arrowcolor\": \"#2a3f5f\", \"arrowhead\": 0, \"arrowwidth\": 1}, \"coloraxis\": {\"colorbar\": {\"outlinewidth\": 0, \"ticks\": \"\"}}, \"colorscale\": {\"diverging\": [[0, \"#8e0152\"], [0.1, \"#c51b7d\"], [0.2, \"#de77ae\"], [0.3, \"#f1b6da\"], [0.4, \"#fde0ef\"], [0.5, \"#f7f7f7\"], [0.6, \"#e6f5d0\"], [0.7, \"#b8e186\"], [0.8, \"#7fbc41\"], [0.9, \"#4d9221\"], [1, \"#276419\"]], \"sequential\": [[0.0, \"#0d0887\"], [0.1111111111111111, \"#46039f\"], [0.2222222222222222, \"#7201a8\"], [0.3333333333333333, \"#9c179e\"], [0.4444444444444444, \"#bd3786\"], [0.5555555555555556, \"#d8576b\"], [0.6666666666666666, \"#ed7953\"], [0.7777777777777778, \"#fb9f3a\"], [0.8888888888888888, \"#fdca26\"], [1.0, \"#f0f921\"]], \"sequentialminus\": [[0.0, \"#0d0887\"], [0.1111111111111111, \"#46039f\"], [0.2222222222222222, \"#7201a8\"], [0.3333333333333333, \"#9c179e\"], [0.4444444444444444, \"#bd3786\"], [0.5555555555555556, \"#d8576b\"], [0.6666666666666666, \"#ed7953\"], [0.7777777777777778, \"#fb9f3a\"], [0.8888888888888888, \"#fdca26\"], [1.0, \"#f0f921\"]]}, \"colorway\": [\"#636efa\", \"#EF553B\", \"#00cc96\", \"#ab63fa\", \"#FFA15A\", \"#19d3f3\", \"#FF6692\", \"#B6E880\", \"#FF97FF\", \"#FECB52\"], \"font\": {\"color\": \"#2a3f5f\"}, \"geo\": {\"bgcolor\": \"white\", \"lakecolor\": \"white\", \"landcolor\": \"#E5ECF6\", \"showlakes\": true, \"showland\": true, \"subunitcolor\": \"white\"}, \"hoverlabel\": {\"align\": \"left\"}, \"hovermode\": \"closest\", \"mapbox\": {\"style\": \"light\"}, \"paper_bgcolor\": \"white\", \"plot_bgcolor\": \"#E5ECF6\", \"polar\": {\"angularaxis\": {\"gridcolor\": \"white\", \"linecolor\": \"white\", \"ticks\": \"\"}, \"bgcolor\": \"#E5ECF6\", \"radialaxis\": {\"gridcolor\": \"white\", \"linecolor\": \"white\", \"ticks\": \"\"}}, \"scene\": {\"xaxis\": {\"backgroundcolor\": \"#E5ECF6\", \"gridcolor\": \"white\", \"gridwidth\": 2, \"linecolor\": \"white\", \"showbackground\": true, \"ticks\": \"\", \"zerolinecolor\": \"white\"}, \"yaxis\": {\"backgroundcolor\": \"#E5ECF6\", \"gridcolor\": \"white\", \"gridwidth\": 2, \"linecolor\": \"white\", \"showbackground\": true, \"ticks\": \"\", \"zerolinecolor\": \"white\"}, \"zaxis\": {\"backgroundcolor\": \"#E5ECF6\", \"gridcolor\": \"white\", \"gridwidth\": 2, \"linecolor\": \"white\", \"showbackground\": true, \"ticks\": \"\", \"zerolinecolor\": \"white\"}}, \"shapedefaults\": {\"line\": {\"color\": \"#2a3f5f\"}}, \"ternary\": {\"aaxis\": {\"gridcolor\": \"white\", \"linecolor\": \"white\", \"ticks\": \"\"}, \"baxis\": {\"gridcolor\": \"white\", \"linecolor\": \"white\", \"ticks\": \"\"}, \"bgcolor\": \"#E5ECF6\", \"caxis\": {\"gridcolor\": \"white\", \"linecolor\": \"white\", \"ticks\": \"\"}}, \"title\": {\"x\": 0.05}, \"xaxis\": {\"automargin\": true, \"gridcolor\": \"white\", \"linecolor\": \"white\", \"ticks\": \"\", \"title\": {\"standoff\": 15}, \"zerolinecolor\": \"white\", \"zerolinewidth\": 2}, \"yaxis\": {\"automargin\": true, \"gridcolor\": \"white\", \"linecolor\": \"white\", \"ticks\": \"\", \"title\": {\"standoff\": 15}, \"zerolinecolor\": \"white\", \"zerolinewidth\": 2}}}, \"title\": {\"text\": \"Top 20 busiest one-way trip routes by carriers\"}, \"xaxis\": {\"anchor\": \"y\", \"domain\": [0.0, 1.0], \"title\": {\"text\": \"roundTripRoute\"}}, \"yaxis\": {\"anchor\": \"x\", \"domain\": [0.0, 1.0], \"title\": {\"text\": \"Count\"}}},\n",
              "                        {\"responsive\": true}\n",
              "                    ).then(function(){\n",
              "                            \n",
              "var gd = document.getElementById('df8ed182-4661-4d44-b7d9-5d1fd4323f4e');\n",
              "var x = new MutationObserver(function (mutations, observer) {{\n",
              "        var display = window.getComputedStyle(gd).display;\n",
              "        if (!display || display === 'none') {{\n",
              "            console.log([gd, 'removed!']);\n",
              "            Plotly.purge(gd);\n",
              "            observer.disconnect();\n",
              "        }}\n",
              "}});\n",
              "\n",
              "// Listen for the removal of the full notebook cells\n",
              "var notebookContainer = gd.closest('#notebook-container');\n",
              "if (notebookContainer) {{\n",
              "    x.observe(notebookContainer, {childList: true});\n",
              "}}\n",
              "\n",
              "// Listen for the clearing of the current output cell\n",
              "var outputEl = gd.closest('.output');\n",
              "if (outputEl) {{\n",
              "    x.observe(outputEl, {childList: true});\n",
              "}}\n",
              "\n",
              "                        })\n",
              "                };\n",
              "                \n",
              "            </script>\n",
              "        </div>\n",
              "</body>\n",
              "</html>"
            ]
          },
          "metadata": {}
        }
      ]
    },
    {
      "cell_type": "markdown",
      "metadata": {
        "id": "cvRhtwa0CSnS"
      },
      "source": [
        "- From the plot above, it can be seen that Delta Airlines(DA) have a very versatile network of routes with a good amount of flights for each route, followed by American Airlines(AA) and Alaska Airlines(AS). \n",
        "\n",
        "- However, higher number of flights for a route also means higher competition. For example, eventhough LAX-SFO is a very busy/popular route, it can be seen that people already have a lot of options for considering a flight for that route. \n",
        "\n",
        "- So, this information about only the number of round trip flights, is insufficient to determine the best possible options for choosing a lucrative route, considering the company has only 5 planes to invest on.  "
      ]
    },
    {
      "cell_type": "markdown",
      "metadata": {
        "id": "MH93RUHWenxO"
      },
      "source": [
        "## **Top 10 most Profitable Round Trips**"
      ]
    },
    {
      "cell_type": "markdown",
      "metadata": {
        "id": "bT73IraTniG-"
      },
      "source": [
        "**Costs:**\n",
        "* Fuel, Oil, Maintenance, Crew - \\$8 per mile total\n",
        "* Depreciation, Insurance, Other - \\$1.18 per mile total\n",
        "* Airport operational costs for the right to use the airports and related services are fixed at \\$5,000 for medium airports and \\$10,000 for large airports. There is one charge for each airport where a flight lands. Thus, a round trip flight has a total of two airport charges.\n",
        "* For each individual departure, the first 15 minutes of delays are free, otherwise each minute costs the airline \\$75 in added operational costs.\n",
        "* For each individual arrival, the first 15 minutes of delays are free, otherwise each minute costs the airline \\$75 in added operational costs.\n",
        "\n",
        "**costs = (8 x distance) + (1.18 x distance) + (type[medium] = 5000) + (type[large] = 10000) + (delay < 15 = cost 0 and delay > 15 = 75 x delay-15)** \n",
        "<br>\n",
        "<br>\n",
        "\n",
        "**Revenue:**\n",
        "* Each plane can accommodate up to 200 passengers and each flight has an\n",
        "associated occupancy rate provided in the Flights data set. Do not use the\n",
        "Tickets data set to determine occupancy.\n",
        "* Baggage fee is \\$35 for each checked bag per flight. We expect 50% of\n",
        "passengers to check an average of 1 bag per flight. The fee is charged separately for each leg of a round trip flight, thus 50% of passengers will be\n",
        "charged a total of \\$70 in baggage fees for a round trip flight.\n",
        "* Disregard seasonal effects on ticket prices (i.e. ticket prices are the same in April as they are on Memorial Day or in December)\n",
        "\n",
        "**revenue = (occupancy_rate x 200) x ITIN_FARE + n_passengers x 0.50 x 70**"
      ]
    },
    {
      "cell_type": "markdown",
      "metadata": {
        "id": "Z-VAREO_b3gR"
      },
      "source": [
        "**Calculation of Profit:**"
      ]
    },
    {
      "cell_type": "code",
      "metadata": {
        "colab": {
          "base_uri": "https://localhost:8080/",
          "height": 202
        },
        "id": "5Od6aj_1iwdg",
        "outputId": "41e07b52-4281-40e8-835f-36863f0c118f"
      },
      "source": [
        "# Considering only medium and large airports for analysis\n",
        "ac_ml = ac[(ac[\"TYPE\"] == 'medium_airport') | (ac[\"TYPE\"] == 'large_airport')]\n",
        "ac_ml = ac_ml[ac_ml['IATA_CODE'].notna()]\n",
        "\n",
        "# Merging Airport_Codes data with Flights data on IATA_CODE and ORIGIN, DESTINATION respectively\n",
        "f_nc_sz = f_nc.merge(ac_ml[[\"IATA_CODE\",\"TYPE\"]],how='left',left_on=\"ORIGIN\",right_on=\"IATA_CODE\").merge(ac_ml[[\"IATA_CODE\",\"TYPE\"]],how='left',left_on=\"DESTINATION\",right_on=\"IATA_CODE\")\n",
        "selected_cols = [\"FL_DATE\",\"OP_CARRIER\",\"ORIGIN\",\"DESTINATION\",\"DEP_DELAY\",\"ARR_DELAY\",\"AIR_TIME\",\"DISTANCE\",\"OCCUPANCY_RATE\",\"TYPE_x\",\"TYPE_y\"]\n",
        "\n",
        "# Airport opearional costs assigned - $5000 for medium airports and $10,000 for large airports\n",
        "f_nc_sz = f_nc_sz[selected_cols].rename({\"TYPE_x\":\"ORIGIN_size\",\"TYPE_y\":\"DESTINATION_size\"},axis=1)\n",
        "f_nc_sz[['ORIGIN_size','DESTINATION_size']] = f_nc_sz[['ORIGIN_size','DESTINATION_size']].replace(to_replace={\"large_airport\":10000,\"medium_airport\":5000})\n",
        "f_nc_sz.head()"
      ],
      "execution_count": null,
      "outputs": [
        {
          "output_type": "execute_result",
          "data": {
            "text/html": [
              "<div>\n",
              "<style scoped>\n",
              "    .dataframe tbody tr th:only-of-type {\n",
              "        vertical-align: middle;\n",
              "    }\n",
              "\n",
              "    .dataframe tbody tr th {\n",
              "        vertical-align: top;\n",
              "    }\n",
              "\n",
              "    .dataframe thead th {\n",
              "        text-align: right;\n",
              "    }\n",
              "</style>\n",
              "<table border=\"1\" class=\"dataframe\">\n",
              "  <thead>\n",
              "    <tr style=\"text-align: right;\">\n",
              "      <th></th>\n",
              "      <th>FL_DATE</th>\n",
              "      <th>OP_CARRIER</th>\n",
              "      <th>ORIGIN</th>\n",
              "      <th>DESTINATION</th>\n",
              "      <th>DEP_DELAY</th>\n",
              "      <th>ARR_DELAY</th>\n",
              "      <th>AIR_TIME</th>\n",
              "      <th>DISTANCE</th>\n",
              "      <th>OCCUPANCY_RATE</th>\n",
              "      <th>ORIGIN_size</th>\n",
              "      <th>DESTINATION_size</th>\n",
              "    </tr>\n",
              "  </thead>\n",
              "  <tbody>\n",
              "    <tr>\n",
              "      <th>0</th>\n",
              "      <td>2019-03-05</td>\n",
              "      <td>DL</td>\n",
              "      <td>ABE</td>\n",
              "      <td>ATL</td>\n",
              "      <td>-7.0</td>\n",
              "      <td>-13.0</td>\n",
              "      <td>110.0</td>\n",
              "      <td>692.0</td>\n",
              "      <td>0.52</td>\n",
              "      <td>5000.0</td>\n",
              "      <td>10000.0</td>\n",
              "    </tr>\n",
              "    <tr>\n",
              "      <th>1</th>\n",
              "      <td>2019-03-06</td>\n",
              "      <td>DL</td>\n",
              "      <td>ABE</td>\n",
              "      <td>ATL</td>\n",
              "      <td>-7.0</td>\n",
              "      <td>-15.0</td>\n",
              "      <td>107.0</td>\n",
              "      <td>692.0</td>\n",
              "      <td>0.99</td>\n",
              "      <td>5000.0</td>\n",
              "      <td>10000.0</td>\n",
              "    </tr>\n",
              "    <tr>\n",
              "      <th>2</th>\n",
              "      <td>2019-03-13</td>\n",
              "      <td>DL</td>\n",
              "      <td>ABE</td>\n",
              "      <td>ATL</td>\n",
              "      <td>-8.0</td>\n",
              "      <td>-19.0</td>\n",
              "      <td>98.0</td>\n",
              "      <td>692.0</td>\n",
              "      <td>0.72</td>\n",
              "      <td>5000.0</td>\n",
              "      <td>10000.0</td>\n",
              "    </tr>\n",
              "    <tr>\n",
              "      <th>3</th>\n",
              "      <td>2019-03-10</td>\n",
              "      <td>DL</td>\n",
              "      <td>ABE</td>\n",
              "      <td>ATL</td>\n",
              "      <td>-8.0</td>\n",
              "      <td>-17.0</td>\n",
              "      <td>105.0</td>\n",
              "      <td>692.0</td>\n",
              "      <td>0.40</td>\n",
              "      <td>5000.0</td>\n",
              "      <td>10000.0</td>\n",
              "    </tr>\n",
              "    <tr>\n",
              "      <th>4</th>\n",
              "      <td>2019-03-09</td>\n",
              "      <td>DL</td>\n",
              "      <td>ABE</td>\n",
              "      <td>ATL</td>\n",
              "      <td>-9.0</td>\n",
              "      <td>-11.0</td>\n",
              "      <td>103.0</td>\n",
              "      <td>692.0</td>\n",
              "      <td>0.89</td>\n",
              "      <td>5000.0</td>\n",
              "      <td>10000.0</td>\n",
              "    </tr>\n",
              "  </tbody>\n",
              "</table>\n",
              "</div>"
            ],
            "text/plain": [
              "     FL_DATE OP_CARRIER ORIGIN  ... OCCUPANCY_RATE  ORIGIN_size  DESTINATION_size\n",
              "0 2019-03-05         DL    ABE  ...           0.52       5000.0           10000.0\n",
              "1 2019-03-06         DL    ABE  ...           0.99       5000.0           10000.0\n",
              "2 2019-03-13         DL    ABE  ...           0.72       5000.0           10000.0\n",
              "3 2019-03-10         DL    ABE  ...           0.40       5000.0           10000.0\n",
              "4 2019-03-09         DL    ABE  ...           0.89       5000.0           10000.0\n",
              "\n",
              "[5 rows x 11 columns]"
            ]
          },
          "metadata": {},
          "execution_count": 87
        }
      ]
    },
    {
      "cell_type": "code",
      "metadata": {
        "colab": {
          "base_uri": "https://localhost:8080/",
          "height": 202
        },
        "id": "DxEvKjDAvx6j",
        "outputId": "066e2e12-056f-4d15-9001-3ebd011a29ee"
      },
      "source": [
        "tickets = tickets.rename({\"REPORTING_CARRIER\":\"OP_CARRIER\"},axis=1)\n",
        "# Considering only roundtrip rows from Tickets dataset\n",
        "itin_fare = pd.DataFrame(tickets[tickets['ROUNDTRIP']==1].groupby([\"OP_CARRIER\",\"ORIGIN\",\"DESTINATION\"])['ITIN_FARE'].median())\n",
        "temp_df = f_nc.groupby([\"FL_DATE\",\"ORIGIN\",\"DESTINATION\",\"TAIL_NUM\"]).count().sort_values(\"OP_CARRIER\")[\"OP_CARRIER\"].reset_index()\n",
        "temp_df=temp_df.groupby([\"ORIGIN\",\"DESTINATION\"])[\"OP_CARRIER\"].mean().reset_index()\n",
        "f_nc_sz = f_nc_sz.merge(temp_df,on=[\"ORIGIN\",\"DESTINATION\"],how=\"left\").rename({\"OP_CARRIER_x\":\"OP_CARRIER\",\"OP_CARRIER_y\":\"avgDailyTrip\"},axis=1)\n",
        "# Merging previous dataset having airport operational costs with tickets subset data on ORIGIN and DESTINATION\n",
        "df_fare = pd.merge(f_nc_sz,itin_fare.reset_index(),how='left',on=[\"OP_CARRIER\",\"ORIGIN\",\"DESTINATION\"])\n",
        "df_fare = df_fare[df_fare[\"ITIN_FARE\"].notna()]   #removing null of ITIN_FARE as it can canot be assumed for the flight\n",
        "df_fare = df_fare.dropna()\n",
        "df_fare.head()"
      ],
      "execution_count": null,
      "outputs": [
        {
          "output_type": "execute_result",
          "data": {
            "text/html": [
              "<div>\n",
              "<style scoped>\n",
              "    .dataframe tbody tr th:only-of-type {\n",
              "        vertical-align: middle;\n",
              "    }\n",
              "\n",
              "    .dataframe tbody tr th {\n",
              "        vertical-align: top;\n",
              "    }\n",
              "\n",
              "    .dataframe thead th {\n",
              "        text-align: right;\n",
              "    }\n",
              "</style>\n",
              "<table border=\"1\" class=\"dataframe\">\n",
              "  <thead>\n",
              "    <tr style=\"text-align: right;\">\n",
              "      <th></th>\n",
              "      <th>FL_DATE</th>\n",
              "      <th>OP_CARRIER</th>\n",
              "      <th>ORIGIN</th>\n",
              "      <th>DESTINATION</th>\n",
              "      <th>DEP_DELAY</th>\n",
              "      <th>ARR_DELAY</th>\n",
              "      <th>AIR_TIME</th>\n",
              "      <th>DISTANCE</th>\n",
              "      <th>OCCUPANCY_RATE</th>\n",
              "      <th>ORIGIN_size</th>\n",
              "      <th>DESTINATION_size</th>\n",
              "      <th>avgDailyTrip</th>\n",
              "      <th>ITIN_FARE</th>\n",
              "    </tr>\n",
              "  </thead>\n",
              "  <tbody>\n",
              "    <tr>\n",
              "      <th>0</th>\n",
              "      <td>2019-03-05</td>\n",
              "      <td>DL</td>\n",
              "      <td>ABE</td>\n",
              "      <td>ATL</td>\n",
              "      <td>-7.0</td>\n",
              "      <td>-13.0</td>\n",
              "      <td>110.0</td>\n",
              "      <td>692.0</td>\n",
              "      <td>0.52</td>\n",
              "      <td>5000.0</td>\n",
              "      <td>10000.0</td>\n",
              "      <td>1.00463</td>\n",
              "      <td>387.5</td>\n",
              "    </tr>\n",
              "    <tr>\n",
              "      <th>1</th>\n",
              "      <td>2019-03-06</td>\n",
              "      <td>DL</td>\n",
              "      <td>ABE</td>\n",
              "      <td>ATL</td>\n",
              "      <td>-7.0</td>\n",
              "      <td>-15.0</td>\n",
              "      <td>107.0</td>\n",
              "      <td>692.0</td>\n",
              "      <td>0.99</td>\n",
              "      <td>5000.0</td>\n",
              "      <td>10000.0</td>\n",
              "      <td>1.00463</td>\n",
              "      <td>387.5</td>\n",
              "    </tr>\n",
              "    <tr>\n",
              "      <th>2</th>\n",
              "      <td>2019-03-13</td>\n",
              "      <td>DL</td>\n",
              "      <td>ABE</td>\n",
              "      <td>ATL</td>\n",
              "      <td>-8.0</td>\n",
              "      <td>-19.0</td>\n",
              "      <td>98.0</td>\n",
              "      <td>692.0</td>\n",
              "      <td>0.72</td>\n",
              "      <td>5000.0</td>\n",
              "      <td>10000.0</td>\n",
              "      <td>1.00463</td>\n",
              "      <td>387.5</td>\n",
              "    </tr>\n",
              "    <tr>\n",
              "      <th>3</th>\n",
              "      <td>2019-03-10</td>\n",
              "      <td>DL</td>\n",
              "      <td>ABE</td>\n",
              "      <td>ATL</td>\n",
              "      <td>-8.0</td>\n",
              "      <td>-17.0</td>\n",
              "      <td>105.0</td>\n",
              "      <td>692.0</td>\n",
              "      <td>0.40</td>\n",
              "      <td>5000.0</td>\n",
              "      <td>10000.0</td>\n",
              "      <td>1.00463</td>\n",
              "      <td>387.5</td>\n",
              "    </tr>\n",
              "    <tr>\n",
              "      <th>4</th>\n",
              "      <td>2019-03-09</td>\n",
              "      <td>DL</td>\n",
              "      <td>ABE</td>\n",
              "      <td>ATL</td>\n",
              "      <td>-9.0</td>\n",
              "      <td>-11.0</td>\n",
              "      <td>103.0</td>\n",
              "      <td>692.0</td>\n",
              "      <td>0.89</td>\n",
              "      <td>5000.0</td>\n",
              "      <td>10000.0</td>\n",
              "      <td>1.00463</td>\n",
              "      <td>387.5</td>\n",
              "    </tr>\n",
              "  </tbody>\n",
              "</table>\n",
              "</div>"
            ],
            "text/plain": [
              "     FL_DATE OP_CARRIER ORIGIN  ... DESTINATION_size  avgDailyTrip  ITIN_FARE\n",
              "0 2019-03-05         DL    ABE  ...          10000.0       1.00463      387.5\n",
              "1 2019-03-06         DL    ABE  ...          10000.0       1.00463      387.5\n",
              "2 2019-03-13         DL    ABE  ...          10000.0       1.00463      387.5\n",
              "3 2019-03-10         DL    ABE  ...          10000.0       1.00463      387.5\n",
              "4 2019-03-09         DL    ABE  ...          10000.0       1.00463      387.5\n",
              "\n",
              "[5 rows x 13 columns]"
            ]
          },
          "metadata": {},
          "execution_count": 88
        }
      ]
    },
    {
      "cell_type": "code",
      "metadata": {
        "id": "OLR-HCV3aV-1"
      },
      "source": [
        "# costs = (8*distance) + (1.18*distance) + (type[medium]*5000) + (type[large]*10000) + (delay < 15 = cost 0 and delay > 15 = 75 * delay-15)\n",
        "# revenue = (occupancy_rate*200)*ITIN_FARE + n_passengers*0.50*70\n",
        "\n",
        "# Delay costs\n",
        "def delay_cost(row_val):\n",
        "  if row_val>15:\n",
        "    return row_val*75\n",
        "  else:\n",
        "    return 0\n",
        "\n",
        "def calculate_profit(dfr):\n",
        "  df = dfr.copy()\n",
        "  \n",
        "  df[\"FOMC\"] = 2*8*df[\"DISTANCE\"]    #Fuel, Oil, Maintenance, Crew - distance is twice because of round trip\n",
        "  df[\"DIO\"] = 2*1.18*df[\"DISTANCE\"]    # Depreciation, Insurance, Other - distance is twice because of round trip\n",
        "  df[\"AOC\"] = df['ORIGIN_size']+df[\"DESTINATION_size\"]   #Airport operational costs\n",
        "  df[\"DELAY_COST\"] = df[\"ARR_DELAY\"].apply(lambda x: delay_cost(x)) + df[\"DEP_DELAY\"].apply(lambda x:delay_cost(x))   # Delay Costs - considering delay values to be for round trip\n",
        "  \n",
        "  df[\"n_passengers\"] = df[\"OCCUPANCY_RATE\"]*200   # Number of passengers, considering each plane can accommodate up to 200 passengers\n",
        "  df[\"baggage_fee\"] = df[\"n_passengers\"]*0.50*70   # Baggage fees, $70 for each bag for round trip flight\n",
        "  df['fare'] = df[\"n_passengers\"]*df[\"ITIN_FARE\"]   # Total fare\n",
        "  \n",
        "  df['total_revenue'] = df[\"baggage_fee\"]+df['fare']    # Total Revenue\n",
        "  df['total_cost'] = df[\"FOMC\"]+df[\"DIO\"]+df[\"AOC\"]+df[\"DELAY_COST\"]   # Total Costs\n",
        "  df[\"profit\"] = df['total_revenue'] - df['total_cost']   # Profit = Total Revenue - Total Costs\n",
        "  # Breakeven number = 90million(upfront cost for each airplane) / Profit\n",
        "  return df"
      ],
      "execution_count": null,
      "outputs": []
    },
    {
      "cell_type": "code",
      "metadata": {
        "id": "U0y69Cq7gSjc"
      },
      "source": [
        "profit_df = calculate_profit(df_fare)\n",
        "profit_dfr = profit_df[profit_df[\"profit\"]>0]\n",
        "# profit_dfr = profit_dfr.groupby([\"ORIGIN\",\"DESTINATION\"]).sort_values(\"profit\",ascending=False).reset_index()\n",
        "profit_dfr = profit_dfr.merge(dfr_agg,how=\"left\",on=[\"ORIGIN\",\"DESTINATION\"])\n",
        "profit_dfr = profit_dfr.rename({\"FL_DATE_y\":\"busiest_roundTrips\"},axis=1)\n",
        "profit_dfr[\"breakEvenNumber\"] = profit_dfr[\"profit\"].apply(lambda x:90000000/x)\n",
        "# profit_dfr['diff'] = profit_dfr['busiest_roundTrips'] - profit_dfr[\"breakEvenNumber\"]    # calculating difference between number of round trip flights for each carrier and the breakeven number to generate a profit factor\n",
        "profit_dfr = profit_dfr[profit_dfr[\"profit\"]>0]"
      ],
      "execution_count": null,
      "outputs": []
    },
    {
      "cell_type": "code",
      "metadata": {
        "colab": {
          "base_uri": "https://localhost:8080/",
          "height": 305
        },
        "id": "Ctni92i-aRcu",
        "outputId": "64edae2e-a24b-423b-da0b-2f2cf77e3892"
      },
      "source": [
        "profit_dfr.head()"
      ],
      "execution_count": null,
      "outputs": [
        {
          "output_type": "execute_result",
          "data": {
            "text/html": [
              "<div>\n",
              "<style scoped>\n",
              "    .dataframe tbody tr th:only-of-type {\n",
              "        vertical-align: middle;\n",
              "    }\n",
              "\n",
              "    .dataframe tbody tr th {\n",
              "        vertical-align: top;\n",
              "    }\n",
              "\n",
              "    .dataframe thead th {\n",
              "        text-align: right;\n",
              "    }\n",
              "</style>\n",
              "<table border=\"1\" class=\"dataframe\">\n",
              "  <thead>\n",
              "    <tr style=\"text-align: right;\">\n",
              "      <th></th>\n",
              "      <th>FL_DATE_x</th>\n",
              "      <th>OP_CARRIER</th>\n",
              "      <th>ORIGIN</th>\n",
              "      <th>DESTINATION</th>\n",
              "      <th>DEP_DELAY</th>\n",
              "      <th>ARR_DELAY</th>\n",
              "      <th>AIR_TIME</th>\n",
              "      <th>DISTANCE</th>\n",
              "      <th>OCCUPANCY_RATE</th>\n",
              "      <th>ORIGIN_size</th>\n",
              "      <th>DESTINATION_size</th>\n",
              "      <th>avgDailyTrip</th>\n",
              "      <th>ITIN_FARE</th>\n",
              "      <th>FOMC</th>\n",
              "      <th>DIO</th>\n",
              "      <th>AOC</th>\n",
              "      <th>DELAY_COST</th>\n",
              "      <th>n_passengers</th>\n",
              "      <th>baggage_fee</th>\n",
              "      <th>fare</th>\n",
              "      <th>total_revenue</th>\n",
              "      <th>total_cost</th>\n",
              "      <th>profit</th>\n",
              "      <th>busiest_roundTrips</th>\n",
              "      <th>breakEvenNumber</th>\n",
              "    </tr>\n",
              "  </thead>\n",
              "  <tbody>\n",
              "    <tr>\n",
              "      <th>0</th>\n",
              "      <td>2019-03-05</td>\n",
              "      <td>DL</td>\n",
              "      <td>ABE</td>\n",
              "      <td>ATL</td>\n",
              "      <td>-7.0</td>\n",
              "      <td>-13.0</td>\n",
              "      <td>110.0</td>\n",
              "      <td>692.0</td>\n",
              "      <td>0.52</td>\n",
              "      <td>5000.0</td>\n",
              "      <td>10000.0</td>\n",
              "      <td>1.00463</td>\n",
              "      <td>387.5</td>\n",
              "      <td>11072.0</td>\n",
              "      <td>1633.12</td>\n",
              "      <td>15000.0</td>\n",
              "      <td>0.0</td>\n",
              "      <td>104.0</td>\n",
              "      <td>3640.0</td>\n",
              "      <td>40300.0</td>\n",
              "      <td>43940.0</td>\n",
              "      <td>27705.12</td>\n",
              "      <td>16234.88</td>\n",
              "      <td>217</td>\n",
              "      <td>5543.619663</td>\n",
              "    </tr>\n",
              "    <tr>\n",
              "      <th>1</th>\n",
              "      <td>2019-03-06</td>\n",
              "      <td>DL</td>\n",
              "      <td>ABE</td>\n",
              "      <td>ATL</td>\n",
              "      <td>-7.0</td>\n",
              "      <td>-15.0</td>\n",
              "      <td>107.0</td>\n",
              "      <td>692.0</td>\n",
              "      <td>0.99</td>\n",
              "      <td>5000.0</td>\n",
              "      <td>10000.0</td>\n",
              "      <td>1.00463</td>\n",
              "      <td>387.5</td>\n",
              "      <td>11072.0</td>\n",
              "      <td>1633.12</td>\n",
              "      <td>15000.0</td>\n",
              "      <td>0.0</td>\n",
              "      <td>198.0</td>\n",
              "      <td>6930.0</td>\n",
              "      <td>76725.0</td>\n",
              "      <td>83655.0</td>\n",
              "      <td>27705.12</td>\n",
              "      <td>55949.88</td>\n",
              "      <td>217</td>\n",
              "      <td>1608.582539</td>\n",
              "    </tr>\n",
              "    <tr>\n",
              "      <th>2</th>\n",
              "      <td>2019-03-13</td>\n",
              "      <td>DL</td>\n",
              "      <td>ABE</td>\n",
              "      <td>ATL</td>\n",
              "      <td>-8.0</td>\n",
              "      <td>-19.0</td>\n",
              "      <td>98.0</td>\n",
              "      <td>692.0</td>\n",
              "      <td>0.72</td>\n",
              "      <td>5000.0</td>\n",
              "      <td>10000.0</td>\n",
              "      <td>1.00463</td>\n",
              "      <td>387.5</td>\n",
              "      <td>11072.0</td>\n",
              "      <td>1633.12</td>\n",
              "      <td>15000.0</td>\n",
              "      <td>0.0</td>\n",
              "      <td>144.0</td>\n",
              "      <td>5040.0</td>\n",
              "      <td>55800.0</td>\n",
              "      <td>60840.0</td>\n",
              "      <td>27705.12</td>\n",
              "      <td>33134.88</td>\n",
              "      <td>217</td>\n",
              "      <td>2716.170996</td>\n",
              "    </tr>\n",
              "    <tr>\n",
              "      <th>3</th>\n",
              "      <td>2019-03-10</td>\n",
              "      <td>DL</td>\n",
              "      <td>ABE</td>\n",
              "      <td>ATL</td>\n",
              "      <td>-8.0</td>\n",
              "      <td>-17.0</td>\n",
              "      <td>105.0</td>\n",
              "      <td>692.0</td>\n",
              "      <td>0.40</td>\n",
              "      <td>5000.0</td>\n",
              "      <td>10000.0</td>\n",
              "      <td>1.00463</td>\n",
              "      <td>387.5</td>\n",
              "      <td>11072.0</td>\n",
              "      <td>1633.12</td>\n",
              "      <td>15000.0</td>\n",
              "      <td>0.0</td>\n",
              "      <td>80.0</td>\n",
              "      <td>2800.0</td>\n",
              "      <td>31000.0</td>\n",
              "      <td>33800.0</td>\n",
              "      <td>27705.12</td>\n",
              "      <td>6094.88</td>\n",
              "      <td>217</td>\n",
              "      <td>14766.492531</td>\n",
              "    </tr>\n",
              "    <tr>\n",
              "      <th>4</th>\n",
              "      <td>2019-03-09</td>\n",
              "      <td>DL</td>\n",
              "      <td>ABE</td>\n",
              "      <td>ATL</td>\n",
              "      <td>-9.0</td>\n",
              "      <td>-11.0</td>\n",
              "      <td>103.0</td>\n",
              "      <td>692.0</td>\n",
              "      <td>0.89</td>\n",
              "      <td>5000.0</td>\n",
              "      <td>10000.0</td>\n",
              "      <td>1.00463</td>\n",
              "      <td>387.5</td>\n",
              "      <td>11072.0</td>\n",
              "      <td>1633.12</td>\n",
              "      <td>15000.0</td>\n",
              "      <td>0.0</td>\n",
              "      <td>178.0</td>\n",
              "      <td>6230.0</td>\n",
              "      <td>68975.0</td>\n",
              "      <td>75205.0</td>\n",
              "      <td>27705.12</td>\n",
              "      <td>47499.88</td>\n",
              "      <td>217</td>\n",
              "      <td>1894.741629</td>\n",
              "    </tr>\n",
              "  </tbody>\n",
              "</table>\n",
              "</div>"
            ],
            "text/plain": [
              "   FL_DATE_x OP_CARRIER ORIGIN  ...    profit  busiest_roundTrips  breakEvenNumber\n",
              "0 2019-03-05         DL    ABE  ...  16234.88                 217      5543.619663\n",
              "1 2019-03-06         DL    ABE  ...  55949.88                 217      1608.582539\n",
              "2 2019-03-13         DL    ABE  ...  33134.88                 217      2716.170996\n",
              "3 2019-03-10         DL    ABE  ...   6094.88                 217     14766.492531\n",
              "4 2019-03-09         DL    ABE  ...  47499.88                 217      1894.741629\n",
              "\n",
              "[5 rows x 25 columns]"
            ]
          },
          "metadata": {},
          "execution_count": 91
        }
      ]
    },
    {
      "cell_type": "markdown",
      "metadata": {
        "id": "k90KVaLday-w"
      },
      "source": [
        "From this dataset and from the formula used for profit calculation, it can be said that the following components should be assessed further to identify the success factors:\n",
        "1. Distance\n",
        "2. Delays\n",
        "3. Occupancy Rate\n",
        "4. ITIN_Fare \n",
        "5. Busiest round trips (number of round trip flights for each unique route for each carrier) "
      ]
    },
    {
      "cell_type": "markdown",
      "metadata": {
        "id": "ZB68Wk88cBOz"
      },
      "source": [
        "**Identifying and Analyzing Key Components:**"
      ]
    },
    {
      "cell_type": "code",
      "metadata": {
        "colab": {
          "base_uri": "https://localhost:8080/",
          "height": 305
        },
        "id": "Wzsj40cMw9MQ",
        "outputId": "8f3480c3-f435-4875-8b0f-31232ada5af1"
      },
      "source": [
        "key_comps = profit_dfr.sort_values(\"profit\",ascending=False).groupby([\"OP_CARRIER\",\"ORIGIN\",\"DESTINATION\"]).head(1).reset_index()\n",
        "key_comps.head()"
      ],
      "execution_count": null,
      "outputs": [
        {
          "output_type": "execute_result",
          "data": {
            "text/html": [
              "<div>\n",
              "<style scoped>\n",
              "    .dataframe tbody tr th:only-of-type {\n",
              "        vertical-align: middle;\n",
              "    }\n",
              "\n",
              "    .dataframe tbody tr th {\n",
              "        vertical-align: top;\n",
              "    }\n",
              "\n",
              "    .dataframe thead th {\n",
              "        text-align: right;\n",
              "    }\n",
              "</style>\n",
              "<table border=\"1\" class=\"dataframe\">\n",
              "  <thead>\n",
              "    <tr style=\"text-align: right;\">\n",
              "      <th></th>\n",
              "      <th>index</th>\n",
              "      <th>FL_DATE_x</th>\n",
              "      <th>OP_CARRIER</th>\n",
              "      <th>ORIGIN</th>\n",
              "      <th>DESTINATION</th>\n",
              "      <th>DEP_DELAY</th>\n",
              "      <th>ARR_DELAY</th>\n",
              "      <th>AIR_TIME</th>\n",
              "      <th>DISTANCE</th>\n",
              "      <th>OCCUPANCY_RATE</th>\n",
              "      <th>ORIGIN_size</th>\n",
              "      <th>DESTINATION_size</th>\n",
              "      <th>avgDailyTrip</th>\n",
              "      <th>ITIN_FARE</th>\n",
              "      <th>FOMC</th>\n",
              "      <th>DIO</th>\n",
              "      <th>AOC</th>\n",
              "      <th>DELAY_COST</th>\n",
              "      <th>n_passengers</th>\n",
              "      <th>baggage_fee</th>\n",
              "      <th>fare</th>\n",
              "      <th>total_revenue</th>\n",
              "      <th>total_cost</th>\n",
              "      <th>profit</th>\n",
              "      <th>busiest_roundTrips</th>\n",
              "      <th>breakEvenNumber</th>\n",
              "    </tr>\n",
              "  </thead>\n",
              "  <tbody>\n",
              "    <tr>\n",
              "      <th>0</th>\n",
              "      <td>475874</td>\n",
              "      <td>2019-03-09</td>\n",
              "      <td>AA</td>\n",
              "      <td>EGE</td>\n",
              "      <td>JFK</td>\n",
              "      <td>-3.0</td>\n",
              "      <td>0.0</td>\n",
              "      <td>207.0</td>\n",
              "      <td>1746.0</td>\n",
              "      <td>0.98</td>\n",
              "      <td>5000.0</td>\n",
              "      <td>10000.0</td>\n",
              "      <td>1.00000</td>\n",
              "      <td>2228.0</td>\n",
              "      <td>27936.0</td>\n",
              "      <td>4120.56</td>\n",
              "      <td>15000.0</td>\n",
              "      <td>0.0</td>\n",
              "      <td>196.0</td>\n",
              "      <td>6860.0</td>\n",
              "      <td>436688.0</td>\n",
              "      <td>443548.0</td>\n",
              "      <td>47056.56</td>\n",
              "      <td>396491.44</td>\n",
              "      <td>57</td>\n",
              "      <td>226.991029</td>\n",
              "    </tr>\n",
              "    <tr>\n",
              "      <th>1</th>\n",
              "      <td>553489</td>\n",
              "      <td>2019-03-19</td>\n",
              "      <td>UA</td>\n",
              "      <td>HNL</td>\n",
              "      <td>GUM</td>\n",
              "      <td>-11.0</td>\n",
              "      <td>-20.0</td>\n",
              "      <td>442.0</td>\n",
              "      <td>3801.0</td>\n",
              "      <td>0.99</td>\n",
              "      <td>10000.0</td>\n",
              "      <td>10000.0</td>\n",
              "      <td>1.00000</td>\n",
              "      <td>2170.0</td>\n",
              "      <td>60816.0</td>\n",
              "      <td>8970.36</td>\n",
              "      <td>20000.0</td>\n",
              "      <td>0.0</td>\n",
              "      <td>198.0</td>\n",
              "      <td>6930.0</td>\n",
              "      <td>429660.0</td>\n",
              "      <td>436590.0</td>\n",
              "      <td>89786.36</td>\n",
              "      <td>346803.64</td>\n",
              "      <td>88</td>\n",
              "      <td>259.512847</td>\n",
              "    </tr>\n",
              "    <tr>\n",
              "      <th>2</th>\n",
              "      <td>348918</td>\n",
              "      <td>2019-01-08</td>\n",
              "      <td>OO</td>\n",
              "      <td>DEN</td>\n",
              "      <td>DAY</td>\n",
              "      <td>-8.0</td>\n",
              "      <td>-24.0</td>\n",
              "      <td>124.0</td>\n",
              "      <td>1085.0</td>\n",
              "      <td>0.94</td>\n",
              "      <td>10000.0</td>\n",
              "      <td>10000.0</td>\n",
              "      <td>1.06962</td>\n",
              "      <td>1701.0</td>\n",
              "      <td>17360.0</td>\n",
              "      <td>2560.60</td>\n",
              "      <td>20000.0</td>\n",
              "      <td>0.0</td>\n",
              "      <td>188.0</td>\n",
              "      <td>6580.0</td>\n",
              "      <td>319788.0</td>\n",
              "      <td>326368.0</td>\n",
              "      <td>39920.60</td>\n",
              "      <td>286447.40</td>\n",
              "      <td>169</td>\n",
              "      <td>314.193810</td>\n",
              "    </tr>\n",
              "    <tr>\n",
              "      <th>3</th>\n",
              "      <td>676262</td>\n",
              "      <td>2019-01-02</td>\n",
              "      <td>AA</td>\n",
              "      <td>KOA</td>\n",
              "      <td>DFW</td>\n",
              "      <td>-5.0</td>\n",
              "      <td>2.0</td>\n",
              "      <td>416.0</td>\n",
              "      <td>3724.0</td>\n",
              "      <td>0.98</td>\n",
              "      <td>5000.0</td>\n",
              "      <td>10000.0</td>\n",
              "      <td>1.00000</td>\n",
              "      <td>1787.0</td>\n",
              "      <td>59584.0</td>\n",
              "      <td>8788.64</td>\n",
              "      <td>15000.0</td>\n",
              "      <td>0.0</td>\n",
              "      <td>196.0</td>\n",
              "      <td>6860.0</td>\n",
              "      <td>350252.0</td>\n",
              "      <td>357112.0</td>\n",
              "      <td>83372.64</td>\n",
              "      <td>273739.36</td>\n",
              "      <td>44</td>\n",
              "      <td>328.779902</td>\n",
              "    </tr>\n",
              "    <tr>\n",
              "      <th>4</th>\n",
              "      <td>552451</td>\n",
              "      <td>2019-01-07</td>\n",
              "      <td>UA</td>\n",
              "      <td>GUM</td>\n",
              "      <td>HNL</td>\n",
              "      <td>14.0</td>\n",
              "      <td>5.0</td>\n",
              "      <td>399.0</td>\n",
              "      <td>3801.0</td>\n",
              "      <td>0.99</td>\n",
              "      <td>10000.0</td>\n",
              "      <td>10000.0</td>\n",
              "      <td>1.00000</td>\n",
              "      <td>1560.0</td>\n",
              "      <td>60816.0</td>\n",
              "      <td>8970.36</td>\n",
              "      <td>20000.0</td>\n",
              "      <td>0.0</td>\n",
              "      <td>198.0</td>\n",
              "      <td>6930.0</td>\n",
              "      <td>308880.0</td>\n",
              "      <td>315810.0</td>\n",
              "      <td>89786.36</td>\n",
              "      <td>226023.64</td>\n",
              "      <td>89</td>\n",
              "      <td>398.188437</td>\n",
              "    </tr>\n",
              "  </tbody>\n",
              "</table>\n",
              "</div>"
            ],
            "text/plain": [
              "    index  FL_DATE_x OP_CARRIER  ...     profit busiest_roundTrips  breakEvenNumber\n",
              "0  475874 2019-03-09         AA  ...  396491.44                 57       226.991029\n",
              "1  553489 2019-03-19         UA  ...  346803.64                 88       259.512847\n",
              "2  348918 2019-01-08         OO  ...  286447.40                169       314.193810\n",
              "3  676262 2019-01-02         AA  ...  273739.36                 44       328.779902\n",
              "4  552451 2019-01-07         UA  ...  226023.64                 89       398.188437\n",
              "\n",
              "[5 rows x 26 columns]"
            ]
          },
          "metadata": {},
          "execution_count": 92
        }
      ]
    },
    {
      "cell_type": "code",
      "metadata": {
        "colab": {
          "base_uri": "https://localhost:8080/",
          "height": 294
        },
        "id": "8dX5G0QVH4eH",
        "outputId": "46bfe43f-7e11-4aca-83ab-5d0879da859c"
      },
      "source": [
        "key_comps[['DEP_DELAY', 'ARR_DELAY', 'AIR_TIME', 'DISTANCE', 'OCCUPANCY_RATE', 'ITIN_FARE', 'busiest_roundTrips']].describe()"
      ],
      "execution_count": null,
      "outputs": [
        {
          "output_type": "execute_result",
          "data": {
            "text/html": [
              "<div>\n",
              "<style scoped>\n",
              "    .dataframe tbody tr th:only-of-type {\n",
              "        vertical-align: middle;\n",
              "    }\n",
              "\n",
              "    .dataframe tbody tr th {\n",
              "        vertical-align: top;\n",
              "    }\n",
              "\n",
              "    .dataframe thead th {\n",
              "        text-align: right;\n",
              "    }\n",
              "</style>\n",
              "<table border=\"1\" class=\"dataframe\">\n",
              "  <thead>\n",
              "    <tr style=\"text-align: right;\">\n",
              "      <th></th>\n",
              "      <th>DEP_DELAY</th>\n",
              "      <th>ARR_DELAY</th>\n",
              "      <th>DISTANCE</th>\n",
              "      <th>OCCUPANCY_RATE</th>\n",
              "      <th>ITIN_FARE</th>\n",
              "      <th>busiest_roundTrips</th>\n",
              "    </tr>\n",
              "  </thead>\n",
              "  <tbody>\n",
              "    <tr>\n",
              "      <th>count</th>\n",
              "      <td>9242.000000</td>\n",
              "      <td>9242.000000</td>\n",
              "      <td>9242.000000</td>\n",
              "      <td>9242.000000</td>\n",
              "      <td>9242.000000</td>\n",
              "      <td>9242.000000</td>\n",
              "    </tr>\n",
              "    <tr>\n",
              "      <th>mean</th>\n",
              "      <td>-2.648669</td>\n",
              "      <td>-9.851655</td>\n",
              "      <td>865.474248</td>\n",
              "      <td>0.980094</td>\n",
              "      <td>407.709370</td>\n",
              "      <td>498.215538</td>\n",
              "    </tr>\n",
              "    <tr>\n",
              "      <th>std</th>\n",
              "      <td>8.379009</td>\n",
              "      <td>13.849921</td>\n",
              "      <td>615.320886</td>\n",
              "      <td>0.057155</td>\n",
              "      <td>152.501239</td>\n",
              "      <td>489.475694</td>\n",
              "    </tr>\n",
              "    <tr>\n",
              "      <th>min</th>\n",
              "      <td>-28.000000</td>\n",
              "      <td>-71.000000</td>\n",
              "      <td>-1947.000000</td>\n",
              "      <td>0.310000</td>\n",
              "      <td>58.500000</td>\n",
              "      <td>1.000000</td>\n",
              "    </tr>\n",
              "    <tr>\n",
              "      <th>25%</th>\n",
              "      <td>-7.000000</td>\n",
              "      <td>-18.000000</td>\n",
              "      <td>426.250000</td>\n",
              "      <td>0.990000</td>\n",
              "      <td>310.000000</td>\n",
              "      <td>178.000000</td>\n",
              "    </tr>\n",
              "    <tr>\n",
              "      <th>50%</th>\n",
              "      <td>-4.000000</td>\n",
              "      <td>-10.000000</td>\n",
              "      <td>708.000000</td>\n",
              "      <td>1.000000</td>\n",
              "      <td>390.000000</td>\n",
              "      <td>348.000000</td>\n",
              "    </tr>\n",
              "    <tr>\n",
              "      <th>75%</th>\n",
              "      <td>-1.000000</td>\n",
              "      <td>-2.000000</td>\n",
              "      <td>1088.750000</td>\n",
              "      <td>1.000000</td>\n",
              "      <td>487.000000</td>\n",
              "      <td>648.000000</td>\n",
              "    </tr>\n",
              "    <tr>\n",
              "      <th>max</th>\n",
              "      <td>182.000000</td>\n",
              "      <td>188.000000</td>\n",
              "      <td>4983.000000</td>\n",
              "      <td>1.000000</td>\n",
              "      <td>2228.000000</td>\n",
              "      <td>4175.000000</td>\n",
              "    </tr>\n",
              "  </tbody>\n",
              "</table>\n",
              "</div>"
            ],
            "text/plain": [
              "         DEP_DELAY    ARR_DELAY  ...    ITIN_FARE  busiest_roundTrips\n",
              "count  9242.000000  9242.000000  ...  9242.000000         9242.000000\n",
              "mean     -2.648669    -9.851655  ...   407.709370          498.215538\n",
              "std       8.379009    13.849921  ...   152.501239          489.475694\n",
              "min     -28.000000   -71.000000  ...    58.500000            1.000000\n",
              "25%      -7.000000   -18.000000  ...   310.000000          178.000000\n",
              "50%      -4.000000   -10.000000  ...   390.000000          348.000000\n",
              "75%      -1.000000    -2.000000  ...   487.000000          648.000000\n",
              "max     182.000000   188.000000  ...  2228.000000         4175.000000\n",
              "\n",
              "[8 rows x 6 columns]"
            ]
          },
          "metadata": {},
          "execution_count": 93
        }
      ]
    },
    {
      "cell_type": "code",
      "metadata": {
        "colab": {
          "base_uri": "https://localhost:8080/",
          "height": 78
        },
        "id": "upS1F8q9JxDt",
        "outputId": "5c60b97d-c834-4590-cd20-84f9232423c8"
      },
      "source": [
        "pd.DataFrame(key_comps[['DEP_DELAY', 'ARR_DELAY', 'AIR_TIME', 'DISTANCE', 'OCCUPANCY_RATE', 'ITIN_FARE', 'busiest_roundTrips']].median()).transpose()"
      ],
      "execution_count": null,
      "outputs": [
        {
          "output_type": "execute_result",
          "data": {
            "text/html": [
              "<div>\n",
              "<style scoped>\n",
              "    .dataframe tbody tr th:only-of-type {\n",
              "        vertical-align: middle;\n",
              "    }\n",
              "\n",
              "    .dataframe tbody tr th {\n",
              "        vertical-align: top;\n",
              "    }\n",
              "\n",
              "    .dataframe thead th {\n",
              "        text-align: right;\n",
              "    }\n",
              "</style>\n",
              "<table border=\"1\" class=\"dataframe\">\n",
              "  <thead>\n",
              "    <tr style=\"text-align: right;\">\n",
              "      <th></th>\n",
              "      <th>DEP_DELAY</th>\n",
              "      <th>ARR_DELAY</th>\n",
              "      <th>AIR_TIME</th>\n",
              "      <th>DISTANCE</th>\n",
              "      <th>OCCUPANCY_RATE</th>\n",
              "      <th>ITIN_FARE</th>\n",
              "      <th>busiest_roundTrips</th>\n",
              "    </tr>\n",
              "  </thead>\n",
              "  <tbody>\n",
              "    <tr>\n",
              "      <th>0</th>\n",
              "      <td>-4.0</td>\n",
              "      <td>-10.0</td>\n",
              "      <td>102.0</td>\n",
              "      <td>708.0</td>\n",
              "      <td>1.0</td>\n",
              "      <td>390.0</td>\n",
              "      <td>348.0</td>\n",
              "    </tr>\n",
              "  </tbody>\n",
              "</table>\n",
              "</div>"
            ],
            "text/plain": [
              "   DEP_DELAY  ARR_DELAY  ...  ITIN_FARE  busiest_roundTrips\n",
              "0       -4.0      -10.0  ...      390.0               348.0\n",
              "\n",
              "[1 rows x 7 columns]"
            ]
          },
          "metadata": {},
          "execution_count": 94
        }
      ]
    },
    {
      "cell_type": "markdown",
      "metadata": {
        "id": "z3TcRkE8J-gl"
      },
      "source": [
        "**Summary Value Analysis of Key Components:**\n",
        "<br>\n",
        "\n",
        "**Delays(Per Flight):** Since mean is slightly greater than median, so the distribution would be very slightly right skewed. Since both delays are below 15minutes, delays shall not play a major role in operational costs on a daily basis. For example, a delay of 30minutes could cost as low as $1125 which can be easily recovered just by selling ~3 tickets.\n",
        "\n",
        "**Distance(Per Flight):** The distribution is positively skewed(right skewed) since mean > median. Along with that, it can be seen that the median distance is 708 miles which results in ~$6500 in FOMC and DI costs per flight. \n",
        "\n",
        "**Occupancy Rates(Per Flight):** Since median > mean, the distribution is very slightly left skewed. At 100% occupancy and 200 passeneger capacity, the airline would generate about $78000 (1 * 200 * 390) in ticket revenue. \n",
        "\n",
        "While in baggage revenue, they could generate $7000 (0.50 * 70 * 200).\n",
        "\n",
        "\n",
        "**ITIN_FARE:** Mean>>Median, hence the distribution is right(positively) skewed. Majority of tickets are higher than $390. This could be affected by distance. \n",
        "\n",
        "**Busiest round trips/Day(Overall):** Mean >> Median, hence the distribution is positively skewed. This indicates that there are some routes which have higher number of round trips that would affect our decision of selecting optimum routes to maximize profits. \n",
        "\n",
        "\n",
        "<br>\n",
        "\n",
        "After seeing the numbers, it can be said that **busiest round trips** and **ITIN_FARE** could be the most important factor, followed by **occupancy rate** and **distance** respectively. Also, from the numbers, it can be said that delays are not significant enough since most delays are below 15minutes.\n",
        "\n",
        "Apart from these, **air_time** could also be said to be an important factor. Eventhough, it is directly proportional to distance, this can significantly reduce fuel and oil costs. This could also lead to increased number of round trips in a single day!"
      ]
    },
    {
      "cell_type": "markdown",
      "metadata": {
        "id": "yXVPDvEwK9mn"
      },
      "source": [
        "Based on this article (ref. link below), Boeing 757 with a passenger capacity of 200 has a turn over time of 1 hour. This means that after every trip, it takes an additional 1 hour to make the airline ready for its next flight and be made operational again.\n",
        "\n",
        "Reference: https://www.boeing.com/commercial/aeromagazine/aero_01/textonly/t01txt.html"
      ]
    },
    {
      "cell_type": "code",
      "metadata": {
        "colab": {
          "base_uri": "https://localhost:8080/",
          "height": 816
        },
        "id": "R8_pOeChEUyU",
        "outputId": "0fc5928b-8ce3-47e0-d5cf-af399116d430"
      },
      "source": [
        "fig = go.Figure(data=[\n",
        "    go.Bar(name='Total Revenue', \n",
        "           x = [str(tup) for tup in zip(key_comps.head(10)[\"OP_CARRIER\"],key_comps.head(10)[\"ORIGIN\"],key_comps.head(10)[\"DESTINATION\"])], \n",
        "           y = key_comps.head(10)[\"total_revenue\"],\n",
        "           text = key_comps.head(10)[\"total_revenue\"],\n",
        "           textposition=\"inside\",\n",
        "           insidetextanchor=\"start\",\n",
        "           texttemplate='Revenue-%{text:.4s}'),\n",
        "\n",
        "    go.Bar(name='Total Cost', \n",
        "           x=[str(tup) for tup in zip(key_comps.head(10)[\"OP_CARRIER\"],key_comps.head(10)[\"ORIGIN\"],key_comps.head(10)[\"DESTINATION\"])], \n",
        "           y=key_comps.head(10)[\"total_cost\"]*-1,\n",
        "           text=key_comps.head(10)[\"total_cost\"]*-1,\n",
        "           textposition=\"inside\",\n",
        "           texttemplate='Cost:%{text:.4s}',\n",
        "           textfont=dict(\n",
        "        family=\"sans serif\",\n",
        "        size=24,\n",
        "        color=\"white\"\n",
        "    )),\n",
        "])\n",
        "fig.add_trace(\n",
        "    go.Scatter(\n",
        "        x=[str(tup) for tup in zip(key_comps.head(10)[\"OP_CARRIER\"],key_comps.head(10)[\"ORIGIN\"],key_comps.head(10)[\"DESTINATION\"])],\n",
        "        y=key_comps.head(10)[\"profit\"],\n",
        "        mode=\"markers+text\",\n",
        "        name=\"Gross Profit\",\n",
        "        text=key_comps.head(10)[\"profit\"],\n",
        "        textposition=\"bottom center\",\n",
        "        texttemplate='%{text:.4s}',\n",
        "        textfont=dict(family=\"sans serif\",\n",
        "                      size=20,\n",
        "                      color=\"black\"),\n",
        "        marker=dict(color='LightSkyBlue',\n",
        "                    size=10,\n",
        "                    line=dict(\n",
        "                        color='MediumPurple',\n",
        "                        width=1)\n",
        "                    )\n",
        "    ))\n",
        "# Change the bar mode\n",
        "fig.update_traces(textfont_size=15)\n",
        "fig.update_layout(autosize=False,\n",
        "    width=1200,\n",
        "    height=800,\n",
        "    barmode='stack',\n",
        "    title=\"Profit breakdown (Revenue - Cost) of Top 10 most profitable routes\",\n",
        "    xaxis_title=\"(Carrier, Origin, Destination)\",\n",
        "    yaxis_title=\"Dollar value (in thousands)\")\n",
        "fig.show()"
      ],
      "execution_count": null,
      "outputs": [
        {
          "output_type": "display_data",
          "data": {
            "text/html": [
              "<html>\n",
              "<head><meta charset=\"utf-8\" /></head>\n",
              "<body>\n",
              "    <div>\n",
              "            <script src=\"https://cdnjs.cloudflare.com/ajax/libs/mathjax/2.7.5/MathJax.js?config=TeX-AMS-MML_SVG\"></script><script type=\"text/javascript\">if (window.MathJax) {MathJax.Hub.Config({SVG: {font: \"STIX-Web\"}});}</script>\n",
              "                <script type=\"text/javascript\">window.PlotlyConfig = {MathJaxConfig: 'local'};</script>\n",
              "        <script src=\"https://cdn.plot.ly/plotly-latest.min.js\"></script>    \n",
              "            <div id=\"fd762982-e85e-48bf-b4e0-2389bdb355c8\" class=\"plotly-graph-div\" style=\"height:800px; width:1200px;\"></div>\n",
              "            <script type=\"text/javascript\">\n",
              "                \n",
              "                    window.PLOTLYENV=window.PLOTLYENV || {};\n",
              "                    \n",
              "                if (document.getElementById(\"fd762982-e85e-48bf-b4e0-2389bdb355c8\")) {\n",
              "                    Plotly.newPlot(\n",
              "                        'fd762982-e85e-48bf-b4e0-2389bdb355c8',\n",
              "                        [{\"insidetextanchor\": \"start\", \"name\": \"Total Revenue\", \"text\": [443548.0, 436590.0, 326368.0, 357112.0, 315810.0, 305910.0, 236412.0, 247932.0, 274400.0, 262094.0], \"textfont\": {\"size\": 15}, \"textposition\": \"inside\", \"texttemplate\": \"Revenue-%{text:.4s}\", \"type\": \"bar\", \"x\": [\"('AA', 'EGE', 'JFK')\", \"('UA', 'HNL', 'GUM')\", \"('OO', 'DEN', 'DAY')\", \"('AA', 'KOA', 'DFW')\", \"('UA', 'GUM', 'HNL')\", \"('UA', 'OGG', 'ORD')\", \"('OH', 'CLT', 'RDU')\", \"('AS', 'ANC', 'ADK')\", \"('UA', 'DEN', 'ANC')\", \"('AA', 'BHM', 'SJC')\"], \"y\": [443548.0, 436590.0, 326368.0, 357112.0, 315810.0, 305910.0, 236412.0, 247932.0, 274400.0, 262094.0]}, {\"name\": \"Total Cost\", \"text\": [-47056.56, -89786.36, -39920.6, -83372.64, -89786.36, -91818.24, -22386.8, -36885.119999999995, -64155.8, -58786.4], \"textfont\": {\"color\": \"white\", \"family\": \"sans serif\", \"size\": 15}, \"textposition\": \"inside\", \"texttemplate\": \"Cost:%{text:.4s}\", \"type\": \"bar\", \"x\": [\"('AA', 'EGE', 'JFK')\", \"('UA', 'HNL', 'GUM')\", \"('OO', 'DEN', 'DAY')\", \"('AA', 'KOA', 'DFW')\", \"('UA', 'GUM', 'HNL')\", \"('UA', 'OGG', 'ORD')\", \"('OH', 'CLT', 'RDU')\", \"('AS', 'ANC', 'ADK')\", \"('UA', 'DEN', 'ANC')\", \"('AA', 'BHM', 'SJC')\"], \"y\": [-47056.56, -89786.36, -39920.6, -83372.64, -89786.36, -91818.24, -22386.8, -36885.119999999995, -64155.8, -58786.4]}, {\"marker\": {\"color\": \"LightSkyBlue\", \"line\": {\"color\": \"MediumPurple\", \"width\": 1}, \"size\": 10}, \"mode\": \"markers+text\", \"name\": \"Gross Profit\", \"text\": [396491.44, 346803.64, 286447.4, 273739.36, 226023.64, 214091.76, 214025.2, 211046.88, 210244.2, 203307.6], \"textfont\": {\"color\": \"black\", \"family\": \"sans serif\", \"size\": 15}, \"textposition\": \"bottom center\", \"texttemplate\": \"%{text:.4s}\", \"type\": \"scatter\", \"x\": [\"('AA', 'EGE', 'JFK')\", \"('UA', 'HNL', 'GUM')\", \"('OO', 'DEN', 'DAY')\", \"('AA', 'KOA', 'DFW')\", \"('UA', 'GUM', 'HNL')\", \"('UA', 'OGG', 'ORD')\", \"('OH', 'CLT', 'RDU')\", \"('AS', 'ANC', 'ADK')\", \"('UA', 'DEN', 'ANC')\", \"('AA', 'BHM', 'SJC')\"], \"y\": [396491.44, 346803.64, 286447.4, 273739.36, 226023.64, 214091.76, 214025.2, 211046.88, 210244.2, 203307.6]}],\n",
              "                        {\"autosize\": false, \"barmode\": \"stack\", \"height\": 800, \"template\": {\"data\": {\"bar\": [{\"error_x\": {\"color\": \"#2a3f5f\"}, \"error_y\": {\"color\": \"#2a3f5f\"}, \"marker\": {\"line\": {\"color\": \"#E5ECF6\", \"width\": 0.5}}, \"type\": \"bar\"}], \"barpolar\": [{\"marker\": {\"line\": {\"color\": \"#E5ECF6\", \"width\": 0.5}}, \"type\": \"barpolar\"}], \"carpet\": [{\"aaxis\": {\"endlinecolor\": \"#2a3f5f\", \"gridcolor\": \"white\", \"linecolor\": \"white\", \"minorgridcolor\": \"white\", \"startlinecolor\": \"#2a3f5f\"}, \"baxis\": {\"endlinecolor\": \"#2a3f5f\", \"gridcolor\": \"white\", \"linecolor\": \"white\", \"minorgridcolor\": \"white\", \"startlinecolor\": \"#2a3f5f\"}, \"type\": \"carpet\"}], \"choropleth\": [{\"colorbar\": {\"outlinewidth\": 0, \"ticks\": \"\"}, \"type\": \"choropleth\"}], \"contour\": [{\"colorbar\": {\"outlinewidth\": 0, \"ticks\": \"\"}, \"colorscale\": [[0.0, \"#0d0887\"], [0.1111111111111111, \"#46039f\"], [0.2222222222222222, \"#7201a8\"], [0.3333333333333333, \"#9c179e\"], [0.4444444444444444, \"#bd3786\"], [0.5555555555555556, \"#d8576b\"], [0.6666666666666666, \"#ed7953\"], [0.7777777777777778, \"#fb9f3a\"], [0.8888888888888888, \"#fdca26\"], [1.0, \"#f0f921\"]], \"type\": \"contour\"}], \"contourcarpet\": [{\"colorbar\": {\"outlinewidth\": 0, \"ticks\": \"\"}, \"type\": \"contourcarpet\"}], \"heatmap\": [{\"colorbar\": {\"outlinewidth\": 0, \"ticks\": \"\"}, \"colorscale\": [[0.0, \"#0d0887\"], [0.1111111111111111, \"#46039f\"], [0.2222222222222222, \"#7201a8\"], [0.3333333333333333, \"#9c179e\"], [0.4444444444444444, \"#bd3786\"], [0.5555555555555556, \"#d8576b\"], [0.6666666666666666, \"#ed7953\"], [0.7777777777777778, \"#fb9f3a\"], [0.8888888888888888, \"#fdca26\"], [1.0, \"#f0f921\"]], \"type\": \"heatmap\"}], \"heatmapgl\": [{\"colorbar\": {\"outlinewidth\": 0, \"ticks\": \"\"}, \"colorscale\": [[0.0, \"#0d0887\"], [0.1111111111111111, \"#46039f\"], [0.2222222222222222, \"#7201a8\"], [0.3333333333333333, \"#9c179e\"], [0.4444444444444444, \"#bd3786\"], [0.5555555555555556, \"#d8576b\"], [0.6666666666666666, \"#ed7953\"], [0.7777777777777778, \"#fb9f3a\"], [0.8888888888888888, \"#fdca26\"], [1.0, \"#f0f921\"]], \"type\": \"heatmapgl\"}], \"histogram\": [{\"marker\": {\"colorbar\": {\"outlinewidth\": 0, \"ticks\": \"\"}}, \"type\": \"histogram\"}], \"histogram2d\": [{\"colorbar\": {\"outlinewidth\": 0, \"ticks\": \"\"}, \"colorscale\": [[0.0, \"#0d0887\"], [0.1111111111111111, \"#46039f\"], [0.2222222222222222, \"#7201a8\"], [0.3333333333333333, \"#9c179e\"], [0.4444444444444444, \"#bd3786\"], [0.5555555555555556, \"#d8576b\"], [0.6666666666666666, \"#ed7953\"], [0.7777777777777778, \"#fb9f3a\"], [0.8888888888888888, \"#fdca26\"], [1.0, \"#f0f921\"]], \"type\": \"histogram2d\"}], \"histogram2dcontour\": [{\"colorbar\": {\"outlinewidth\": 0, \"ticks\": \"\"}, \"colorscale\": [[0.0, \"#0d0887\"], [0.1111111111111111, \"#46039f\"], [0.2222222222222222, \"#7201a8\"], [0.3333333333333333, \"#9c179e\"], [0.4444444444444444, \"#bd3786\"], [0.5555555555555556, \"#d8576b\"], [0.6666666666666666, \"#ed7953\"], [0.7777777777777778, \"#fb9f3a\"], [0.8888888888888888, \"#fdca26\"], [1.0, \"#f0f921\"]], \"type\": \"histogram2dcontour\"}], \"mesh3d\": [{\"colorbar\": {\"outlinewidth\": 0, \"ticks\": \"\"}, \"type\": \"mesh3d\"}], \"parcoords\": [{\"line\": {\"colorbar\": {\"outlinewidth\": 0, \"ticks\": \"\"}}, \"type\": \"parcoords\"}], \"pie\": [{\"automargin\": true, \"type\": \"pie\"}], \"scatter\": [{\"marker\": {\"colorbar\": {\"outlinewidth\": 0, \"ticks\": \"\"}}, \"type\": \"scatter\"}], \"scatter3d\": [{\"line\": {\"colorbar\": {\"outlinewidth\": 0, \"ticks\": \"\"}}, \"marker\": {\"colorbar\": {\"outlinewidth\": 0, \"ticks\": \"\"}}, \"type\": \"scatter3d\"}], \"scattercarpet\": [{\"marker\": {\"colorbar\": {\"outlinewidth\": 0, \"ticks\": \"\"}}, \"type\": \"scattercarpet\"}], \"scattergeo\": [{\"marker\": {\"colorbar\": {\"outlinewidth\": 0, \"ticks\": \"\"}}, \"type\": \"scattergeo\"}], \"scattergl\": [{\"marker\": {\"colorbar\": {\"outlinewidth\": 0, \"ticks\": \"\"}}, \"type\": \"scattergl\"}], \"scattermapbox\": [{\"marker\": {\"colorbar\": {\"outlinewidth\": 0, \"ticks\": \"\"}}, \"type\": \"scattermapbox\"}], \"scatterpolar\": [{\"marker\": {\"colorbar\": {\"outlinewidth\": 0, \"ticks\": \"\"}}, \"type\": \"scatterpolar\"}], \"scatterpolargl\": [{\"marker\": {\"colorbar\": {\"outlinewidth\": 0, \"ticks\": \"\"}}, \"type\": \"scatterpolargl\"}], \"scatterternary\": [{\"marker\": {\"colorbar\": {\"outlinewidth\": 0, \"ticks\": \"\"}}, \"type\": \"scatterternary\"}], \"surface\": [{\"colorbar\": {\"outlinewidth\": 0, \"ticks\": \"\"}, \"colorscale\": [[0.0, \"#0d0887\"], [0.1111111111111111, \"#46039f\"], [0.2222222222222222, \"#7201a8\"], [0.3333333333333333, \"#9c179e\"], [0.4444444444444444, \"#bd3786\"], [0.5555555555555556, \"#d8576b\"], [0.6666666666666666, \"#ed7953\"], [0.7777777777777778, \"#fb9f3a\"], [0.8888888888888888, \"#fdca26\"], [1.0, \"#f0f921\"]], \"type\": \"surface\"}], \"table\": [{\"cells\": {\"fill\": {\"color\": \"#EBF0F8\"}, \"line\": {\"color\": \"white\"}}, \"header\": {\"fill\": {\"color\": \"#C8D4E3\"}, \"line\": {\"color\": \"white\"}}, \"type\": \"table\"}]}, \"layout\": {\"annotationdefaults\": {\"arrowcolor\": \"#2a3f5f\", \"arrowhead\": 0, \"arrowwidth\": 1}, \"coloraxis\": {\"colorbar\": {\"outlinewidth\": 0, \"ticks\": \"\"}}, \"colorscale\": {\"diverging\": [[0, \"#8e0152\"], [0.1, \"#c51b7d\"], [0.2, \"#de77ae\"], [0.3, \"#f1b6da\"], [0.4, \"#fde0ef\"], [0.5, \"#f7f7f7\"], [0.6, \"#e6f5d0\"], [0.7, \"#b8e186\"], [0.8, \"#7fbc41\"], [0.9, \"#4d9221\"], [1, \"#276419\"]], \"sequential\": [[0.0, \"#0d0887\"], [0.1111111111111111, \"#46039f\"], [0.2222222222222222, \"#7201a8\"], [0.3333333333333333, \"#9c179e\"], [0.4444444444444444, \"#bd3786\"], [0.5555555555555556, \"#d8576b\"], [0.6666666666666666, \"#ed7953\"], [0.7777777777777778, \"#fb9f3a\"], [0.8888888888888888, \"#fdca26\"], [1.0, \"#f0f921\"]], \"sequentialminus\": [[0.0, \"#0d0887\"], [0.1111111111111111, \"#46039f\"], [0.2222222222222222, \"#7201a8\"], [0.3333333333333333, \"#9c179e\"], [0.4444444444444444, \"#bd3786\"], [0.5555555555555556, \"#d8576b\"], [0.6666666666666666, \"#ed7953\"], [0.7777777777777778, \"#fb9f3a\"], [0.8888888888888888, \"#fdca26\"], [1.0, \"#f0f921\"]]}, \"colorway\": [\"#636efa\", \"#EF553B\", \"#00cc96\", \"#ab63fa\", \"#FFA15A\", \"#19d3f3\", \"#FF6692\", \"#B6E880\", \"#FF97FF\", \"#FECB52\"], \"font\": {\"color\": \"#2a3f5f\"}, \"geo\": {\"bgcolor\": \"white\", \"lakecolor\": \"white\", \"landcolor\": \"#E5ECF6\", \"showlakes\": true, \"showland\": true, \"subunitcolor\": \"white\"}, \"hoverlabel\": {\"align\": \"left\"}, \"hovermode\": \"closest\", \"mapbox\": {\"style\": \"light\"}, \"paper_bgcolor\": \"white\", \"plot_bgcolor\": \"#E5ECF6\", \"polar\": {\"angularaxis\": {\"gridcolor\": \"white\", \"linecolor\": \"white\", \"ticks\": \"\"}, \"bgcolor\": \"#E5ECF6\", \"radialaxis\": {\"gridcolor\": \"white\", \"linecolor\": \"white\", \"ticks\": \"\"}}, \"scene\": {\"xaxis\": {\"backgroundcolor\": \"#E5ECF6\", \"gridcolor\": \"white\", \"gridwidth\": 2, \"linecolor\": \"white\", \"showbackground\": true, \"ticks\": \"\", \"zerolinecolor\": \"white\"}, \"yaxis\": {\"backgroundcolor\": \"#E5ECF6\", \"gridcolor\": \"white\", \"gridwidth\": 2, \"linecolor\": \"white\", \"showbackground\": true, \"ticks\": \"\", \"zerolinecolor\": \"white\"}, \"zaxis\": {\"backgroundcolor\": \"#E5ECF6\", \"gridcolor\": \"white\", \"gridwidth\": 2, \"linecolor\": \"white\", \"showbackground\": true, \"ticks\": \"\", \"zerolinecolor\": \"white\"}}, \"shapedefaults\": {\"line\": {\"color\": \"#2a3f5f\"}}, \"ternary\": {\"aaxis\": {\"gridcolor\": \"white\", \"linecolor\": \"white\", \"ticks\": \"\"}, \"baxis\": {\"gridcolor\": \"white\", \"linecolor\": \"white\", \"ticks\": \"\"}, \"bgcolor\": \"#E5ECF6\", \"caxis\": {\"gridcolor\": \"white\", \"linecolor\": \"white\", \"ticks\": \"\"}}, \"title\": {\"x\": 0.05}, \"xaxis\": {\"automargin\": true, \"gridcolor\": \"white\", \"linecolor\": \"white\", \"ticks\": \"\", \"title\": {\"standoff\": 15}, \"zerolinecolor\": \"white\", \"zerolinewidth\": 2}, \"yaxis\": {\"automargin\": true, \"gridcolor\": \"white\", \"linecolor\": \"white\", \"ticks\": \"\", \"title\": {\"standoff\": 15}, \"zerolinecolor\": \"white\", \"zerolinewidth\": 2}}}, \"title\": {\"text\": \"Profit breakdown (Revenue - Cost) of Top 10 most profitable routes\"}, \"width\": 1200, \"xaxis\": {\"title\": {\"text\": \"(Carrier, Origin, Destination)\"}}, \"yaxis\": {\"title\": {\"text\": \"Dollar value (in thousands)\"}}},\n",
              "                        {\"responsive\": true}\n",
              "                    ).then(function(){\n",
              "                            \n",
              "var gd = document.getElementById('fd762982-e85e-48bf-b4e0-2389bdb355c8');\n",
              "var x = new MutationObserver(function (mutations, observer) {{\n",
              "        var display = window.getComputedStyle(gd).display;\n",
              "        if (!display || display === 'none') {{\n",
              "            console.log([gd, 'removed!']);\n",
              "            Plotly.purge(gd);\n",
              "            observer.disconnect();\n",
              "        }}\n",
              "}});\n",
              "\n",
              "// Listen for the removal of the full notebook cells\n",
              "var notebookContainer = gd.closest('#notebook-container');\n",
              "if (notebookContainer) {{\n",
              "    x.observe(notebookContainer, {childList: true});\n",
              "}}\n",
              "\n",
              "// Listen for the clearing of the current output cell\n",
              "var outputEl = gd.closest('.output');\n",
              "if (outputEl) {{\n",
              "    x.observe(outputEl, {childList: true});\n",
              "}}\n",
              "\n",
              "                        })\n",
              "                };\n",
              "                \n",
              "            </script>\n",
              "        </div>\n",
              "</body>\n",
              "</html>"
            ]
          },
          "metadata": {}
        }
      ]
    },
    {
      "cell_type": "markdown",
      "metadata": {
        "id": "NgQCQSINkv-W"
      },
      "source": [
        "The routes shown in the graph above shows the top 10 most profitable routes in terms of the profit calculated as (revenue-cost).\n",
        "\n",
        "- United Airlines and American Airlines surely has the most profitable routes. (They also have a very diversified fare as seen above in EDA)\n",
        "- While the routes EGE $\\rightarrow$ JFK, CLT $\\rightarrow$ RDU, DEN $\\rightarrow$ DAY or ANC $\\rightarrow$ ADK has lower costs, others like HNL $\\rightarrow$ GUM or KOA $\\rightarrow$ DFW have higher costs. \n",
        "- Now, all factors shall be considered to decide the best profitable routes:\n",
        "  - For route EGE $\\rightarrow$ JFK, the profits are higher, with lower air time and distances, which reduces costs. Also, occupancy rate is higher which increases revenue. \n",
        "  - Therefore, considering only profit values, the most important factors can be said to be:\n",
        "    - Fare\n",
        "    - Distance\n",
        "    - Air time\n",
        "    - Occupancy rate "
      ]
    },
    {
      "cell_type": "markdown",
      "metadata": {
        "id": "vpufu1-BESP1"
      },
      "source": [
        "## **The 5 round trip routes that I would recommend to invest in based on the factors chosen above**"
      ]
    },
    {
      "cell_type": "markdown",
      "metadata": {
        "id": "KXQ0b-SU0KB_"
      },
      "source": [
        "#### **Case 1**"
      ]
    },
    {
      "cell_type": "markdown",
      "metadata": {
        "id": "49mejk1uZ7uK"
      },
      "source": [
        "Assumption: \n",
        "\n",
        "Number of Roundtrips per day = Total Round Trip routes/Number of Days in a Quarter(90days)"
      ]
    },
    {
      "cell_type": "code",
      "metadata": {
        "colab": {
          "base_uri": "https://localhost:8080/",
          "height": 202
        },
        "id": "Kyog8n12ibWf",
        "outputId": "fd1564ce-2184-4ca5-de24-af124fa7e323"
      },
      "source": [
        "key_comps[\"RoundTrips_perday\"] = key_comps[\"busiest_roundTrips\"]/90\n",
        "top5_case1 = key_comps.sort_values([\"profit\",\"RoundTrips_perday\"],ascending=(False, False)).head(5)[[\"OP_CARRIER\", \"ORIGIN\", \"DESTINATION\",\"ITIN_FARE\",\"total_revenue\",\"total_cost\",\"RoundTrips_perday\",\"profit\",\"busiest_roundTrips\", \"breakEvenNumber\",\"avgDailyTrip\"]]\n",
        "top5_case1[\"Suggestedroundtrips\"] = [2,1,3,1,1]   # considering air_time: air_time around 2hrs => 3 trips and air_time about 3-4 or more hours => 2 trips, air_time > 4 hours => 1 trip\n",
        "top5_case1[\"DaysToBreakEven\"]=top5_case1[\"breakEvenNumber\"]/top5_case1[\"Suggestedroundtrips\"]\n",
        "top5_case1"
      ],
      "execution_count": null,
      "outputs": [
        {
          "output_type": "execute_result",
          "data": {
            "text/html": [
              "<div>\n",
              "<style scoped>\n",
              "    .dataframe tbody tr th:only-of-type {\n",
              "        vertical-align: middle;\n",
              "    }\n",
              "\n",
              "    .dataframe tbody tr th {\n",
              "        vertical-align: top;\n",
              "    }\n",
              "\n",
              "    .dataframe thead th {\n",
              "        text-align: right;\n",
              "    }\n",
              "</style>\n",
              "<table border=\"1\" class=\"dataframe\">\n",
              "  <thead>\n",
              "    <tr style=\"text-align: right;\">\n",
              "      <th></th>\n",
              "      <th>OP_CARRIER</th>\n",
              "      <th>ORIGIN</th>\n",
              "      <th>DESTINATION</th>\n",
              "      <th>ITIN_FARE</th>\n",
              "      <th>total_revenue</th>\n",
              "      <th>total_cost</th>\n",
              "      <th>RoundTrips_perday</th>\n",
              "      <th>profit</th>\n",
              "      <th>busiest_roundTrips</th>\n",
              "      <th>breakEvenNumber</th>\n",
              "      <th>avgDailyTrip</th>\n",
              "      <th>Suggestedroundtrips</th>\n",
              "      <th>DaysToBreakEven</th>\n",
              "    </tr>\n",
              "  </thead>\n",
              "  <tbody>\n",
              "    <tr>\n",
              "      <th>0</th>\n",
              "      <td>AA</td>\n",
              "      <td>EGE</td>\n",
              "      <td>JFK</td>\n",
              "      <td>2228.0</td>\n",
              "      <td>443548.0</td>\n",
              "      <td>47056.56</td>\n",
              "      <td>0.633333</td>\n",
              "      <td>396491.44</td>\n",
              "      <td>57</td>\n",
              "      <td>226.991029</td>\n",
              "      <td>1.00000</td>\n",
              "      <td>2</td>\n",
              "      <td>113.495515</td>\n",
              "    </tr>\n",
              "    <tr>\n",
              "      <th>1</th>\n",
              "      <td>UA</td>\n",
              "      <td>HNL</td>\n",
              "      <td>GUM</td>\n",
              "      <td>2170.0</td>\n",
              "      <td>436590.0</td>\n",
              "      <td>89786.36</td>\n",
              "      <td>0.977778</td>\n",
              "      <td>346803.64</td>\n",
              "      <td>88</td>\n",
              "      <td>259.512847</td>\n",
              "      <td>1.00000</td>\n",
              "      <td>1</td>\n",
              "      <td>259.512847</td>\n",
              "    </tr>\n",
              "    <tr>\n",
              "      <th>2</th>\n",
              "      <td>OO</td>\n",
              "      <td>DEN</td>\n",
              "      <td>DAY</td>\n",
              "      <td>1701.0</td>\n",
              "      <td>326368.0</td>\n",
              "      <td>39920.60</td>\n",
              "      <td>1.877778</td>\n",
              "      <td>286447.40</td>\n",
              "      <td>169</td>\n",
              "      <td>314.193810</td>\n",
              "      <td>1.06962</td>\n",
              "      <td>3</td>\n",
              "      <td>104.731270</td>\n",
              "    </tr>\n",
              "    <tr>\n",
              "      <th>3</th>\n",
              "      <td>AA</td>\n",
              "      <td>KOA</td>\n",
              "      <td>DFW</td>\n",
              "      <td>1787.0</td>\n",
              "      <td>357112.0</td>\n",
              "      <td>83372.64</td>\n",
              "      <td>0.488889</td>\n",
              "      <td>273739.36</td>\n",
              "      <td>44</td>\n",
              "      <td>328.779902</td>\n",
              "      <td>1.00000</td>\n",
              "      <td>1</td>\n",
              "      <td>328.779902</td>\n",
              "    </tr>\n",
              "    <tr>\n",
              "      <th>4</th>\n",
              "      <td>UA</td>\n",
              "      <td>GUM</td>\n",
              "      <td>HNL</td>\n",
              "      <td>1560.0</td>\n",
              "      <td>315810.0</td>\n",
              "      <td>89786.36</td>\n",
              "      <td>0.988889</td>\n",
              "      <td>226023.64</td>\n",
              "      <td>89</td>\n",
              "      <td>398.188437</td>\n",
              "      <td>1.00000</td>\n",
              "      <td>1</td>\n",
              "      <td>398.188437</td>\n",
              "    </tr>\n",
              "  </tbody>\n",
              "</table>\n",
              "</div>"
            ],
            "text/plain": [
              "  OP_CARRIER ORIGIN  ... Suggestedroundtrips  DaysToBreakEven\n",
              "0         AA    EGE  ...                   2       113.495515\n",
              "1         UA    HNL  ...                   1       259.512847\n",
              "2         OO    DEN  ...                   3       104.731270\n",
              "3         AA    KOA  ...                   1       328.779902\n",
              "4         UA    GUM  ...                   1       398.188437\n",
              "\n",
              "[5 rows x 13 columns]"
            ]
          },
          "metadata": {},
          "execution_count": 96
        }
      ]
    },
    {
      "cell_type": "code",
      "metadata": {
        "colab": {
          "base_uri": "https://localhost:8080/",
          "height": 816
        },
        "id": "nf-oohPJL0j8",
        "outputId": "49c310c8-6f62-4aa7-b499-5b7085ec2a82"
      },
      "source": [
        "fig = go.Figure(data=[\n",
        "    go.Bar(name='Total Revenue', \n",
        "           x = [str(tup) for tup in zip(top5_case1[\"OP_CARRIER\"],top5_case1[\"ORIGIN\"],top5_case1[\"DESTINATION\"])], \n",
        "           y = top5_case1[\"total_revenue\"],\n",
        "           text = top5_case1[\"total_revenue\"],\n",
        "           textposition=\"inside\",\n",
        "           insidetextanchor=\"start\",\n",
        "           texttemplate='Revenue-%{text:.4s}'),\n",
        "\n",
        "    go.Bar(name='Total Cost', \n",
        "           x=[str(tup) for tup in zip(top5_case1[\"OP_CARRIER\"],top5_case1[\"ORIGIN\"],top5_case1[\"DESTINATION\"])], \n",
        "           y=top5_case1[\"total_cost\"]*-1,\n",
        "           text=top5_case1[\"total_cost\"]*-1,\n",
        "           textposition=\"inside\",\n",
        "           texttemplate='Cost:%{text:.4s}',\n",
        "           textfont=dict(\n",
        "        family=\"sans serif\",\n",
        "        size=24,\n",
        "        color=\"white\"\n",
        "    )),\n",
        "])\n",
        "fig.add_trace(\n",
        "    go.Scatter(\n",
        "        x=[str(tup) for tup in zip(top5_case1[\"OP_CARRIER\"],top5_case1[\"ORIGIN\"],top5_case1[\"DESTINATION\"])],\n",
        "        y=top5_case1[\"profit\"],\n",
        "        mode=\"markers+text\",\n",
        "        name=\"Gross Profit\",\n",
        "        text=top5_case1[\"profit\"],\n",
        "        textposition=\"bottom center\",\n",
        "        texttemplate='%{text:.4s}',\n",
        "        textfont=dict(family=\"sans serif\",\n",
        "                      size=20,\n",
        "                      color=\"black\"),\n",
        "        marker=dict(color='LightSkyBlue',\n",
        "                    size=10,\n",
        "                    line=dict(\n",
        "                        color='MediumPurple',\n",
        "                        width=1)\n",
        "                    )\n",
        "    ))\n",
        "# Change the bar mode\n",
        "fig.update_traces(textfont_size=15)\n",
        "fig.update_layout(autosize=False,\n",
        "    width=1000,\n",
        "    height=800,\n",
        "    barmode='stack',\n",
        "    title=\"Profit breakdown (Revenue - Cost) of Top 5 most profitable routes\",\n",
        "    xaxis_title=\"(Carrier, Origin, Destination)\",\n",
        "    yaxis_title=\"Dollar value (in thousands)\")\n",
        "fig.show()"
      ],
      "execution_count": null,
      "outputs": [
        {
          "output_type": "display_data",
          "data": {
            "text/html": [
              "<html>\n",
              "<head><meta charset=\"utf-8\" /></head>\n",
              "<body>\n",
              "    <div>\n",
              "            <script src=\"https://cdnjs.cloudflare.com/ajax/libs/mathjax/2.7.5/MathJax.js?config=TeX-AMS-MML_SVG\"></script><script type=\"text/javascript\">if (window.MathJax) {MathJax.Hub.Config({SVG: {font: \"STIX-Web\"}});}</script>\n",
              "                <script type=\"text/javascript\">window.PlotlyConfig = {MathJaxConfig: 'local'};</script>\n",
              "        <script src=\"https://cdn.plot.ly/plotly-latest.min.js\"></script>    \n",
              "            <div id=\"d5c1088f-1c47-4f26-ba3f-bc819f2dee32\" class=\"plotly-graph-div\" style=\"height:800px; width:1000px;\"></div>\n",
              "            <script type=\"text/javascript\">\n",
              "                \n",
              "                    window.PLOTLYENV=window.PLOTLYENV || {};\n",
              "                    \n",
              "                if (document.getElementById(\"d5c1088f-1c47-4f26-ba3f-bc819f2dee32\")) {\n",
              "                    Plotly.newPlot(\n",
              "                        'd5c1088f-1c47-4f26-ba3f-bc819f2dee32',\n",
              "                        [{\"insidetextanchor\": \"start\", \"name\": \"Total Revenue\", \"text\": [443548.0, 436590.0, 326368.0, 357112.0, 315810.0], \"textfont\": {\"size\": 15}, \"textposition\": \"inside\", \"texttemplate\": \"Revenue-%{text:.4s}\", \"type\": \"bar\", \"x\": [\"('AA', 'EGE', 'JFK')\", \"('UA', 'HNL', 'GUM')\", \"('OO', 'DEN', 'DAY')\", \"('AA', 'KOA', 'DFW')\", \"('UA', 'GUM', 'HNL')\"], \"y\": [443548.0, 436590.0, 326368.0, 357112.0, 315810.0]}, {\"name\": \"Total Cost\", \"text\": [-47056.56, -89786.36, -39920.6, -83372.64, -89786.36], \"textfont\": {\"color\": \"white\", \"family\": \"sans serif\", \"size\": 15}, \"textposition\": \"inside\", \"texttemplate\": \"Cost:%{text:.4s}\", \"type\": \"bar\", \"x\": [\"('AA', 'EGE', 'JFK')\", \"('UA', 'HNL', 'GUM')\", \"('OO', 'DEN', 'DAY')\", \"('AA', 'KOA', 'DFW')\", \"('UA', 'GUM', 'HNL')\"], \"y\": [-47056.56, -89786.36, -39920.6, -83372.64, -89786.36]}, {\"marker\": {\"color\": \"LightSkyBlue\", \"line\": {\"color\": \"MediumPurple\", \"width\": 1}, \"size\": 10}, \"mode\": \"markers+text\", \"name\": \"Gross Profit\", \"text\": [396491.44, 346803.64, 286447.4, 273739.36, 226023.64], \"textfont\": {\"color\": \"black\", \"family\": \"sans serif\", \"size\": 15}, \"textposition\": \"bottom center\", \"texttemplate\": \"%{text:.4s}\", \"type\": \"scatter\", \"x\": [\"('AA', 'EGE', 'JFK')\", \"('UA', 'HNL', 'GUM')\", \"('OO', 'DEN', 'DAY')\", \"('AA', 'KOA', 'DFW')\", \"('UA', 'GUM', 'HNL')\"], \"y\": [396491.44, 346803.64, 286447.4, 273739.36, 226023.64]}],\n",
              "                        {\"autosize\": false, \"barmode\": \"stack\", \"height\": 800, \"template\": {\"data\": {\"bar\": [{\"error_x\": {\"color\": \"#2a3f5f\"}, \"error_y\": {\"color\": \"#2a3f5f\"}, \"marker\": {\"line\": {\"color\": \"#E5ECF6\", \"width\": 0.5}}, \"type\": \"bar\"}], \"barpolar\": [{\"marker\": {\"line\": {\"color\": \"#E5ECF6\", \"width\": 0.5}}, \"type\": \"barpolar\"}], \"carpet\": [{\"aaxis\": {\"endlinecolor\": \"#2a3f5f\", \"gridcolor\": \"white\", \"linecolor\": \"white\", \"minorgridcolor\": \"white\", \"startlinecolor\": \"#2a3f5f\"}, \"baxis\": {\"endlinecolor\": \"#2a3f5f\", \"gridcolor\": \"white\", \"linecolor\": \"white\", \"minorgridcolor\": \"white\", \"startlinecolor\": \"#2a3f5f\"}, \"type\": \"carpet\"}], \"choropleth\": [{\"colorbar\": {\"outlinewidth\": 0, \"ticks\": \"\"}, \"type\": \"choropleth\"}], \"contour\": [{\"colorbar\": {\"outlinewidth\": 0, \"ticks\": \"\"}, \"colorscale\": [[0.0, \"#0d0887\"], [0.1111111111111111, \"#46039f\"], [0.2222222222222222, \"#7201a8\"], [0.3333333333333333, \"#9c179e\"], [0.4444444444444444, \"#bd3786\"], [0.5555555555555556, \"#d8576b\"], [0.6666666666666666, \"#ed7953\"], [0.7777777777777778, \"#fb9f3a\"], [0.8888888888888888, \"#fdca26\"], [1.0, \"#f0f921\"]], \"type\": \"contour\"}], \"contourcarpet\": [{\"colorbar\": {\"outlinewidth\": 0, \"ticks\": \"\"}, \"type\": \"contourcarpet\"}], \"heatmap\": [{\"colorbar\": {\"outlinewidth\": 0, \"ticks\": \"\"}, \"colorscale\": [[0.0, \"#0d0887\"], [0.1111111111111111, \"#46039f\"], [0.2222222222222222, \"#7201a8\"], [0.3333333333333333, \"#9c179e\"], [0.4444444444444444, \"#bd3786\"], [0.5555555555555556, \"#d8576b\"], [0.6666666666666666, \"#ed7953\"], [0.7777777777777778, \"#fb9f3a\"], [0.8888888888888888, \"#fdca26\"], [1.0, \"#f0f921\"]], \"type\": \"heatmap\"}], \"heatmapgl\": [{\"colorbar\": {\"outlinewidth\": 0, \"ticks\": \"\"}, \"colorscale\": [[0.0, \"#0d0887\"], [0.1111111111111111, \"#46039f\"], [0.2222222222222222, \"#7201a8\"], [0.3333333333333333, \"#9c179e\"], [0.4444444444444444, \"#bd3786\"], [0.5555555555555556, \"#d8576b\"], [0.6666666666666666, \"#ed7953\"], [0.7777777777777778, \"#fb9f3a\"], [0.8888888888888888, \"#fdca26\"], [1.0, \"#f0f921\"]], \"type\": \"heatmapgl\"}], \"histogram\": [{\"marker\": {\"colorbar\": {\"outlinewidth\": 0, \"ticks\": \"\"}}, \"type\": \"histogram\"}], \"histogram2d\": [{\"colorbar\": {\"outlinewidth\": 0, \"ticks\": \"\"}, \"colorscale\": [[0.0, \"#0d0887\"], [0.1111111111111111, \"#46039f\"], [0.2222222222222222, \"#7201a8\"], [0.3333333333333333, \"#9c179e\"], [0.4444444444444444, \"#bd3786\"], [0.5555555555555556, \"#d8576b\"], [0.6666666666666666, \"#ed7953\"], [0.7777777777777778, \"#fb9f3a\"], [0.8888888888888888, \"#fdca26\"], [1.0, \"#f0f921\"]], \"type\": \"histogram2d\"}], \"histogram2dcontour\": [{\"colorbar\": {\"outlinewidth\": 0, \"ticks\": \"\"}, \"colorscale\": [[0.0, \"#0d0887\"], [0.1111111111111111, \"#46039f\"], [0.2222222222222222, \"#7201a8\"], [0.3333333333333333, \"#9c179e\"], [0.4444444444444444, \"#bd3786\"], [0.5555555555555556, \"#d8576b\"], [0.6666666666666666, \"#ed7953\"], [0.7777777777777778, \"#fb9f3a\"], [0.8888888888888888, \"#fdca26\"], [1.0, \"#f0f921\"]], \"type\": \"histogram2dcontour\"}], \"mesh3d\": [{\"colorbar\": {\"outlinewidth\": 0, \"ticks\": \"\"}, \"type\": \"mesh3d\"}], \"parcoords\": [{\"line\": {\"colorbar\": {\"outlinewidth\": 0, \"ticks\": \"\"}}, \"type\": \"parcoords\"}], \"pie\": [{\"automargin\": true, \"type\": \"pie\"}], \"scatter\": [{\"marker\": {\"colorbar\": {\"outlinewidth\": 0, \"ticks\": \"\"}}, \"type\": \"scatter\"}], \"scatter3d\": [{\"line\": {\"colorbar\": {\"outlinewidth\": 0, \"ticks\": \"\"}}, \"marker\": {\"colorbar\": {\"outlinewidth\": 0, \"ticks\": \"\"}}, \"type\": \"scatter3d\"}], \"scattercarpet\": [{\"marker\": {\"colorbar\": {\"outlinewidth\": 0, \"ticks\": \"\"}}, \"type\": \"scattercarpet\"}], \"scattergeo\": [{\"marker\": {\"colorbar\": {\"outlinewidth\": 0, \"ticks\": \"\"}}, \"type\": \"scattergeo\"}], \"scattergl\": [{\"marker\": {\"colorbar\": {\"outlinewidth\": 0, \"ticks\": \"\"}}, \"type\": \"scattergl\"}], \"scattermapbox\": [{\"marker\": {\"colorbar\": {\"outlinewidth\": 0, \"ticks\": \"\"}}, \"type\": \"scattermapbox\"}], \"scatterpolar\": [{\"marker\": {\"colorbar\": {\"outlinewidth\": 0, \"ticks\": \"\"}}, \"type\": \"scatterpolar\"}], \"scatterpolargl\": [{\"marker\": {\"colorbar\": {\"outlinewidth\": 0, \"ticks\": \"\"}}, \"type\": \"scatterpolargl\"}], \"scatterternary\": [{\"marker\": {\"colorbar\": {\"outlinewidth\": 0, \"ticks\": \"\"}}, \"type\": \"scatterternary\"}], \"surface\": [{\"colorbar\": {\"outlinewidth\": 0, \"ticks\": \"\"}, \"colorscale\": [[0.0, \"#0d0887\"], [0.1111111111111111, \"#46039f\"], [0.2222222222222222, \"#7201a8\"], [0.3333333333333333, \"#9c179e\"], [0.4444444444444444, \"#bd3786\"], [0.5555555555555556, \"#d8576b\"], [0.6666666666666666, \"#ed7953\"], [0.7777777777777778, \"#fb9f3a\"], [0.8888888888888888, \"#fdca26\"], [1.0, \"#f0f921\"]], \"type\": \"surface\"}], \"table\": [{\"cells\": {\"fill\": {\"color\": \"#EBF0F8\"}, \"line\": {\"color\": \"white\"}}, \"header\": {\"fill\": {\"color\": \"#C8D4E3\"}, \"line\": {\"color\": \"white\"}}, \"type\": \"table\"}]}, \"layout\": {\"annotationdefaults\": {\"arrowcolor\": \"#2a3f5f\", \"arrowhead\": 0, \"arrowwidth\": 1}, \"coloraxis\": {\"colorbar\": {\"outlinewidth\": 0, \"ticks\": \"\"}}, \"colorscale\": {\"diverging\": [[0, \"#8e0152\"], [0.1, \"#c51b7d\"], [0.2, \"#de77ae\"], [0.3, \"#f1b6da\"], [0.4, \"#fde0ef\"], [0.5, \"#f7f7f7\"], [0.6, \"#e6f5d0\"], [0.7, \"#b8e186\"], [0.8, \"#7fbc41\"], [0.9, \"#4d9221\"], [1, \"#276419\"]], \"sequential\": [[0.0, \"#0d0887\"], [0.1111111111111111, \"#46039f\"], [0.2222222222222222, \"#7201a8\"], [0.3333333333333333, \"#9c179e\"], [0.4444444444444444, \"#bd3786\"], [0.5555555555555556, \"#d8576b\"], [0.6666666666666666, \"#ed7953\"], [0.7777777777777778, \"#fb9f3a\"], [0.8888888888888888, \"#fdca26\"], [1.0, \"#f0f921\"]], \"sequentialminus\": [[0.0, \"#0d0887\"], [0.1111111111111111, \"#46039f\"], [0.2222222222222222, \"#7201a8\"], [0.3333333333333333, \"#9c179e\"], [0.4444444444444444, \"#bd3786\"], [0.5555555555555556, \"#d8576b\"], [0.6666666666666666, \"#ed7953\"], [0.7777777777777778, \"#fb9f3a\"], [0.8888888888888888, \"#fdca26\"], [1.0, \"#f0f921\"]]}, \"colorway\": [\"#636efa\", \"#EF553B\", \"#00cc96\", \"#ab63fa\", \"#FFA15A\", \"#19d3f3\", \"#FF6692\", \"#B6E880\", \"#FF97FF\", \"#FECB52\"], \"font\": {\"color\": \"#2a3f5f\"}, \"geo\": {\"bgcolor\": \"white\", \"lakecolor\": \"white\", \"landcolor\": \"#E5ECF6\", \"showlakes\": true, \"showland\": true, \"subunitcolor\": \"white\"}, \"hoverlabel\": {\"align\": \"left\"}, \"hovermode\": \"closest\", \"mapbox\": {\"style\": \"light\"}, \"paper_bgcolor\": \"white\", \"plot_bgcolor\": \"#E5ECF6\", \"polar\": {\"angularaxis\": {\"gridcolor\": \"white\", \"linecolor\": \"white\", \"ticks\": \"\"}, \"bgcolor\": \"#E5ECF6\", \"radialaxis\": {\"gridcolor\": \"white\", \"linecolor\": \"white\", \"ticks\": \"\"}}, \"scene\": {\"xaxis\": {\"backgroundcolor\": \"#E5ECF6\", \"gridcolor\": \"white\", \"gridwidth\": 2, \"linecolor\": \"white\", \"showbackground\": true, \"ticks\": \"\", \"zerolinecolor\": \"white\"}, \"yaxis\": {\"backgroundcolor\": \"#E5ECF6\", \"gridcolor\": \"white\", \"gridwidth\": 2, \"linecolor\": \"white\", \"showbackground\": true, \"ticks\": \"\", \"zerolinecolor\": \"white\"}, \"zaxis\": {\"backgroundcolor\": \"#E5ECF6\", \"gridcolor\": \"white\", \"gridwidth\": 2, \"linecolor\": \"white\", \"showbackground\": true, \"ticks\": \"\", \"zerolinecolor\": \"white\"}}, \"shapedefaults\": {\"line\": {\"color\": \"#2a3f5f\"}}, \"ternary\": {\"aaxis\": {\"gridcolor\": \"white\", \"linecolor\": \"white\", \"ticks\": \"\"}, \"baxis\": {\"gridcolor\": \"white\", \"linecolor\": \"white\", \"ticks\": \"\"}, \"bgcolor\": \"#E5ECF6\", \"caxis\": {\"gridcolor\": \"white\", \"linecolor\": \"white\", \"ticks\": \"\"}}, \"title\": {\"x\": 0.05}, \"xaxis\": {\"automargin\": true, \"gridcolor\": \"white\", \"linecolor\": \"white\", \"ticks\": \"\", \"title\": {\"standoff\": 15}, \"zerolinecolor\": \"white\", \"zerolinewidth\": 2}, \"yaxis\": {\"automargin\": true, \"gridcolor\": \"white\", \"linecolor\": \"white\", \"ticks\": \"\", \"title\": {\"standoff\": 15}, \"zerolinecolor\": \"white\", \"zerolinewidth\": 2}}}, \"title\": {\"text\": \"Profit breakdown (Revenue - Cost) of Top 5 most profitable routes\"}, \"width\": 1000, \"xaxis\": {\"title\": {\"text\": \"(Carrier, Origin, Destination)\"}}, \"yaxis\": {\"title\": {\"text\": \"Dollar value (in thousands)\"}}},\n",
              "                        {\"responsive\": true}\n",
              "                    ).then(function(){\n",
              "                            \n",
              "var gd = document.getElementById('d5c1088f-1c47-4f26-ba3f-bc819f2dee32');\n",
              "var x = new MutationObserver(function (mutations, observer) {{\n",
              "        var display = window.getComputedStyle(gd).display;\n",
              "        if (!display || display === 'none') {{\n",
              "            console.log([gd, 'removed!']);\n",
              "            Plotly.purge(gd);\n",
              "            observer.disconnect();\n",
              "        }}\n",
              "}});\n",
              "\n",
              "// Listen for the removal of the full notebook cells\n",
              "var notebookContainer = gd.closest('#notebook-container');\n",
              "if (notebookContainer) {{\n",
              "    x.observe(notebookContainer, {childList: true});\n",
              "}}\n",
              "\n",
              "// Listen for the clearing of the current output cell\n",
              "var outputEl = gd.closest('.output');\n",
              "if (outputEl) {{\n",
              "    x.observe(outputEl, {childList: true});\n",
              "}}\n",
              "\n",
              "                        })\n",
              "                };\n",
              "                \n",
              "            </script>\n",
              "        </div>\n",
              "</body>\n",
              "</html>"
            ]
          },
          "metadata": {}
        }
      ]
    },
    {
      "cell_type": "markdown",
      "metadata": {
        "id": "bbYmEkTFHeE0"
      },
      "source": [
        "From the plot above, the most profitable routes are :\n",
        "- EGE $\\rightarrow$ JFK\n",
        "- HNL $\\rightarrow$ GUM\n",
        "- DEN $\\rightarrow$ DAY\n",
        "- KOA $\\rightarrow$ DFW\n",
        "- GUM $\\rightarrow$ HNL\n",
        "\n",
        "Insights:<br>\n",
        "- Focus on lower number of round trips per day, as limited number of flights with higher occupancy rates from these location pairs will drive higher profit margins.\n",
        "- These routes have the highest profits mostly because they have higher fares. The high fare could be because of greater distances and air_time. So, if the airline company wishes to charge higher fares for these routes, they can possibly expect to achieve higher profits. \n",
        "\n",
        "Key factors focussed on:<br>\n",
        "- Higher Margin per Round Trip\n",
        "- Lower Number of trips per day to generate higher margin. (Less operational cost per route)\n",
        "\n",
        "\n",
        "In this case however, there could be other risks of choosing these routes, which shall be discussed further."
      ]
    },
    {
      "cell_type": "markdown",
      "metadata": {
        "id": "9J5w0EQdh4_3"
      },
      "source": [
        "#### **Case 2**"
      ]
    },
    {
      "cell_type": "markdown",
      "metadata": {
        "id": "u-eTG4HLjKYY"
      },
      "source": [
        "Assumptions:\n",
        "* Tail number and Flight Date is given in Flights Dataset.\n",
        "* Calculate Average RoundTrip done by a single plane on the given route per Day(identified based on Tail Number).\n",
        "* Calculated avgDailyTrips can help make assumption about how many trips a single plane is doing on the given route."
      ]
    },
    {
      "cell_type": "code",
      "metadata": {
        "colab": {
          "base_uri": "https://localhost:8080/",
          "height": 202
        },
        "id": "DWV1mz4Ih9zr",
        "outputId": "614fea9b-ab44-4305-d232-d7dfcb704047"
      },
      "source": [
        "key_comps['possible_trips/Quarter'] = key_comps[\"avgDailyTrip\"]*90\n",
        "key_comps[\"numberQuarterToBreakeven\"] = key_comps[\"breakEvenNumber\"]/key_comps[\"possible_trips/Quarter\"]\n",
        "key_comps = key_comps[key_comps[\"busiest_roundTrips\"]>key_comps[\"possible_trips/Quarter\"]]\n",
        "top5_case2 = key_comps.sort_values(\"numberQuarterToBreakeven\").head(5)\n",
        "top5_case2[[\"OP_CARRIER\",\"ORIGIN\",\"DESTINATION\",\"avgDailyTrip\",\"total_revenue\",\"total_cost\",\"profit\",\"busiest_roundTrips\",\"breakEvenNumber\",\"possible_trips/Quarter\",\"numberQuarterToBreakeven\"]]"
      ],
      "execution_count": null,
      "outputs": [
        {
          "output_type": "execute_result",
          "data": {
            "text/html": [
              "<div>\n",
              "<style scoped>\n",
              "    .dataframe tbody tr th:only-of-type {\n",
              "        vertical-align: middle;\n",
              "    }\n",
              "\n",
              "    .dataframe tbody tr th {\n",
              "        vertical-align: top;\n",
              "    }\n",
              "\n",
              "    .dataframe thead th {\n",
              "        text-align: right;\n",
              "    }\n",
              "</style>\n",
              "<table border=\"1\" class=\"dataframe\">\n",
              "  <thead>\n",
              "    <tr style=\"text-align: right;\">\n",
              "      <th></th>\n",
              "      <th>OP_CARRIER</th>\n",
              "      <th>ORIGIN</th>\n",
              "      <th>DESTINATION</th>\n",
              "      <th>avgDailyTrip</th>\n",
              "      <th>total_revenue</th>\n",
              "      <th>total_cost</th>\n",
              "      <th>profit</th>\n",
              "      <th>busiest_roundTrips</th>\n",
              "      <th>breakEvenNumber</th>\n",
              "      <th>possible_trips/Quarter</th>\n",
              "      <th>numberQuarterToBreakeven</th>\n",
              "    </tr>\n",
              "  </thead>\n",
              "  <tbody>\n",
              "    <tr>\n",
              "      <th>2</th>\n",
              "      <td>OO</td>\n",
              "      <td>DEN</td>\n",
              "      <td>DAY</td>\n",
              "      <td>1.069620</td>\n",
              "      <td>326368.0</td>\n",
              "      <td>39920.60</td>\n",
              "      <td>286447.40</td>\n",
              "      <td>169</td>\n",
              "      <td>314.193810</td>\n",
              "      <td>96.265823</td>\n",
              "      <td>3.263815</td>\n",
              "    </tr>\n",
              "    <tr>\n",
              "      <th>622</th>\n",
              "      <td>AA</td>\n",
              "      <td>DFW</td>\n",
              "      <td>BDL</td>\n",
              "      <td>2.788079</td>\n",
              "      <td>143550.0</td>\n",
              "      <td>47007.56</td>\n",
              "      <td>96542.44</td>\n",
              "      <td>421</td>\n",
              "      <td>932.232498</td>\n",
              "      <td>250.927152</td>\n",
              "      <td>3.715152</td>\n",
              "    </tr>\n",
              "    <tr>\n",
              "      <th>96</th>\n",
              "      <td>9E</td>\n",
              "      <td>MSP</td>\n",
              "      <td>CWA</td>\n",
              "      <td>1.948454</td>\n",
              "      <td>153900.0</td>\n",
              "      <td>18213.00</td>\n",
              "      <td>135687.00</td>\n",
              "      <td>189</td>\n",
              "      <td>663.291251</td>\n",
              "      <td>175.360825</td>\n",
              "      <td>3.782437</td>\n",
              "    </tr>\n",
              "    <tr>\n",
              "      <th>6</th>\n",
              "      <td>OH</td>\n",
              "      <td>CLT</td>\n",
              "      <td>RDU</td>\n",
              "      <td>1.072902</td>\n",
              "      <td>236412.0</td>\n",
              "      <td>22386.80</td>\n",
              "      <td>214025.20</td>\n",
              "      <td>780</td>\n",
              "      <td>420.511230</td>\n",
              "      <td>96.561210</td>\n",
              "      <td>4.354867</td>\n",
              "    </tr>\n",
              "    <tr>\n",
              "      <th>21</th>\n",
              "      <td>9E</td>\n",
              "      <td>EYW</td>\n",
              "      <td>ATL</td>\n",
              "      <td>1.231362</td>\n",
              "      <td>206910.0</td>\n",
              "      <td>26860.56</td>\n",
              "      <td>180049.44</td>\n",
              "      <td>479</td>\n",
              "      <td>499.862704</td>\n",
              "      <td>110.822622</td>\n",
              "      <td>4.510475</td>\n",
              "    </tr>\n",
              "  </tbody>\n",
              "</table>\n",
              "</div>"
            ],
            "text/plain": [
              "    OP_CARRIER ORIGIN  ... possible_trips/Quarter  numberQuarterToBreakeven\n",
              "2           OO    DEN  ...              96.265823                  3.263815\n",
              "622         AA    DFW  ...             250.927152                  3.715152\n",
              "96          9E    MSP  ...             175.360825                  3.782437\n",
              "6           OH    CLT  ...              96.561210                  4.354867\n",
              "21          9E    EYW  ...             110.822622                  4.510475\n",
              "\n",
              "[5 rows x 11 columns]"
            ]
          },
          "metadata": {},
          "execution_count": 98
        }
      ]
    },
    {
      "cell_type": "code",
      "metadata": {
        "colab": {
          "base_uri": "https://localhost:8080/",
          "height": 816
        },
        "id": "ya4R1UwTiKmC",
        "outputId": "5c287297-935c-4f33-d083-66505905e6bc"
      },
      "source": [
        "fig = go.Figure(data=[\n",
        "    go.Bar(name='Total Revenue', \n",
        "           x = [str(tup) for tup in zip(top5_case2[\"OP_CARRIER\"],top5_case2[\"ORIGIN\"],top5_case2[\"DESTINATION\"])], \n",
        "           y = top5_case2[\"total_revenue\"],\n",
        "           text = top5_case2[\"total_revenue\"],\n",
        "           textposition=\"inside\",\n",
        "           insidetextanchor=\"start\",\n",
        "           texttemplate='Revenue-%{text:.4s}'),\n",
        "\n",
        "    go.Bar(name='Total Cost', \n",
        "           x=[str(tup) for tup in zip(top5_case2[\"OP_CARRIER\"],top5_case2[\"ORIGIN\"],top5_case2[\"DESTINATION\"])], \n",
        "           y=top5_case2[\"total_cost\"]*-1,\n",
        "           text=top5_case2[\"total_cost\"]*-1,\n",
        "           textposition=\"inside\",\n",
        "           texttemplate='Cost:%{text:.4s}',\n",
        "           textfont=dict(\n",
        "        family=\"sans serif\",\n",
        "        size=24,\n",
        "        color=\"white\"\n",
        "    )),\n",
        "])\n",
        "fig.add_trace(\n",
        "    go.Scatter(\n",
        "        x=[str(tup) for tup in zip(top5_case2[\"OP_CARRIER\"],top5_case2[\"ORIGIN\"],top5_case2[\"DESTINATION\"])],\n",
        "        y=top5_case2[\"profit\"],\n",
        "        mode=\"markers+text\",\n",
        "        name=\"Gross Profit\",\n",
        "        text=top5_case2[\"profit\"],\n",
        "        textposition=\"bottom center\",\n",
        "        texttemplate='%{text:.4s}',\n",
        "        textfont=dict(family=\"sans serif\",\n",
        "                      size=20,\n",
        "                      color=\"black\"),\n",
        "        marker=dict(color='LightSkyBlue',\n",
        "                    size=10,\n",
        "                    line=dict(\n",
        "                        color='MediumPurple',\n",
        "                        width=1)\n",
        "                    )\n",
        "    ))\n",
        "# Change the bar mode\n",
        "fig.update_traces(textfont_size=15)\n",
        "fig.update_layout(autosize=False,\n",
        "    width=1000,\n",
        "    height=800,\n",
        "    barmode='stack',\n",
        "    title=\"Profit breakdown (Revenue - Cost) of Top 5 most profitable routes\",\n",
        "    xaxis_title=\"(Carrier, Origin, Destination)\",\n",
        "    yaxis_title=\"Dollar value (in thousands)\")\n",
        "fig.show()"
      ],
      "execution_count": null,
      "outputs": [
        {
          "output_type": "display_data",
          "data": {
            "text/html": [
              "<html>\n",
              "<head><meta charset=\"utf-8\" /></head>\n",
              "<body>\n",
              "    <div>\n",
              "            <script src=\"https://cdnjs.cloudflare.com/ajax/libs/mathjax/2.7.5/MathJax.js?config=TeX-AMS-MML_SVG\"></script><script type=\"text/javascript\">if (window.MathJax) {MathJax.Hub.Config({SVG: {font: \"STIX-Web\"}});}</script>\n",
              "                <script type=\"text/javascript\">window.PlotlyConfig = {MathJaxConfig: 'local'};</script>\n",
              "        <script src=\"https://cdn.plot.ly/plotly-latest.min.js\"></script>    \n",
              "            <div id=\"f432902c-9b2d-4b8e-8d26-14d7ef43e398\" class=\"plotly-graph-div\" style=\"height:800px; width:1000px;\"></div>\n",
              "            <script type=\"text/javascript\">\n",
              "                \n",
              "                    window.PLOTLYENV=window.PLOTLYENV || {};\n",
              "                    \n",
              "                if (document.getElementById(\"f432902c-9b2d-4b8e-8d26-14d7ef43e398\")) {\n",
              "                    Plotly.newPlot(\n",
              "                        'f432902c-9b2d-4b8e-8d26-14d7ef43e398',\n",
              "                        [{\"insidetextanchor\": \"start\", \"name\": \"Total Revenue\", \"text\": [326368.0, 143550.0, 153900.0, 236412.0, 206910.0], \"textfont\": {\"size\": 15}, \"textposition\": \"inside\", \"texttemplate\": \"Revenue-%{text:.4s}\", \"type\": \"bar\", \"x\": [\"('OO', 'DEN', 'DAY')\", \"('AA', 'DFW', 'BDL')\", \"('9E', 'MSP', 'CWA')\", \"('OH', 'CLT', 'RDU')\", \"('9E', 'EYW', 'ATL')\"], \"y\": [326368.0, 143550.0, 153900.0, 236412.0, 206910.0]}, {\"name\": \"Total Cost\", \"text\": [-39920.6, -47007.56, -18213.0, -22386.8, -26860.559999999998], \"textfont\": {\"color\": \"white\", \"family\": \"sans serif\", \"size\": 15}, \"textposition\": \"inside\", \"texttemplate\": \"Cost:%{text:.4s}\", \"type\": \"bar\", \"x\": [\"('OO', 'DEN', 'DAY')\", \"('AA', 'DFW', 'BDL')\", \"('9E', 'MSP', 'CWA')\", \"('OH', 'CLT', 'RDU')\", \"('9E', 'EYW', 'ATL')\"], \"y\": [-39920.6, -47007.56, -18213.0, -22386.8, -26860.559999999998]}, {\"marker\": {\"color\": \"LightSkyBlue\", \"line\": {\"color\": \"MediumPurple\", \"width\": 1}, \"size\": 10}, \"mode\": \"markers+text\", \"name\": \"Gross Profit\", \"text\": [286447.4, 96542.44, 135687.0, 214025.2, 180049.44], \"textfont\": {\"color\": \"black\", \"family\": \"sans serif\", \"size\": 15}, \"textposition\": \"bottom center\", \"texttemplate\": \"%{text:.4s}\", \"type\": \"scatter\", \"x\": [\"('OO', 'DEN', 'DAY')\", \"('AA', 'DFW', 'BDL')\", \"('9E', 'MSP', 'CWA')\", \"('OH', 'CLT', 'RDU')\", \"('9E', 'EYW', 'ATL')\"], \"y\": [286447.4, 96542.44, 135687.0, 214025.2, 180049.44]}],\n",
              "                        {\"autosize\": false, \"barmode\": \"stack\", \"height\": 800, \"template\": {\"data\": {\"bar\": [{\"error_x\": {\"color\": \"#2a3f5f\"}, \"error_y\": {\"color\": \"#2a3f5f\"}, \"marker\": {\"line\": {\"color\": \"#E5ECF6\", \"width\": 0.5}}, \"type\": \"bar\"}], \"barpolar\": [{\"marker\": {\"line\": {\"color\": \"#E5ECF6\", \"width\": 0.5}}, \"type\": \"barpolar\"}], \"carpet\": [{\"aaxis\": {\"endlinecolor\": \"#2a3f5f\", \"gridcolor\": \"white\", \"linecolor\": \"white\", \"minorgridcolor\": \"white\", \"startlinecolor\": \"#2a3f5f\"}, \"baxis\": {\"endlinecolor\": \"#2a3f5f\", \"gridcolor\": \"white\", \"linecolor\": \"white\", \"minorgridcolor\": \"white\", \"startlinecolor\": \"#2a3f5f\"}, \"type\": \"carpet\"}], \"choropleth\": [{\"colorbar\": {\"outlinewidth\": 0, \"ticks\": \"\"}, \"type\": \"choropleth\"}], \"contour\": [{\"colorbar\": {\"outlinewidth\": 0, \"ticks\": \"\"}, \"colorscale\": [[0.0, \"#0d0887\"], [0.1111111111111111, \"#46039f\"], [0.2222222222222222, \"#7201a8\"], [0.3333333333333333, \"#9c179e\"], [0.4444444444444444, \"#bd3786\"], [0.5555555555555556, \"#d8576b\"], [0.6666666666666666, \"#ed7953\"], [0.7777777777777778, \"#fb9f3a\"], [0.8888888888888888, \"#fdca26\"], [1.0, \"#f0f921\"]], \"type\": \"contour\"}], \"contourcarpet\": [{\"colorbar\": {\"outlinewidth\": 0, \"ticks\": \"\"}, \"type\": \"contourcarpet\"}], \"heatmap\": [{\"colorbar\": {\"outlinewidth\": 0, \"ticks\": \"\"}, \"colorscale\": [[0.0, \"#0d0887\"], [0.1111111111111111, \"#46039f\"], [0.2222222222222222, \"#7201a8\"], [0.3333333333333333, \"#9c179e\"], [0.4444444444444444, \"#bd3786\"], [0.5555555555555556, \"#d8576b\"], [0.6666666666666666, \"#ed7953\"], [0.7777777777777778, \"#fb9f3a\"], [0.8888888888888888, \"#fdca26\"], [1.0, \"#f0f921\"]], \"type\": \"heatmap\"}], \"heatmapgl\": [{\"colorbar\": {\"outlinewidth\": 0, \"ticks\": \"\"}, \"colorscale\": [[0.0, \"#0d0887\"], [0.1111111111111111, \"#46039f\"], [0.2222222222222222, \"#7201a8\"], [0.3333333333333333, \"#9c179e\"], [0.4444444444444444, \"#bd3786\"], [0.5555555555555556, \"#d8576b\"], [0.6666666666666666, \"#ed7953\"], [0.7777777777777778, \"#fb9f3a\"], [0.8888888888888888, \"#fdca26\"], [1.0, \"#f0f921\"]], \"type\": \"heatmapgl\"}], \"histogram\": [{\"marker\": {\"colorbar\": {\"outlinewidth\": 0, \"ticks\": \"\"}}, \"type\": \"histogram\"}], \"histogram2d\": [{\"colorbar\": {\"outlinewidth\": 0, \"ticks\": \"\"}, \"colorscale\": [[0.0, \"#0d0887\"], [0.1111111111111111, \"#46039f\"], [0.2222222222222222, \"#7201a8\"], [0.3333333333333333, \"#9c179e\"], [0.4444444444444444, \"#bd3786\"], [0.5555555555555556, \"#d8576b\"], [0.6666666666666666, \"#ed7953\"], [0.7777777777777778, \"#fb9f3a\"], [0.8888888888888888, \"#fdca26\"], [1.0, \"#f0f921\"]], \"type\": \"histogram2d\"}], \"histogram2dcontour\": [{\"colorbar\": {\"outlinewidth\": 0, \"ticks\": \"\"}, \"colorscale\": [[0.0, \"#0d0887\"], [0.1111111111111111, \"#46039f\"], [0.2222222222222222, \"#7201a8\"], [0.3333333333333333, \"#9c179e\"], [0.4444444444444444, \"#bd3786\"], [0.5555555555555556, \"#d8576b\"], [0.6666666666666666, \"#ed7953\"], [0.7777777777777778, \"#fb9f3a\"], [0.8888888888888888, \"#fdca26\"], [1.0, \"#f0f921\"]], \"type\": \"histogram2dcontour\"}], \"mesh3d\": [{\"colorbar\": {\"outlinewidth\": 0, \"ticks\": \"\"}, \"type\": \"mesh3d\"}], \"parcoords\": [{\"line\": {\"colorbar\": {\"outlinewidth\": 0, \"ticks\": \"\"}}, \"type\": \"parcoords\"}], \"pie\": [{\"automargin\": true, \"type\": \"pie\"}], \"scatter\": [{\"marker\": {\"colorbar\": {\"outlinewidth\": 0, \"ticks\": \"\"}}, \"type\": \"scatter\"}], \"scatter3d\": [{\"line\": {\"colorbar\": {\"outlinewidth\": 0, \"ticks\": \"\"}}, \"marker\": {\"colorbar\": {\"outlinewidth\": 0, \"ticks\": \"\"}}, \"type\": \"scatter3d\"}], \"scattercarpet\": [{\"marker\": {\"colorbar\": {\"outlinewidth\": 0, \"ticks\": \"\"}}, \"type\": \"scattercarpet\"}], \"scattergeo\": [{\"marker\": {\"colorbar\": {\"outlinewidth\": 0, \"ticks\": \"\"}}, \"type\": \"scattergeo\"}], \"scattergl\": [{\"marker\": {\"colorbar\": {\"outlinewidth\": 0, \"ticks\": \"\"}}, \"type\": \"scattergl\"}], \"scattermapbox\": [{\"marker\": {\"colorbar\": {\"outlinewidth\": 0, \"ticks\": \"\"}}, \"type\": \"scattermapbox\"}], \"scatterpolar\": [{\"marker\": {\"colorbar\": {\"outlinewidth\": 0, \"ticks\": \"\"}}, \"type\": \"scatterpolar\"}], \"scatterpolargl\": [{\"marker\": {\"colorbar\": {\"outlinewidth\": 0, \"ticks\": \"\"}}, \"type\": \"scatterpolargl\"}], \"scatterternary\": [{\"marker\": {\"colorbar\": {\"outlinewidth\": 0, \"ticks\": \"\"}}, \"type\": \"scatterternary\"}], \"surface\": [{\"colorbar\": {\"outlinewidth\": 0, \"ticks\": \"\"}, \"colorscale\": [[0.0, \"#0d0887\"], [0.1111111111111111, \"#46039f\"], [0.2222222222222222, \"#7201a8\"], [0.3333333333333333, \"#9c179e\"], [0.4444444444444444, \"#bd3786\"], [0.5555555555555556, \"#d8576b\"], [0.6666666666666666, \"#ed7953\"], [0.7777777777777778, \"#fb9f3a\"], [0.8888888888888888, \"#fdca26\"], [1.0, \"#f0f921\"]], \"type\": \"surface\"}], \"table\": [{\"cells\": {\"fill\": {\"color\": \"#EBF0F8\"}, \"line\": {\"color\": \"white\"}}, \"header\": {\"fill\": {\"color\": \"#C8D4E3\"}, \"line\": {\"color\": \"white\"}}, \"type\": \"table\"}]}, \"layout\": {\"annotationdefaults\": {\"arrowcolor\": \"#2a3f5f\", \"arrowhead\": 0, \"arrowwidth\": 1}, \"coloraxis\": {\"colorbar\": {\"outlinewidth\": 0, \"ticks\": \"\"}}, \"colorscale\": {\"diverging\": [[0, \"#8e0152\"], [0.1, \"#c51b7d\"], [0.2, \"#de77ae\"], [0.3, \"#f1b6da\"], [0.4, \"#fde0ef\"], [0.5, \"#f7f7f7\"], [0.6, \"#e6f5d0\"], [0.7, \"#b8e186\"], [0.8, \"#7fbc41\"], [0.9, \"#4d9221\"], [1, \"#276419\"]], \"sequential\": [[0.0, \"#0d0887\"], [0.1111111111111111, \"#46039f\"], [0.2222222222222222, \"#7201a8\"], [0.3333333333333333, \"#9c179e\"], [0.4444444444444444, \"#bd3786\"], [0.5555555555555556, \"#d8576b\"], [0.6666666666666666, \"#ed7953\"], [0.7777777777777778, \"#fb9f3a\"], [0.8888888888888888, \"#fdca26\"], [1.0, \"#f0f921\"]], \"sequentialminus\": [[0.0, \"#0d0887\"], [0.1111111111111111, \"#46039f\"], [0.2222222222222222, \"#7201a8\"], [0.3333333333333333, \"#9c179e\"], [0.4444444444444444, \"#bd3786\"], [0.5555555555555556, \"#d8576b\"], [0.6666666666666666, \"#ed7953\"], [0.7777777777777778, \"#fb9f3a\"], [0.8888888888888888, \"#fdca26\"], [1.0, \"#f0f921\"]]}, \"colorway\": [\"#636efa\", \"#EF553B\", \"#00cc96\", \"#ab63fa\", \"#FFA15A\", \"#19d3f3\", \"#FF6692\", \"#B6E880\", \"#FF97FF\", \"#FECB52\"], \"font\": {\"color\": \"#2a3f5f\"}, \"geo\": {\"bgcolor\": \"white\", \"lakecolor\": \"white\", \"landcolor\": \"#E5ECF6\", \"showlakes\": true, \"showland\": true, \"subunitcolor\": \"white\"}, \"hoverlabel\": {\"align\": \"left\"}, \"hovermode\": \"closest\", \"mapbox\": {\"style\": \"light\"}, \"paper_bgcolor\": \"white\", \"plot_bgcolor\": \"#E5ECF6\", \"polar\": {\"angularaxis\": {\"gridcolor\": \"white\", \"linecolor\": \"white\", \"ticks\": \"\"}, \"bgcolor\": \"#E5ECF6\", \"radialaxis\": {\"gridcolor\": \"white\", \"linecolor\": \"white\", \"ticks\": \"\"}}, \"scene\": {\"xaxis\": {\"backgroundcolor\": \"#E5ECF6\", \"gridcolor\": \"white\", \"gridwidth\": 2, \"linecolor\": \"white\", \"showbackground\": true, \"ticks\": \"\", \"zerolinecolor\": \"white\"}, \"yaxis\": {\"backgroundcolor\": \"#E5ECF6\", \"gridcolor\": \"white\", \"gridwidth\": 2, \"linecolor\": \"white\", \"showbackground\": true, \"ticks\": \"\", \"zerolinecolor\": \"white\"}, \"zaxis\": {\"backgroundcolor\": \"#E5ECF6\", \"gridcolor\": \"white\", \"gridwidth\": 2, \"linecolor\": \"white\", \"showbackground\": true, \"ticks\": \"\", \"zerolinecolor\": \"white\"}}, \"shapedefaults\": {\"line\": {\"color\": \"#2a3f5f\"}}, \"ternary\": {\"aaxis\": {\"gridcolor\": \"white\", \"linecolor\": \"white\", \"ticks\": \"\"}, \"baxis\": {\"gridcolor\": \"white\", \"linecolor\": \"white\", \"ticks\": \"\"}, \"bgcolor\": \"#E5ECF6\", \"caxis\": {\"gridcolor\": \"white\", \"linecolor\": \"white\", \"ticks\": \"\"}}, \"title\": {\"x\": 0.05}, \"xaxis\": {\"automargin\": true, \"gridcolor\": \"white\", \"linecolor\": \"white\", \"ticks\": \"\", \"title\": {\"standoff\": 15}, \"zerolinecolor\": \"white\", \"zerolinewidth\": 2}, \"yaxis\": {\"automargin\": true, \"gridcolor\": \"white\", \"linecolor\": \"white\", \"ticks\": \"\", \"title\": {\"standoff\": 15}, \"zerolinecolor\": \"white\", \"zerolinewidth\": 2}}}, \"title\": {\"text\": \"Profit breakdown (Revenue - Cost) of Top 5 most profitable routes\"}, \"width\": 1000, \"xaxis\": {\"title\": {\"text\": \"(Carrier, Origin, Destination)\"}}, \"yaxis\": {\"title\": {\"text\": \"Dollar value (in thousands)\"}}},\n",
              "                        {\"responsive\": true}\n",
              "                    ).then(function(){\n",
              "                            \n",
              "var gd = document.getElementById('f432902c-9b2d-4b8e-8d26-14d7ef43e398');\n",
              "var x = new MutationObserver(function (mutations, observer) {{\n",
              "        var display = window.getComputedStyle(gd).display;\n",
              "        if (!display || display === 'none') {{\n",
              "            console.log([gd, 'removed!']);\n",
              "            Plotly.purge(gd);\n",
              "            observer.disconnect();\n",
              "        }}\n",
              "}});\n",
              "\n",
              "// Listen for the removal of the full notebook cells\n",
              "var notebookContainer = gd.closest('#notebook-container');\n",
              "if (notebookContainer) {{\n",
              "    x.observe(notebookContainer, {childList: true});\n",
              "}}\n",
              "\n",
              "// Listen for the clearing of the current output cell\n",
              "var outputEl = gd.closest('.output');\n",
              "if (outputEl) {{\n",
              "    x.observe(outputEl, {childList: true});\n",
              "}}\n",
              "\n",
              "                        })\n",
              "                };\n",
              "                \n",
              "            </script>\n",
              "        </div>\n",
              "</body>\n",
              "</html>"
            ]
          },
          "metadata": {}
        }
      ]
    },
    {
      "cell_type": "markdown",
      "metadata": {
        "id": "JVnTRdYSi8ku"
      },
      "source": [
        "From the plot above, the most profitable routes are :\n",
        "- DEN $\\rightarrow$ DAY\n",
        "- DFW $\\rightarrow$ BDL\n",
        "- MSP $\\rightarrow$ CWA\n",
        "- CLT $\\rightarrow$ RDU\n",
        "- EYW $\\rightarrow$ ATL\n",
        "\n",
        "Insights:<br>\n",
        "- Asset utilization is an important factor for a smaller carrier, the company can work on running more flights every day on lower margin routes and less busy routes.\n",
        "- As demand on the route can vary highly, it could be risky in Case 1 to lose demand and huge revenue can be lost by even missing a single flight.\n",
        "\n",
        "Key factors focussed on:<br>\n",
        "- Higher Margin with more number of flights\n"
      ]
    },
    {
      "cell_type": "markdown",
      "metadata": {
        "id": "Mimj_tc8MM67"
      },
      "source": [
        "## **The number of round trip flights it will take to breakeven on the upfront airplane cost for each of the 5 round trip routes**"
      ]
    },
    {
      "cell_type": "markdown",
      "metadata": {
        "id": "CmgxYq-7SM1x"
      },
      "source": [
        "**According to my suggestions, the breakeven calculation is as follows:**<br>\n",
        "The BreakEvenNumber calculated shows the number of flights a carrier needs to make in order to reach to the breakeven cost."
      ]
    },
    {
      "cell_type": "markdown",
      "metadata": {
        "id": "oOREdtTuj8Pc"
      },
      "source": [
        "#### **Case 1**"
      ]
    },
    {
      "cell_type": "code",
      "metadata": {
        "colab": {
          "base_uri": "https://localhost:8080/",
          "height": 202
        },
        "id": "sRlhjFi1QpaD",
        "outputId": "bbf95899-c075-4261-d6f4-e54ffd406d9a"
      },
      "source": [
        "top5_case1[[\"ORIGIN\",\"DESTINATION\",\"breakEvenNumber\",\"busiest_roundTrips\"]].head()"
      ],
      "execution_count": null,
      "outputs": [
        {
          "output_type": "execute_result",
          "data": {
            "text/html": [
              "<div>\n",
              "<style scoped>\n",
              "    .dataframe tbody tr th:only-of-type {\n",
              "        vertical-align: middle;\n",
              "    }\n",
              "\n",
              "    .dataframe tbody tr th {\n",
              "        vertical-align: top;\n",
              "    }\n",
              "\n",
              "    .dataframe thead th {\n",
              "        text-align: right;\n",
              "    }\n",
              "</style>\n",
              "<table border=\"1\" class=\"dataframe\">\n",
              "  <thead>\n",
              "    <tr style=\"text-align: right;\">\n",
              "      <th></th>\n",
              "      <th>ORIGIN</th>\n",
              "      <th>DESTINATION</th>\n",
              "      <th>breakEvenNumber</th>\n",
              "      <th>busiest_roundTrips</th>\n",
              "    </tr>\n",
              "  </thead>\n",
              "  <tbody>\n",
              "    <tr>\n",
              "      <th>0</th>\n",
              "      <td>EGE</td>\n",
              "      <td>JFK</td>\n",
              "      <td>226.991029</td>\n",
              "      <td>57</td>\n",
              "    </tr>\n",
              "    <tr>\n",
              "      <th>1</th>\n",
              "      <td>HNL</td>\n",
              "      <td>GUM</td>\n",
              "      <td>259.512847</td>\n",
              "      <td>88</td>\n",
              "    </tr>\n",
              "    <tr>\n",
              "      <th>2</th>\n",
              "      <td>DEN</td>\n",
              "      <td>DAY</td>\n",
              "      <td>314.193810</td>\n",
              "      <td>169</td>\n",
              "    </tr>\n",
              "    <tr>\n",
              "      <th>3</th>\n",
              "      <td>KOA</td>\n",
              "      <td>DFW</td>\n",
              "      <td>328.779902</td>\n",
              "      <td>44</td>\n",
              "    </tr>\n",
              "    <tr>\n",
              "      <th>4</th>\n",
              "      <td>GUM</td>\n",
              "      <td>HNL</td>\n",
              "      <td>398.188437</td>\n",
              "      <td>89</td>\n",
              "    </tr>\n",
              "  </tbody>\n",
              "</table>\n",
              "</div>"
            ],
            "text/plain": [
              "  ORIGIN DESTINATION  breakEvenNumber  busiest_roundTrips\n",
              "0    EGE         JFK       226.991029                  57\n",
              "1    HNL         GUM       259.512847                  88\n",
              "2    DEN         DAY       314.193810                 169\n",
              "3    KOA         DFW       328.779902                  44\n",
              "4    GUM         HNL       398.188437                  89"
            ]
          },
          "metadata": {},
          "execution_count": 100
        }
      ]
    },
    {
      "cell_type": "markdown",
      "metadata": {
        "id": "6Cv2_IbKkDSp"
      },
      "source": [
        "#### **Case 2**"
      ]
    },
    {
      "cell_type": "code",
      "metadata": {
        "colab": {
          "base_uri": "https://localhost:8080/",
          "height": 202
        },
        "id": "UhQUGsMVPeuO",
        "scrolled": true,
        "outputId": "421bf496-0aa5-45d1-aff2-aae89c920a91"
      },
      "source": [
        "top5_case2[[\"ORIGIN\",\"DESTINATION\",\"breakEvenNumber\",\"busiest_roundTrips\",\"possible_trips/Quarter\",\"numberQuarterToBreakeven\"]].head()"
      ],
      "execution_count": null,
      "outputs": [
        {
          "output_type": "execute_result",
          "data": {
            "text/html": [
              "<div>\n",
              "<style scoped>\n",
              "    .dataframe tbody tr th:only-of-type {\n",
              "        vertical-align: middle;\n",
              "    }\n",
              "\n",
              "    .dataframe tbody tr th {\n",
              "        vertical-align: top;\n",
              "    }\n",
              "\n",
              "    .dataframe thead th {\n",
              "        text-align: right;\n",
              "    }\n",
              "</style>\n",
              "<table border=\"1\" class=\"dataframe\">\n",
              "  <thead>\n",
              "    <tr style=\"text-align: right;\">\n",
              "      <th></th>\n",
              "      <th>ORIGIN</th>\n",
              "      <th>DESTINATION</th>\n",
              "      <th>breakEvenNumber</th>\n",
              "      <th>busiest_roundTrips</th>\n",
              "      <th>possible_trips/Quarter</th>\n",
              "      <th>numberQuarterToBreakeven</th>\n",
              "    </tr>\n",
              "  </thead>\n",
              "  <tbody>\n",
              "    <tr>\n",
              "      <th>2</th>\n",
              "      <td>DEN</td>\n",
              "      <td>DAY</td>\n",
              "      <td>314.193810</td>\n",
              "      <td>169</td>\n",
              "      <td>96.265823</td>\n",
              "      <td>3.263815</td>\n",
              "    </tr>\n",
              "    <tr>\n",
              "      <th>622</th>\n",
              "      <td>DFW</td>\n",
              "      <td>BDL</td>\n",
              "      <td>932.232498</td>\n",
              "      <td>421</td>\n",
              "      <td>250.927152</td>\n",
              "      <td>3.715152</td>\n",
              "    </tr>\n",
              "    <tr>\n",
              "      <th>96</th>\n",
              "      <td>MSP</td>\n",
              "      <td>CWA</td>\n",
              "      <td>663.291251</td>\n",
              "      <td>189</td>\n",
              "      <td>175.360825</td>\n",
              "      <td>3.782437</td>\n",
              "    </tr>\n",
              "    <tr>\n",
              "      <th>6</th>\n",
              "      <td>CLT</td>\n",
              "      <td>RDU</td>\n",
              "      <td>420.511230</td>\n",
              "      <td>780</td>\n",
              "      <td>96.561210</td>\n",
              "      <td>4.354867</td>\n",
              "    </tr>\n",
              "    <tr>\n",
              "      <th>21</th>\n",
              "      <td>EYW</td>\n",
              "      <td>ATL</td>\n",
              "      <td>499.862704</td>\n",
              "      <td>479</td>\n",
              "      <td>110.822622</td>\n",
              "      <td>4.510475</td>\n",
              "    </tr>\n",
              "  </tbody>\n",
              "</table>\n",
              "</div>"
            ],
            "text/plain": [
              "    ORIGIN DESTINATION  ...  possible_trips/Quarter  numberQuarterToBreakeven\n",
              "2      DEN         DAY  ...               96.265823                  3.263815\n",
              "622    DFW         BDL  ...              250.927152                  3.715152\n",
              "96     MSP         CWA  ...              175.360825                  3.782437\n",
              "6      CLT         RDU  ...               96.561210                  4.354867\n",
              "21     EYW         ATL  ...              110.822622                  4.510475\n",
              "\n",
              "[5 rows x 6 columns]"
            ]
          },
          "metadata": {},
          "execution_count": 101
        }
      ]
    },
    {
      "cell_type": "markdown",
      "metadata": {
        "id": "7Zk3dIBiXPf5"
      },
      "source": [
        "Considering both cases, it would require more number of flights (breakEvenNumber) to reach the breakeven point when the margins are lower for each trip (case 2). In that case, with the possible trips per quarter rate, it would require about 3-4 quarters to reach the breakeven point. "
      ]
    },
    {
      "cell_type": "markdown",
      "metadata": {
        "id": "zis7KlejL_fp"
      },
      "source": [
        "## **Key Performance Indicators (KPI’s) that I would recommend tracking in the future to measure the success of the round trip routes**"
      ]
    },
    {
      "cell_type": "markdown",
      "metadata": {
        "id": "9u-jSz6AMqRj"
      },
      "source": [
        "- **Number of round trip flights:** As seen in Case 2 analysis, the company can yeild higher profits if they run more number of flights per day for the profitable routes. The company can use the higher frequency of flights along with shorter distances to rack up more revenue and get themselves ahead in the game.  \n",
        "\n",
        "- **Occupancy Rate:** If occupancy rate is high, the airline could bring in more ticket revenue as well as baggage revenue. Therefore, it is important to track the occupancy rate for every round trip.\n",
        "\n",
        "- **Distance:** Distance is a key factor that should be taken into account. Coming into this new industry the airline might want to focus on the samller routes in the beginning. The idea behind selecting shorter routes is that the fare is not proportional to distance and they can generate significant revenue using that."
      ]
    },
    {
      "cell_type": "markdown",
      "metadata": {
        "id": "C5e7sVRXlOqh"
      },
      "source": [
        "## **Conclusion**"
      ]
    },
    {
      "cell_type": "markdown",
      "metadata": {
        "id": "JEkFsP4fhosT"
      },
      "source": [
        "The airline business can be very lucrative if key factors are identified and focussed on. Since the company is very new in the business, they definitely need to see how their competitors are operating ad performing in different markets. That is what this analysis has focussed on. \n",
        "\n",
        "**Overall Analysis and my recommendations:**\n",
        "\n",
        "- Considering all the key components such as distance, fare, occupancy, profit per flight and number of roundtrips per day, also taking into account the initial investment of $90 million for 5 planes only, it can be said that the company can generate good revenue if they focus on Origin-Destination pairs having higher foot traffic and higher number of round trips per day per carrier! In that case, I would suggest considering round trips for the routes in Case 2. \n",
        "\n",
        "- More number of flights can really benefit from high occupancy rates from these location pairs as well as low maintenance costs for covering shorter distances, which would drive the profit margins higher!\n",
        "\n",
        "- There are smaller key factors such as air time that can help us determine how many round trips the airline can make per day to maximize their profits."
      ]
    },
    {
      "cell_type": "markdown",
      "metadata": {
        "id": "7MULcBJXlVNT"
      },
      "source": [
        "## **Future Scopes**"
      ]
    },
    {
      "cell_type": "markdown",
      "metadata": {
        "id": "rj2MZhFPo-Wk"
      },
      "source": [
        "- The accuracy of the analysis can be improved if the actual number of ticket data can be provided\n",
        "- A more generalized calculation of profits can be done, not considering groupwise calculations for airline carriers, which would give us better numbers for the overall market routes\n",
        "- If actual profit values can be attained, statistical analysis like feature importance, hypothesis testing etc. can be performed to understand KPIs better "
      ]
    },
    {
      "cell_type": "markdown",
      "metadata": {
        "id": "gMRnfdDgXPf7"
      },
      "source": [
        "## **Metadata Created**"
      ]
    },
    {
      "cell_type": "markdown",
      "metadata": {
        "id": "_Ddjiq1jXPf7"
      },
      "source": [
        "- **roundTripRoute**: Flight routes from A to B and B to A\n",
        "- **FOMC**: Fuel, Oil, Maintenance, Crew costs calculated using 2*8*distance\n",
        "- **DIO**: Depreciation, Insurance, Other Costs calculated using 2*1.18*distance\n",
        "- **AOC**: Airport operational costs calculated by Origin and Destination landing drop off costs for medium($5000) and large($10000) airport respectively\n",
        "- **DELAY_COST**: Arrival+Departure Delay Costs\n",
        "- **n_passengers**: Number of passengers occupying the flight calculated using OCCUPANCY_RATEx200 (200 seating capacity of boeing)\n",
        "- **baggage_fee**: n_passengers*0.50*70 (50% of passengers having extra baggage fee cost of $70 for a roundtrip)\n",
        "- **fare**: Total fare for each round trip flight calculated using n_passengersxITIN_FARE\n",
        "- **total_revenue**: Includes baggage fees and fare for each round trip\n",
        "- **total_cost**: Includes FOMC, DIO, AOC and delay costs for each round trip\n",
        "- **profit**: Subtracted value of total_revenue and total_costs\n",
        "- **busiest_roundTrips**: Number of round trip flights from A to B and B to A combined (lower value of each way count)\n",
        "- **avgDailyTrip**: Total round trips for one single flight, calculated for each flight using tail_number.  \n",
        "- **breakEvenNumber**: Number of round trips required to cover the initial investement of 90 million\n",
        "- **RoundTrips_perday**: Total round trips per day(i.e. the busiest_roundTrips divided by 90)\n",
        "- **Suggestedroundtrips**: Suggested values of round trips based on air_time. For air_time around 2hours, 3 trips are suggested, for air_time about 3-4hours or more, 2 trips are suggested, and for air_time greater than 4hours, 1 trip is suggested.\n",
        "- **DaysToBreakEven**: Number of days required for each round trip route flight to reach the breakeven point \n",
        "- **possible_trips/Quarter**: Number of flights possible to run in a quiarter, calcuated by using average daily trips multiplied by 90 for the quarter.\n",
        "- **numberQuarterToBreakeven**: Quarters required to reach breakeven number"
      ]
    }
  ]
}